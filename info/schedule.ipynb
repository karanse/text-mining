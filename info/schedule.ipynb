{
 "cells": [
  {
   "cell_type": "markdown",
   "metadata": {},
   "source": [
    "# Schedule\n",
    "\n",
    "- For groups 3 and 4 (DSBG).\n",
    "- 04-09-2016 (subject to change – always check the latest version!)\n",
    "\n",
    "| Dates | Titles | Topics | Assignments | Deadlines | % |\n",
    "| ---- | ----- | ------ | ----------- | ----| ---- |\n",
    "| 06-09  | **Introduction to Text Mining & Search** | Explaining the content of position of the field, its general applications, and research challenges. <br><br> Draw the relation between classification and search, and their relevances to Text Mining. <br><br> Jupyter Notebook + Regex. | Introduction to Jupyter notebooks, Markdown, basic operations and specifically its integration with Python. <br><br> Regex exerices: read web documents, find patterns; words, numbers, emails, URLs, hashtags. <br><br> | 11-09 | 10% |\n",
    "| 13-09 | **Preprocessing Corpora** | Constructing dictionaries by tokenization, filtering through top-n words, normalization, lemmatization, POS tagging. | Tweet length (incl. arising issues), language identification, TTR, compare own solutions to SpaCy. Graphing output in Jupyter. |   | |\n",
    "| 20-09 | **Vector Space Retrieval** | Generating textual vectors through word frequencies, weighting with document frequencies. Finding documents in a corpus through vector distances. | Calculate $TF * IDF$ by hand, understand the concept of Vector Spaces and distances. Query movies from subtitles. | 25-09 | 20% |\n",
    "| 27-09 | **Distributed Semantics** | Other forms of feature respresentation beyond word counts (n-grams, cbow, skip-grams, word2vec). | Gensim, word similarities, compare corpora and their effect on semantic similarity tasks. |   | |\n",
    "| 04-10 | **Document Classification** | Use feature spaces and labelled documents to train a spam filter. Understand how KNN uses the space for this purpose. Evaluation and generalization importance. | Scikit-learn & WEKA examples. Use different pipeline elements to build the classifier, see how it affects performance. Test how novel test data affects your expectations. | 09-10 | 20% |\n",
    "| 11-10 | **Annotation & Datasets** | Understand annotation process, inter-rater agreement, and pro’s / cons in comparison with unsupervised models. Multi-class and multi-label tasks. Consider ontologies (WordNet, Babelnet). |  Improve classification performance by annotating your own data. Swap annotations with a partner, calculate inter-rater agreement. Use WordNet to ‘rewrite’ texts. | | |\n",
    "| 18-10 | **Advanced Applications** | NER, Sentiment Analysis, (Supervised) Topic Modelling, …, consultation on group assignment. | | | 50% |\n",
    "\n",
    "\n",
    "## Deadlines\n",
    "\n",
    "The dates specified above imply that any assignment should be handed in **BEFORE** 23:59 **ON** the date specified."
   ]
  }
 ],
 "metadata": {
  "kernelspec": {
   "display_name": "Python 3",
   "language": "python",
   "name": "python3"
  },
  "language_info": {
   "codemirror_mode": {
    "name": "ipython",
    "version": 3
   },
   "file_extension": ".py",
   "mimetype": "text/x-python",
   "name": "python",
   "nbconvert_exporter": "python",
   "pygments_lexer": "ipython3",
   "version": "3.5.2"
  }
 },
 "nbformat": 4,
 "nbformat_minor": 0
}
