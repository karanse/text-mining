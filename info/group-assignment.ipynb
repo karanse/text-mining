{
 "cells": [
  {
   "cell_type": "markdown",
   "metadata": {},
   "source": [
    "## Group Assignment\n",
    "\n",
    "### General Goal\n",
    "\n",
    "- Proposal (~15 pages) for an innovative, useful application that uses text mining.\n",
    "\n",
    "- This can be: website, app, service, but also an experiment.\n",
    "\n",
    "### Set-up\n",
    "\n",
    "- Send an email to c.d.emmery@uvt.nl before this Thursday 23:59 to register as either a group (5 persons) or single student.\n",
    "- If you're a group: please list your names.\n",
    "- If you're a student: you will be matched.\n",
    "- You can collaborate with the other timeslot.\n",
    "- The group will be graded as one.\n",
    "- Deadline: 26th of October, 23:59h.\n",
    "\n",
    "### Outline\n",
    "\n",
    "- Abstract\n",
    "- Introduction: explain the need for this application or experiment (your proposal should be original).\n",
    "- Description of technical approach (methodology):\n",
    "    - Which techniques (general names, not specific libraries) will you use, and why? \n",
    "    - Use at least three different techniques **that work well together**.\n",
    "    - What kind of data will you use? How will you obtain those? What information will you use?\n",
    "    - Explain and motivate the pipeline (e.g. cleaning, parsing, weighting).\n",
    "- Discussion (including limitations and expected problems) and conclusion."
   ]
  }
 ],
 "metadata": {
  "kernelspec": {
   "display_name": "Python 3",
   "language": "python",
   "name": "python3"
  },
  "language_info": {
   "codemirror_mode": {
    "name": "ipython",
    "version": 3
   },
   "file_extension": ".py",
   "mimetype": "text/x-python",
   "name": "python",
   "nbconvert_exporter": "python",
   "pygments_lexer": "ipython3",
   "version": "3.5.2"
  }
 },
 "nbformat": 4,
 "nbformat_minor": 0
}
