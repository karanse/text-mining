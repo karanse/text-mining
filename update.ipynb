{
 "cells": [
  {
   "cell_type": "markdown",
   "metadata": {},
   "source": [
    "# Updating the Repository\n",
    "\n",
    "GitHub provides pretty nice functionality to keep the files for the course up-to-date (also after changes happenend). If you work on Mac, Linux, or JupyterHub, this process is very easy. Basically you can `clone` (i.e. download) the location where the material is. First, make sure you have `git` installed (open up terminal and type `git`). After, you can run the following cell in the directory where you want to have the `text-mining` course placed: "
   ]
  },
  {
   "cell_type": "code",
   "execution_count": 1,
   "metadata": {
    "collapsed": false
   },
   "outputs": [
    {
     "name": "stdout",
     "output_type": "stream",
     "text": [
      "Cloning into 'text-mining'...\n",
      "remote: Counting objects: 125, done.\u001b[K\n",
      "remote: Compressing objects: 100% (58/58), done.\u001b[K\n",
      "remote: Total 125 (delta 19), reused 0 (delta 0), pack-reused 65\u001b[K\n",
      "Receiving objects: 100% (125/125), 1.35 MiB | 0 bytes/s, done.\n",
      "Resolving deltas: 100% (33/33), done.\n",
      "Checking connectivity... done.\n"
     ]
    }
   ],
   "source": [
    "!git clone https://github.com/tcsai/text-mining"
   ]
  },
  {
   "cell_type": "markdown",
   "metadata": {},
   "source": [
    "And you're done! All materials, data, notebooks, everything conveniently on your system. This is a one-time operation though (cloning). After, you can 'update' the existing materials with the latest changes, simply by running:"
   ]
  },
  {
   "cell_type": "code",
   "execution_count": 3,
   "metadata": {
    "collapsed": false
   },
   "outputs": [
    {
     "name": "stdout",
     "output_type": "stream",
     "text": [
      "[Errno 2] No such file or directory: './text-mining'\n",
      "/home/chris/Documents/text-mining/text-mining\n",
      "No local changes to save\n",
      "Already up-to-date.\n",
      "No stash found.\n"
     ]
    }
   ],
   "source": [
    "%cd ./text-mining\n",
    "!git stash\n",
    "!git pull\n",
    "!git stash apply"
   ]
  },
  {
   "cell_type": "markdown",
   "metadata": {},
   "source": [
    "**THIS MIGHT FAIL, BE SURE TO ALWAYS HAVE A BACK-UP OF YOUR EXCERSISES THAT IS NOT IN THIS DIRECTORY!!!**"
   ]
  }
 ],
 "metadata": {
  "kernelspec": {
   "display_name": "Python 3",
   "language": "python",
   "name": "python3"
  },
  "language_info": {
   "codemirror_mode": {
    "name": "ipython",
    "version": 3
   },
   "file_extension": ".py",
   "mimetype": "text/x-python",
   "name": "python",
   "nbconvert_exporter": "python",
   "pygments_lexer": "ipython3",
   "version": "3.5.2"
  }
 },
 "nbformat": 4,
 "nbformat_minor": 0
}
