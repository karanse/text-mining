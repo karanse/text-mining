{
 "cells": [
  {
   "cell_type": "markdown",
   "metadata": {},
   "source": [
    "# Exercises for Text Mining Lesson 1: Using the notebook\n",
    "\n",
    "To give everyone a fair grade, it is important that you do the exercises on your own. \n",
    "\n",
    "When you are finished, save the notebook, append the first part of your e-mail address to the end of the filename, and send it back to your instructor.\n",
    "\n",
    "For instance if your email address is J.A.A.Engelen@tilburguniversity.edu, name this file TM1_Exercises_J.A.A.Engelen."
   ]
  },
  {
   "cell_type": "markdown",
   "metadata": {},
   "source": [
    "## Exercise 1\n",
    "\n",
    "1. Insert a cell below the current one\n",
    "2. In that cell, write one or more of your favourite quotes.\n",
    "3. Use four Markdown techniques of your choice to format the text in the cell you made. "
   ]
  },
  {
   "cell_type": "code",
   "execution_count": 1,
   "metadata": {
    "collapsed": false
   },
   "outputs": [
    {
     "ename": "SyntaxError",
     "evalue": "invalid syntax (<ipython-input-1-dc9d9501a0b7>, line 2)",
     "output_type": "error",
     "traceback": [
      "\u001b[0;36m  File \u001b[0;32m\"<ipython-input-1-dc9d9501a0b7>\"\u001b[0;36m, line \u001b[0;32m2\u001b[0m\n\u001b[0;31m    1. Run this cell and observe what happens.\u001b[0m\n\u001b[0m         ^\u001b[0m\n\u001b[0;31mSyntaxError\u001b[0m\u001b[0;31m:\u001b[0m invalid syntax\n"
     ]
    }
   ],
   "source": [
    "## Exercise 2\n",
    "1. Run this cell and observe what happens. \n",
    "2. Insert a cell below this one explaining the problem and what you can do to correct it."
   ]
  },
  {
   "cell_type": "markdown",
   "metadata": {},
   "source": [
    "## Exercise 3\n",
    "Insert a cell below the current one that executes the following Python code:\n",
    "\n",
    "```print(\"I love text mining, and these exercises are easy\")```"
   ]
  },
  {
   "cell_type": "markdown",
   "metadata": {},
   "source": [
    "## Exercise 4\n",
    "Insert a code cell below in which you instruct Python to \n",
    "\n",
    "+ print one of your favourite quotes\n",
    "+ print the quote completely in lowercase\n",
    "+ print the quote completely in uppercase\n",
    "+ print the quote in reverse\n",
    "+ print only the first half of the quote (count all the characters including whitespace to determine what is half)\n",
    "\n",
    "Use the [Python3 documentation](https://docs.python.org/3/)  to find out how to perform these operations."
   ]
  },
  {
   "cell_type": "markdown",
   "metadata": {},
   "source": [
    "## Exercise 5\n",
    "Insert a cell below that uses Markdown to obtain a result that matches the text in the following image as closely as possible."
   ]
  },
  {
   "cell_type": "code",
   "execution_count": null,
   "metadata": {
    "collapsed": true
   },
   "outputs": [],
   "source": []
  }
 ],
 "metadata": {
  "kernelspec": {
   "display_name": "Python 3",
   "language": "python",
   "name": "python3"
  },
  "language_info": {
   "codemirror_mode": {
    "name": "ipython",
    "version": 3
   },
   "file_extension": ".py",
   "mimetype": "text/x-python",
   "name": "python",
   "nbconvert_exporter": "python",
   "pygments_lexer": "ipython3",
   "version": "3.5.0"
  }
 },
 "nbformat": 4,
 "nbformat_minor": 1
}
