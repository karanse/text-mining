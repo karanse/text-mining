{
 "cells": [
  {
   "cell_type": "markdown",
   "metadata": {
    "slideshow": {
     "slide_type": "slide"
    }
   },
   "source": [
    "# Text Mining\n",
    "\n",
    "# Lecture 2: Preprocessing Corpora\n",
    "\n",
    "<br><br>\n",
    "<center>\n",
    "![img](http://cdn2.hubspot.net/hub/207714/file-22776057-gif/images/marketsphere-data-quality.gif?t=1424881482800)\n",
    "</center>"
   ]
  },
  {
   "cell_type": "markdown",
   "metadata": {
    "slideshow": {
     "slide_type": "slide"
    }
   },
   "source": [
    "## Garbage In, Garbage Out"
   ]
  },
  {
   "cell_type": "markdown",
   "metadata": {
    "slideshow": {
     "slide_type": "subslide"
    }
   },
   "source": [
    "### What is Good Data?"
   ]
  },
  {
   "cell_type": "code",
   "execution_count": 1,
   "metadata": {
    "collapsed": false,
    "slideshow": {
     "slide_type": "fragment"
    }
   },
   "outputs": [
    {
     "data": {
      "text/plain": [
       "'the moral preferences of those who use them (just the way one learns about consumer preferences) and then be programmed to heed these preferences.[251]\\nIn fiction[edit]\\n\\nThe implications of artificial intelligence have been a persistent theme in science fiction. Early stories typically revolved around intelligent robots. The word \"robot\" itself was coined by Karel Čapek in his 1921 play R.U.R., the title standing for \"Rossum\\'s Universal Robots\". Later, the SF writer Isaac Asimov developed the Three Laws of Robotics which he subsequently explored in a long series of robot stories. These laws have since gained some traction in genuine AI research.\\n\\nOther influential fictional intelligences include HAL, the computer in charge of the spaceship in 2001: A Space Odyssey, released as both a film and a book in 1968 and written by Arthur C. Clarke.\\n\\nAI has since become firmly rooted in popular culture and is in many films, such as The Terminator (1984) and A.I. Artificial Intelligence (2001).\\n\\n'"
      ]
     },
     "execution_count": 1,
     "metadata": {},
     "output_type": "execute_result"
    }
   ],
   "source": [
    "open('../Week 1 - Introduction/data/artificial-intelligence.txt').read()[-1000:]"
   ]
  },
  {
   "cell_type": "code",
   "execution_count": 2,
   "metadata": {
    "collapsed": false,
    "slideshow": {
     "slide_type": "fragment"
    }
   },
   "outputs": [
    {
     "data": {
      "text/plain": [
       "'\\n<!doctype html><!-- (c) 1998 - 2016 de Persgroep Online Services B.V. -->\\n<html lang=\"NL\">\\n\\t<head>\\n\\t\\t<meta http-equiv=\"content-type\" content=\"text/html; charset=iso-8859-15\">\\n\\t\\t<meta name=\"referrer\" content=\"origin-when-cross-origin\">\\n\\t\\t<meta name=\"viewport\" content=\"width=device-width\">\\n\\t\\t<meta name=\"description\" content=\"Acer onthulde op IFA een nieuwe lijn notebooks onder de naam Swift. Volgens de fabrikant is het 13,3&quot; Swift 7-model de dunste notebook van dit moment.\">\\n\\t\\t<meta property=\"fb:app_id\" content=\"188199811217403\">\\n\\t\\t<meta property=\"og:site_name\" content=\"Tweakers\">\\n\\t\\t<meta property=\"og:locale\" content=\"nl_NL\">\\n\\t\\t<meta property=\"og:type\" content=\"article\">\\n\\t\\t<meta property=\"og:title\" content=\"Acer Swift 7 Preview: de dunste 13,3&quot;-notebook ooit\">\\n\\t\\t<meta property=\"og:url\" content=\"https://tweakers.net/reviews/4867/acer-swift-7-preview-de-dunste-13-komma-3-inch-notebook-ooit.html\">\\n\\t\\t<meta property=\"og:description\" content=\"Acer onthulde op IFA een nieuwe lijn not'"
      ]
     },
     "execution_count": 2,
     "metadata": {},
     "output_type": "execute_result"
    }
   ],
   "source": [
    "open('../Week 1 - Introduction/data/acer-swift.html').read()[:1000]"
   ]
  },
  {
   "cell_type": "markdown",
   "metadata": {
    "slideshow": {
     "slide_type": "subslide"
    }
   },
   "source": [
    "### Interpreting your Formats\n",
    "\n",
    "- HTML: `urllib3, beautifulsoup`\n",
    "- XML: `beautifulsoup`\n",
    "- CSV: `csv`\n",
    "- JSON: `json`\n",
    "\n",
    "\n",
    "- Plain-text: `?`"
   ]
  },
  {
   "cell_type": "markdown",
   "metadata": {
    "slideshow": {
     "slide_type": "subslide"
    }
   },
   "source": [
    "### CSV"
   ]
  },
  {
   "cell_type": "code",
   "execution_count": 3,
   "metadata": {
    "collapsed": false
   },
   "outputs": [
    {
     "name": "stdout",
     "output_type": "stream",
     "text": [
      "['1', '0', '3', 'Braund - Mr. Owen Harris', 'male', '22', '1', '0', 'A/5 21171', '7.25', '?', 'S']\n",
      "Braund - Mr. Owen Harris\n",
      "\n",
      "Braund - Mr. Owen Harris\n"
     ]
    },
    {
     "data": {
      "text/html": [
       "<div>\n",
       "<table border=\"1\" class=\"dataframe\">\n",
       "  <thead>\n",
       "    <tr style=\"text-align: right;\">\n",
       "      <th></th>\n",
       "      <th>PassengerId</th>\n",
       "      <th>Survived</th>\n",
       "      <th>Pclass</th>\n",
       "      <th>Name</th>\n",
       "      <th>Sex</th>\n",
       "      <th>Age</th>\n",
       "      <th>SibSp</th>\n",
       "      <th>Parch</th>\n",
       "      <th>Ticket</th>\n",
       "      <th>Fare</th>\n",
       "      <th>Cabin</th>\n",
       "      <th>'\"Embarked\"</th>\n",
       "    </tr>\n",
       "  </thead>\n",
       "  <tbody>\n",
       "    <tr>\n",
       "      <th>0</th>\n",
       "      <td>1</td>\n",
       "      <td>0</td>\n",
       "      <td>3</td>\n",
       "      <td>Braund - Mr. Owen Harris</td>\n",
       "      <td>male</td>\n",
       "      <td>22</td>\n",
       "      <td>1</td>\n",
       "      <td>0</td>\n",
       "      <td>A/5 21171</td>\n",
       "      <td>7.2500</td>\n",
       "      <td>?</td>\n",
       "      <td>S</td>\n",
       "    </tr>\n",
       "    <tr>\n",
       "      <th>1</th>\n",
       "      <td>2</td>\n",
       "      <td>1</td>\n",
       "      <td>1</td>\n",
       "      <td>Cumings - Mrs. John Bradley (Florence Briggs T...</td>\n",
       "      <td>female</td>\n",
       "      <td>38</td>\n",
       "      <td>1</td>\n",
       "      <td>0</td>\n",
       "      <td>PC 17599</td>\n",
       "      <td>71.2833</td>\n",
       "      <td>C85</td>\n",
       "      <td>C</td>\n",
       "    </tr>\n",
       "    <tr>\n",
       "      <th>2</th>\n",
       "      <td>3</td>\n",
       "      <td>1</td>\n",
       "      <td>3</td>\n",
       "      <td>Heikkinen - Miss. Laina</td>\n",
       "      <td>female</td>\n",
       "      <td>26</td>\n",
       "      <td>0</td>\n",
       "      <td>0</td>\n",
       "      <td>STON/O2. 3101282</td>\n",
       "      <td>7.9250</td>\n",
       "      <td>?</td>\n",
       "      <td>S</td>\n",
       "    </tr>\n",
       "    <tr>\n",
       "      <th>3</th>\n",
       "      <td>4</td>\n",
       "      <td>1</td>\n",
       "      <td>1</td>\n",
       "      <td>Futrelle - Mrs. Jacques Heath (Lily May Peel)</td>\n",
       "      <td>female</td>\n",
       "      <td>35</td>\n",
       "      <td>1</td>\n",
       "      <td>0</td>\n",
       "      <td>113803</td>\n",
       "      <td>53.1000</td>\n",
       "      <td>C123</td>\n",
       "      <td>S</td>\n",
       "    </tr>\n",
       "    <tr>\n",
       "      <th>4</th>\n",
       "      <td>5</td>\n",
       "      <td>0</td>\n",
       "      <td>3</td>\n",
       "      <td>Allen - Mr. William Henry</td>\n",
       "      <td>male</td>\n",
       "      <td>35</td>\n",
       "      <td>0</td>\n",
       "      <td>0</td>\n",
       "      <td>373450</td>\n",
       "      <td>8.0500</td>\n",
       "      <td>?</td>\n",
       "      <td>S</td>\n",
       "    </tr>\n",
       "    <tr>\n",
       "      <th>5</th>\n",
       "      <td>6</td>\n",
       "      <td>0</td>\n",
       "      <td>3</td>\n",
       "      <td>Moran - Mr. James</td>\n",
       "      <td>male</td>\n",
       "      <td>?</td>\n",
       "      <td>0</td>\n",
       "      <td>0</td>\n",
       "      <td>330877</td>\n",
       "      <td>8.4583</td>\n",
       "      <td>?</td>\n",
       "      <td>Q</td>\n",
       "    </tr>\n",
       "    <tr>\n",
       "      <th>6</th>\n",
       "      <td>7</td>\n",
       "      <td>0</td>\n",
       "      <td>1</td>\n",
       "      <td>McCarthy - Mr. Timothy J</td>\n",
       "      <td>male</td>\n",
       "      <td>54</td>\n",
       "      <td>0</td>\n",
       "      <td>0</td>\n",
       "      <td>17463</td>\n",
       "      <td>51.8625</td>\n",
       "      <td>E46</td>\n",
       "      <td>S</td>\n",
       "    </tr>\n",
       "    <tr>\n",
       "      <th>7</th>\n",
       "      <td>8</td>\n",
       "      <td>0</td>\n",
       "      <td>3</td>\n",
       "      <td>Palsson - Master. Gosta Leonard</td>\n",
       "      <td>male</td>\n",
       "      <td>2</td>\n",
       "      <td>3</td>\n",
       "      <td>1</td>\n",
       "      <td>349909</td>\n",
       "      <td>21.0750</td>\n",
       "      <td>?</td>\n",
       "      <td>S</td>\n",
       "    </tr>\n",
       "    <tr>\n",
       "      <th>8</th>\n",
       "      <td>9</td>\n",
       "      <td>1</td>\n",
       "      <td>3</td>\n",
       "      <td>Johnson - Mrs. Oscar W (Elisabeth Vilhelmina B...</td>\n",
       "      <td>female</td>\n",
       "      <td>27</td>\n",
       "      <td>0</td>\n",
       "      <td>2</td>\n",
       "      <td>347742</td>\n",
       "      <td>11.1333</td>\n",
       "      <td>?</td>\n",
       "      <td>S</td>\n",
       "    </tr>\n",
       "    <tr>\n",
       "      <th>9</th>\n",
       "      <td>10</td>\n",
       "      <td>1</td>\n",
       "      <td>2</td>\n",
       "      <td>Nasser - Mrs. Nicholas (Adele Achem)</td>\n",
       "      <td>female</td>\n",
       "      <td>14</td>\n",
       "      <td>1</td>\n",
       "      <td>0</td>\n",
       "      <td>237736</td>\n",
       "      <td>30.0708</td>\n",
       "      <td>?</td>\n",
       "      <td>C</td>\n",
       "    </tr>\n",
       "    <tr>\n",
       "      <th>10</th>\n",
       "      <td>11</td>\n",
       "      <td>1</td>\n",
       "      <td>3</td>\n",
       "      <td>Sandstrom - Miss. Marguerite Rut</td>\n",
       "      <td>female</td>\n",
       "      <td>4</td>\n",
       "      <td>1</td>\n",
       "      <td>1</td>\n",
       "      <td>PP 9549</td>\n",
       "      <td>16.7000</td>\n",
       "      <td>G6</td>\n",
       "      <td>S</td>\n",
       "    </tr>\n",
       "    <tr>\n",
       "      <th>11</th>\n",
       "      <td>12</td>\n",
       "      <td>1</td>\n",
       "      <td>1</td>\n",
       "      <td>Bonnell - Miss. Elizabeth</td>\n",
       "      <td>female</td>\n",
       "      <td>58</td>\n",
       "      <td>0</td>\n",
       "      <td>0</td>\n",
       "      <td>113783</td>\n",
       "      <td>26.5500</td>\n",
       "      <td>C103</td>\n",
       "      <td>S</td>\n",
       "    </tr>\n",
       "    <tr>\n",
       "      <th>12</th>\n",
       "      <td>13</td>\n",
       "      <td>0</td>\n",
       "      <td>3</td>\n",
       "      <td>Saundercock - Mr. William Henry</td>\n",
       "      <td>male</td>\n",
       "      <td>20</td>\n",
       "      <td>0</td>\n",
       "      <td>0</td>\n",
       "      <td>A/5. 2151</td>\n",
       "      <td>8.0500</td>\n",
       "      <td>?</td>\n",
       "      <td>S</td>\n",
       "    </tr>\n",
       "    <tr>\n",
       "      <th>13</th>\n",
       "      <td>14</td>\n",
       "      <td>0</td>\n",
       "      <td>3</td>\n",
       "      <td>Andersson - Mr. Anders Johan</td>\n",
       "      <td>male</td>\n",
       "      <td>39</td>\n",
       "      <td>1</td>\n",
       "      <td>5</td>\n",
       "      <td>347082</td>\n",
       "      <td>31.2750</td>\n",
       "      <td>?</td>\n",
       "      <td>S</td>\n",
       "    </tr>\n",
       "    <tr>\n",
       "      <th>14</th>\n",
       "      <td>15</td>\n",
       "      <td>0</td>\n",
       "      <td>3</td>\n",
       "      <td>Vestrom - Miss. Hulda Amanda Adolfina</td>\n",
       "      <td>female</td>\n",
       "      <td>14</td>\n",
       "      <td>0</td>\n",
       "      <td>0</td>\n",
       "      <td>350406</td>\n",
       "      <td>7.8542</td>\n",
       "      <td>?</td>\n",
       "      <td>S</td>\n",
       "    </tr>\n",
       "    <tr>\n",
       "      <th>15</th>\n",
       "      <td>16</td>\n",
       "      <td>1</td>\n",
       "      <td>2</td>\n",
       "      <td>Hewlett - Mrs. (Mary D Kingcome)</td>\n",
       "      <td>female</td>\n",
       "      <td>55</td>\n",
       "      <td>0</td>\n",
       "      <td>0</td>\n",
       "      <td>248706</td>\n",
       "      <td>16.0000</td>\n",
       "      <td>?</td>\n",
       "      <td>S</td>\n",
       "    </tr>\n",
       "    <tr>\n",
       "      <th>16</th>\n",
       "      <td>17</td>\n",
       "      <td>0</td>\n",
       "      <td>3</td>\n",
       "      <td>Rice - Master. Eugene</td>\n",
       "      <td>male</td>\n",
       "      <td>2</td>\n",
       "      <td>4</td>\n",
       "      <td>1</td>\n",
       "      <td>382652</td>\n",
       "      <td>29.1250</td>\n",
       "      <td>?</td>\n",
       "      <td>Q</td>\n",
       "    </tr>\n",
       "    <tr>\n",
       "      <th>17</th>\n",
       "      <td>18</td>\n",
       "      <td>1</td>\n",
       "      <td>2</td>\n",
       "      <td>Williams - Mr. Charles Eugene</td>\n",
       "      <td>male</td>\n",
       "      <td>?</td>\n",
       "      <td>0</td>\n",
       "      <td>0</td>\n",
       "      <td>244373</td>\n",
       "      <td>13.0000</td>\n",
       "      <td>?</td>\n",
       "      <td>S</td>\n",
       "    </tr>\n",
       "    <tr>\n",
       "      <th>18</th>\n",
       "      <td>19</td>\n",
       "      <td>0</td>\n",
       "      <td>3</td>\n",
       "      <td>Vander Planke - Mrs. Julius (Emelia Maria Vand...</td>\n",
       "      <td>female</td>\n",
       "      <td>31</td>\n",
       "      <td>1</td>\n",
       "      <td>0</td>\n",
       "      <td>345763</td>\n",
       "      <td>18.0000</td>\n",
       "      <td>?</td>\n",
       "      <td>S</td>\n",
       "    </tr>\n",
       "    <tr>\n",
       "      <th>19</th>\n",
       "      <td>20</td>\n",
       "      <td>1</td>\n",
       "      <td>3</td>\n",
       "      <td>Masselmani - Mrs. Fatima</td>\n",
       "      <td>female</td>\n",
       "      <td>?</td>\n",
       "      <td>0</td>\n",
       "      <td>0</td>\n",
       "      <td>2649</td>\n",
       "      <td>7.2250</td>\n",
       "      <td>?</td>\n",
       "      <td>C</td>\n",
       "    </tr>\n",
       "    <tr>\n",
       "      <th>20</th>\n",
       "      <td>21</td>\n",
       "      <td>0</td>\n",
       "      <td>2</td>\n",
       "      <td>Fynney - Mr. Joseph J</td>\n",
       "      <td>male</td>\n",
       "      <td>35</td>\n",
       "      <td>0</td>\n",
       "      <td>0</td>\n",
       "      <td>239865</td>\n",
       "      <td>26.0000</td>\n",
       "      <td>?</td>\n",
       "      <td>S</td>\n",
       "    </tr>\n",
       "    <tr>\n",
       "      <th>21</th>\n",
       "      <td>22</td>\n",
       "      <td>1</td>\n",
       "      <td>2</td>\n",
       "      <td>Beesley - Mr. Lawrence</td>\n",
       "      <td>male</td>\n",
       "      <td>34</td>\n",
       "      <td>0</td>\n",
       "      <td>0</td>\n",
       "      <td>248698</td>\n",
       "      <td>13.0000</td>\n",
       "      <td>D56</td>\n",
       "      <td>S</td>\n",
       "    </tr>\n",
       "    <tr>\n",
       "      <th>22</th>\n",
       "      <td>23</td>\n",
       "      <td>1</td>\n",
       "      <td>3</td>\n",
       "      <td>McGowan - Miss. Anna 'Annie'</td>\n",
       "      <td>female</td>\n",
       "      <td>15</td>\n",
       "      <td>0</td>\n",
       "      <td>0</td>\n",
       "      <td>330923</td>\n",
       "      <td>8.0292</td>\n",
       "      <td>?</td>\n",
       "      <td>Q</td>\n",
       "    </tr>\n",
       "    <tr>\n",
       "      <th>23</th>\n",
       "      <td>24</td>\n",
       "      <td>1</td>\n",
       "      <td>1</td>\n",
       "      <td>Sloper - Mr. William Thompson</td>\n",
       "      <td>male</td>\n",
       "      <td>28</td>\n",
       "      <td>0</td>\n",
       "      <td>0</td>\n",
       "      <td>113788</td>\n",
       "      <td>35.5000</td>\n",
       "      <td>A6</td>\n",
       "      <td>S</td>\n",
       "    </tr>\n",
       "    <tr>\n",
       "      <th>24</th>\n",
       "      <td>25</td>\n",
       "      <td>0</td>\n",
       "      <td>3</td>\n",
       "      <td>Palsson - Miss. Torborg Danira</td>\n",
       "      <td>female</td>\n",
       "      <td>8</td>\n",
       "      <td>3</td>\n",
       "      <td>1</td>\n",
       "      <td>349909</td>\n",
       "      <td>21.0750</td>\n",
       "      <td>?</td>\n",
       "      <td>S</td>\n",
       "    </tr>\n",
       "    <tr>\n",
       "      <th>25</th>\n",
       "      <td>26</td>\n",
       "      <td>1</td>\n",
       "      <td>3</td>\n",
       "      <td>Asplund - Mrs. Carl Oscar (Selma Augusta Emili...</td>\n",
       "      <td>female</td>\n",
       "      <td>38</td>\n",
       "      <td>1</td>\n",
       "      <td>5</td>\n",
       "      <td>347077</td>\n",
       "      <td>31.3875</td>\n",
       "      <td>?</td>\n",
       "      <td>S</td>\n",
       "    </tr>\n",
       "    <tr>\n",
       "      <th>26</th>\n",
       "      <td>27</td>\n",
       "      <td>0</td>\n",
       "      <td>3</td>\n",
       "      <td>Emir - Mr. Farred Chehab</td>\n",
       "      <td>male</td>\n",
       "      <td>?</td>\n",
       "      <td>0</td>\n",
       "      <td>0</td>\n",
       "      <td>2631</td>\n",
       "      <td>7.2250</td>\n",
       "      <td>?</td>\n",
       "      <td>C</td>\n",
       "    </tr>\n",
       "    <tr>\n",
       "      <th>27</th>\n",
       "      <td>28</td>\n",
       "      <td>0</td>\n",
       "      <td>1</td>\n",
       "      <td>Fortune - Mr. Charles Alexander</td>\n",
       "      <td>male</td>\n",
       "      <td>19</td>\n",
       "      <td>3</td>\n",
       "      <td>2</td>\n",
       "      <td>19950</td>\n",
       "      <td>263.0000</td>\n",
       "      <td>C23 C25 C27</td>\n",
       "      <td>S</td>\n",
       "    </tr>\n",
       "    <tr>\n",
       "      <th>28</th>\n",
       "      <td>29</td>\n",
       "      <td>1</td>\n",
       "      <td>3</td>\n",
       "      <td>O'Dwyer - Miss. Ellen 'Nellie'</td>\n",
       "      <td>female</td>\n",
       "      <td>?</td>\n",
       "      <td>0</td>\n",
       "      <td>0</td>\n",
       "      <td>330959</td>\n",
       "      <td>7.8792</td>\n",
       "      <td>?</td>\n",
       "      <td>Q</td>\n",
       "    </tr>\n",
       "    <tr>\n",
       "      <th>29</th>\n",
       "      <td>30</td>\n",
       "      <td>0</td>\n",
       "      <td>3</td>\n",
       "      <td>Todoroff - Mr. Lalio</td>\n",
       "      <td>male</td>\n",
       "      <td>?</td>\n",
       "      <td>0</td>\n",
       "      <td>0</td>\n",
       "      <td>349216</td>\n",
       "      <td>7.8958</td>\n",
       "      <td>?</td>\n",
       "      <td>S</td>\n",
       "    </tr>\n",
       "    <tr>\n",
       "      <th>...</th>\n",
       "      <td>...</td>\n",
       "      <td>...</td>\n",
       "      <td>...</td>\n",
       "      <td>...</td>\n",
       "      <td>...</td>\n",
       "      <td>...</td>\n",
       "      <td>...</td>\n",
       "      <td>...</td>\n",
       "      <td>...</td>\n",
       "      <td>...</td>\n",
       "      <td>...</td>\n",
       "      <td>...</td>\n",
       "    </tr>\n",
       "    <tr>\n",
       "      <th>861</th>\n",
       "      <td>862</td>\n",
       "      <td>0</td>\n",
       "      <td>2</td>\n",
       "      <td>Giles - Mr. Frederick Edward</td>\n",
       "      <td>male</td>\n",
       "      <td>21</td>\n",
       "      <td>1</td>\n",
       "      <td>0</td>\n",
       "      <td>28134</td>\n",
       "      <td>11.5000</td>\n",
       "      <td>?</td>\n",
       "      <td>S</td>\n",
       "    </tr>\n",
       "    <tr>\n",
       "      <th>862</th>\n",
       "      <td>863</td>\n",
       "      <td>1</td>\n",
       "      <td>1</td>\n",
       "      <td>Swift - Mrs. Frederick Joel (Margaret Welles B...</td>\n",
       "      <td>female</td>\n",
       "      <td>48</td>\n",
       "      <td>0</td>\n",
       "      <td>0</td>\n",
       "      <td>17466</td>\n",
       "      <td>25.9292</td>\n",
       "      <td>D17</td>\n",
       "      <td>S</td>\n",
       "    </tr>\n",
       "    <tr>\n",
       "      <th>863</th>\n",
       "      <td>864</td>\n",
       "      <td>0</td>\n",
       "      <td>3</td>\n",
       "      <td>Sage - Miss. Dorothy Edith 'Dolly'</td>\n",
       "      <td>female</td>\n",
       "      <td>?</td>\n",
       "      <td>8</td>\n",
       "      <td>2</td>\n",
       "      <td>CA. 2343</td>\n",
       "      <td>69.5500</td>\n",
       "      <td>?</td>\n",
       "      <td>S</td>\n",
       "    </tr>\n",
       "    <tr>\n",
       "      <th>864</th>\n",
       "      <td>865</td>\n",
       "      <td>0</td>\n",
       "      <td>2</td>\n",
       "      <td>Gill - Mr. John William</td>\n",
       "      <td>male</td>\n",
       "      <td>24</td>\n",
       "      <td>0</td>\n",
       "      <td>0</td>\n",
       "      <td>233866</td>\n",
       "      <td>13.0000</td>\n",
       "      <td>?</td>\n",
       "      <td>S</td>\n",
       "    </tr>\n",
       "    <tr>\n",
       "      <th>865</th>\n",
       "      <td>866</td>\n",
       "      <td>1</td>\n",
       "      <td>2</td>\n",
       "      <td>Bystrom - Mrs. (Karolina)</td>\n",
       "      <td>female</td>\n",
       "      <td>42</td>\n",
       "      <td>0</td>\n",
       "      <td>0</td>\n",
       "      <td>236852</td>\n",
       "      <td>13.0000</td>\n",
       "      <td>?</td>\n",
       "      <td>S</td>\n",
       "    </tr>\n",
       "    <tr>\n",
       "      <th>866</th>\n",
       "      <td>867</td>\n",
       "      <td>1</td>\n",
       "      <td>2</td>\n",
       "      <td>Duran y More - Miss. Asuncion</td>\n",
       "      <td>female</td>\n",
       "      <td>27</td>\n",
       "      <td>1</td>\n",
       "      <td>0</td>\n",
       "      <td>SC/PARIS 2149</td>\n",
       "      <td>13.8583</td>\n",
       "      <td>?</td>\n",
       "      <td>C</td>\n",
       "    </tr>\n",
       "    <tr>\n",
       "      <th>867</th>\n",
       "      <td>868</td>\n",
       "      <td>0</td>\n",
       "      <td>1</td>\n",
       "      <td>Roebling - Mr. Washington Augustus II</td>\n",
       "      <td>male</td>\n",
       "      <td>31</td>\n",
       "      <td>0</td>\n",
       "      <td>0</td>\n",
       "      <td>PC 17590</td>\n",
       "      <td>50.4958</td>\n",
       "      <td>A24</td>\n",
       "      <td>S</td>\n",
       "    </tr>\n",
       "    <tr>\n",
       "      <th>868</th>\n",
       "      <td>869</td>\n",
       "      <td>0</td>\n",
       "      <td>3</td>\n",
       "      <td>van Melkebeke - Mr. Philemon</td>\n",
       "      <td>male</td>\n",
       "      <td>?</td>\n",
       "      <td>0</td>\n",
       "      <td>0</td>\n",
       "      <td>345777</td>\n",
       "      <td>9.5000</td>\n",
       "      <td>?</td>\n",
       "      <td>S</td>\n",
       "    </tr>\n",
       "    <tr>\n",
       "      <th>869</th>\n",
       "      <td>870</td>\n",
       "      <td>1</td>\n",
       "      <td>3</td>\n",
       "      <td>Johnson - Master. Harold Theodor</td>\n",
       "      <td>male</td>\n",
       "      <td>4</td>\n",
       "      <td>1</td>\n",
       "      <td>1</td>\n",
       "      <td>347742</td>\n",
       "      <td>11.1333</td>\n",
       "      <td>?</td>\n",
       "      <td>S</td>\n",
       "    </tr>\n",
       "    <tr>\n",
       "      <th>870</th>\n",
       "      <td>871</td>\n",
       "      <td>0</td>\n",
       "      <td>3</td>\n",
       "      <td>Balkic - Mr. Cerin</td>\n",
       "      <td>male</td>\n",
       "      <td>26</td>\n",
       "      <td>0</td>\n",
       "      <td>0</td>\n",
       "      <td>349248</td>\n",
       "      <td>7.8958</td>\n",
       "      <td>?</td>\n",
       "      <td>S</td>\n",
       "    </tr>\n",
       "    <tr>\n",
       "      <th>871</th>\n",
       "      <td>872</td>\n",
       "      <td>1</td>\n",
       "      <td>1</td>\n",
       "      <td>Beckwith - Mrs. Richard Leonard (Sallie Monypeny)</td>\n",
       "      <td>female</td>\n",
       "      <td>47</td>\n",
       "      <td>1</td>\n",
       "      <td>1</td>\n",
       "      <td>11751</td>\n",
       "      <td>52.5542</td>\n",
       "      <td>D35</td>\n",
       "      <td>S</td>\n",
       "    </tr>\n",
       "    <tr>\n",
       "      <th>872</th>\n",
       "      <td>873</td>\n",
       "      <td>0</td>\n",
       "      <td>1</td>\n",
       "      <td>Carlsson - Mr. Frans Olof</td>\n",
       "      <td>male</td>\n",
       "      <td>33</td>\n",
       "      <td>0</td>\n",
       "      <td>0</td>\n",
       "      <td>695</td>\n",
       "      <td>5.0000</td>\n",
       "      <td>B51 B53 B55</td>\n",
       "      <td>S</td>\n",
       "    </tr>\n",
       "    <tr>\n",
       "      <th>873</th>\n",
       "      <td>874</td>\n",
       "      <td>0</td>\n",
       "      <td>3</td>\n",
       "      <td>Vander Cruyssen - Mr. Victor</td>\n",
       "      <td>male</td>\n",
       "      <td>47</td>\n",
       "      <td>0</td>\n",
       "      <td>0</td>\n",
       "      <td>345765</td>\n",
       "      <td>9.0000</td>\n",
       "      <td>?</td>\n",
       "      <td>S</td>\n",
       "    </tr>\n",
       "    <tr>\n",
       "      <th>874</th>\n",
       "      <td>875</td>\n",
       "      <td>1</td>\n",
       "      <td>2</td>\n",
       "      <td>Abelson - Mrs. Samuel (Hannah Wizosky)</td>\n",
       "      <td>female</td>\n",
       "      <td>28</td>\n",
       "      <td>1</td>\n",
       "      <td>0</td>\n",
       "      <td>P/PP 3381</td>\n",
       "      <td>24.0000</td>\n",
       "      <td>?</td>\n",
       "      <td>C</td>\n",
       "    </tr>\n",
       "    <tr>\n",
       "      <th>875</th>\n",
       "      <td>876</td>\n",
       "      <td>1</td>\n",
       "      <td>3</td>\n",
       "      <td>Najib - Miss. Adele Kiamie 'Jane'</td>\n",
       "      <td>female</td>\n",
       "      <td>15</td>\n",
       "      <td>0</td>\n",
       "      <td>0</td>\n",
       "      <td>2667</td>\n",
       "      <td>7.2250</td>\n",
       "      <td>?</td>\n",
       "      <td>C</td>\n",
       "    </tr>\n",
       "    <tr>\n",
       "      <th>876</th>\n",
       "      <td>877</td>\n",
       "      <td>0</td>\n",
       "      <td>3</td>\n",
       "      <td>Gustafsson - Mr. Alfred Ossian</td>\n",
       "      <td>male</td>\n",
       "      <td>20</td>\n",
       "      <td>0</td>\n",
       "      <td>0</td>\n",
       "      <td>7534</td>\n",
       "      <td>9.8458</td>\n",
       "      <td>?</td>\n",
       "      <td>S</td>\n",
       "    </tr>\n",
       "    <tr>\n",
       "      <th>877</th>\n",
       "      <td>878</td>\n",
       "      <td>0</td>\n",
       "      <td>3</td>\n",
       "      <td>Petroff - Mr. Nedelio</td>\n",
       "      <td>male</td>\n",
       "      <td>19</td>\n",
       "      <td>0</td>\n",
       "      <td>0</td>\n",
       "      <td>349212</td>\n",
       "      <td>7.8958</td>\n",
       "      <td>?</td>\n",
       "      <td>S</td>\n",
       "    </tr>\n",
       "    <tr>\n",
       "      <th>878</th>\n",
       "      <td>879</td>\n",
       "      <td>0</td>\n",
       "      <td>3</td>\n",
       "      <td>Laleff - Mr. Kristo</td>\n",
       "      <td>male</td>\n",
       "      <td>?</td>\n",
       "      <td>0</td>\n",
       "      <td>0</td>\n",
       "      <td>349217</td>\n",
       "      <td>7.8958</td>\n",
       "      <td>?</td>\n",
       "      <td>S</td>\n",
       "    </tr>\n",
       "    <tr>\n",
       "      <th>879</th>\n",
       "      <td>880</td>\n",
       "      <td>1</td>\n",
       "      <td>1</td>\n",
       "      <td>Potter - Mrs. Thomas Jr (Lily Alexenia Wilson)</td>\n",
       "      <td>female</td>\n",
       "      <td>56</td>\n",
       "      <td>0</td>\n",
       "      <td>1</td>\n",
       "      <td>11767</td>\n",
       "      <td>83.1583</td>\n",
       "      <td>C50</td>\n",
       "      <td>C</td>\n",
       "    </tr>\n",
       "    <tr>\n",
       "      <th>880</th>\n",
       "      <td>881</td>\n",
       "      <td>1</td>\n",
       "      <td>2</td>\n",
       "      <td>Shelley - Mrs. William (Imanita Parrish Hall)</td>\n",
       "      <td>female</td>\n",
       "      <td>25</td>\n",
       "      <td>0</td>\n",
       "      <td>1</td>\n",
       "      <td>230433</td>\n",
       "      <td>26.0000</td>\n",
       "      <td>?</td>\n",
       "      <td>S</td>\n",
       "    </tr>\n",
       "    <tr>\n",
       "      <th>881</th>\n",
       "      <td>882</td>\n",
       "      <td>0</td>\n",
       "      <td>3</td>\n",
       "      <td>Markun - Mr. Johann</td>\n",
       "      <td>male</td>\n",
       "      <td>33</td>\n",
       "      <td>0</td>\n",
       "      <td>0</td>\n",
       "      <td>349257</td>\n",
       "      <td>7.8958</td>\n",
       "      <td>?</td>\n",
       "      <td>S</td>\n",
       "    </tr>\n",
       "    <tr>\n",
       "      <th>882</th>\n",
       "      <td>883</td>\n",
       "      <td>0</td>\n",
       "      <td>3</td>\n",
       "      <td>Dahlberg - Miss. Gerda Ulrika</td>\n",
       "      <td>female</td>\n",
       "      <td>22</td>\n",
       "      <td>0</td>\n",
       "      <td>0</td>\n",
       "      <td>7552</td>\n",
       "      <td>10.5167</td>\n",
       "      <td>?</td>\n",
       "      <td>S</td>\n",
       "    </tr>\n",
       "    <tr>\n",
       "      <th>883</th>\n",
       "      <td>884</td>\n",
       "      <td>0</td>\n",
       "      <td>2</td>\n",
       "      <td>Banfield - Mr. Frederick James</td>\n",
       "      <td>male</td>\n",
       "      <td>28</td>\n",
       "      <td>0</td>\n",
       "      <td>0</td>\n",
       "      <td>C.A./SOTON 34068</td>\n",
       "      <td>10.5000</td>\n",
       "      <td>?</td>\n",
       "      <td>S</td>\n",
       "    </tr>\n",
       "    <tr>\n",
       "      <th>884</th>\n",
       "      <td>885</td>\n",
       "      <td>0</td>\n",
       "      <td>3</td>\n",
       "      <td>Sutehall - Mr. Henry Jr</td>\n",
       "      <td>male</td>\n",
       "      <td>25</td>\n",
       "      <td>0</td>\n",
       "      <td>0</td>\n",
       "      <td>SOTON/OQ 392076</td>\n",
       "      <td>7.0500</td>\n",
       "      <td>?</td>\n",
       "      <td>S</td>\n",
       "    </tr>\n",
       "    <tr>\n",
       "      <th>885</th>\n",
       "      <td>886</td>\n",
       "      <td>0</td>\n",
       "      <td>3</td>\n",
       "      <td>Rice - Mrs. William (Margaret Norton)</td>\n",
       "      <td>female</td>\n",
       "      <td>39</td>\n",
       "      <td>0</td>\n",
       "      <td>5</td>\n",
       "      <td>382652</td>\n",
       "      <td>29.1250</td>\n",
       "      <td>?</td>\n",
       "      <td>Q</td>\n",
       "    </tr>\n",
       "    <tr>\n",
       "      <th>886</th>\n",
       "      <td>887</td>\n",
       "      <td>0</td>\n",
       "      <td>2</td>\n",
       "      <td>Montvila - Rev. Juozas</td>\n",
       "      <td>male</td>\n",
       "      <td>27</td>\n",
       "      <td>0</td>\n",
       "      <td>0</td>\n",
       "      <td>211536</td>\n",
       "      <td>13.0000</td>\n",
       "      <td>?</td>\n",
       "      <td>S</td>\n",
       "    </tr>\n",
       "    <tr>\n",
       "      <th>887</th>\n",
       "      <td>888</td>\n",
       "      <td>1</td>\n",
       "      <td>1</td>\n",
       "      <td>Graham - Miss. Margaret Edith</td>\n",
       "      <td>female</td>\n",
       "      <td>19</td>\n",
       "      <td>0</td>\n",
       "      <td>0</td>\n",
       "      <td>112053</td>\n",
       "      <td>30.0000</td>\n",
       "      <td>B42</td>\n",
       "      <td>S</td>\n",
       "    </tr>\n",
       "    <tr>\n",
       "      <th>888</th>\n",
       "      <td>889</td>\n",
       "      <td>0</td>\n",
       "      <td>3</td>\n",
       "      <td>Johnston - Miss. Catherine Helen 'Carrie'</td>\n",
       "      <td>female</td>\n",
       "      <td>?</td>\n",
       "      <td>1</td>\n",
       "      <td>2</td>\n",
       "      <td>W./C. 6607</td>\n",
       "      <td>23.4500</td>\n",
       "      <td>?</td>\n",
       "      <td>S</td>\n",
       "    </tr>\n",
       "    <tr>\n",
       "      <th>889</th>\n",
       "      <td>890</td>\n",
       "      <td>1</td>\n",
       "      <td>1</td>\n",
       "      <td>Behr - Mr. Karl Howell</td>\n",
       "      <td>male</td>\n",
       "      <td>26</td>\n",
       "      <td>0</td>\n",
       "      <td>0</td>\n",
       "      <td>111369</td>\n",
       "      <td>30.0000</td>\n",
       "      <td>C148</td>\n",
       "      <td>C</td>\n",
       "    </tr>\n",
       "    <tr>\n",
       "      <th>890</th>\n",
       "      <td>891</td>\n",
       "      <td>0</td>\n",
       "      <td>3</td>\n",
       "      <td>Dooley - Mr. Patrick</td>\n",
       "      <td>male</td>\n",
       "      <td>32</td>\n",
       "      <td>0</td>\n",
       "      <td>0</td>\n",
       "      <td>370376</td>\n",
       "      <td>7.7500</td>\n",
       "      <td>?</td>\n",
       "      <td>Q</td>\n",
       "    </tr>\n",
       "  </tbody>\n",
       "</table>\n",
       "<p>891 rows × 12 columns</p>\n",
       "</div>"
      ],
      "text/plain": [
       "     PassengerId  Survived  Pclass  \\\n",
       "0              1         0       3   \n",
       "1              2         1       1   \n",
       "2              3         1       3   \n",
       "3              4         1       1   \n",
       "4              5         0       3   \n",
       "5              6         0       3   \n",
       "6              7         0       1   \n",
       "7              8         0       3   \n",
       "8              9         1       3   \n",
       "9             10         1       2   \n",
       "10            11         1       3   \n",
       "11            12         1       1   \n",
       "12            13         0       3   \n",
       "13            14         0       3   \n",
       "14            15         0       3   \n",
       "15            16         1       2   \n",
       "16            17         0       3   \n",
       "17            18         1       2   \n",
       "18            19         0       3   \n",
       "19            20         1       3   \n",
       "20            21         0       2   \n",
       "21            22         1       2   \n",
       "22            23         1       3   \n",
       "23            24         1       1   \n",
       "24            25         0       3   \n",
       "25            26         1       3   \n",
       "26            27         0       3   \n",
       "27            28         0       1   \n",
       "28            29         1       3   \n",
       "29            30         0       3   \n",
       "..           ...       ...     ...   \n",
       "861          862         0       2   \n",
       "862          863         1       1   \n",
       "863          864         0       3   \n",
       "864          865         0       2   \n",
       "865          866         1       2   \n",
       "866          867         1       2   \n",
       "867          868         0       1   \n",
       "868          869         0       3   \n",
       "869          870         1       3   \n",
       "870          871         0       3   \n",
       "871          872         1       1   \n",
       "872          873         0       1   \n",
       "873          874         0       3   \n",
       "874          875         1       2   \n",
       "875          876         1       3   \n",
       "876          877         0       3   \n",
       "877          878         0       3   \n",
       "878          879         0       3   \n",
       "879          880         1       1   \n",
       "880          881         1       2   \n",
       "881          882         0       3   \n",
       "882          883         0       3   \n",
       "883          884         0       2   \n",
       "884          885         0       3   \n",
       "885          886         0       3   \n",
       "886          887         0       2   \n",
       "887          888         1       1   \n",
       "888          889         0       3   \n",
       "889          890         1       1   \n",
       "890          891         0       3   \n",
       "\n",
       "                                                  Name     Sex Age  SibSp  \\\n",
       "0                             Braund - Mr. Owen Harris    male  22      1   \n",
       "1    Cumings - Mrs. John Bradley (Florence Briggs T...  female  38      1   \n",
       "2                              Heikkinen - Miss. Laina  female  26      0   \n",
       "3        Futrelle - Mrs. Jacques Heath (Lily May Peel)  female  35      1   \n",
       "4                            Allen - Mr. William Henry    male  35      0   \n",
       "5                                    Moran - Mr. James    male   ?      0   \n",
       "6                             McCarthy - Mr. Timothy J    male  54      0   \n",
       "7                      Palsson - Master. Gosta Leonard    male   2      3   \n",
       "8    Johnson - Mrs. Oscar W (Elisabeth Vilhelmina B...  female  27      0   \n",
       "9                 Nasser - Mrs. Nicholas (Adele Achem)  female  14      1   \n",
       "10                    Sandstrom - Miss. Marguerite Rut  female   4      1   \n",
       "11                           Bonnell - Miss. Elizabeth  female  58      0   \n",
       "12                     Saundercock - Mr. William Henry    male  20      0   \n",
       "13                        Andersson - Mr. Anders Johan    male  39      1   \n",
       "14               Vestrom - Miss. Hulda Amanda Adolfina  female  14      0   \n",
       "15                   Hewlett - Mrs. (Mary D Kingcome)   female  55      0   \n",
       "16                               Rice - Master. Eugene    male   2      4   \n",
       "17                       Williams - Mr. Charles Eugene    male   ?      0   \n",
       "18   Vander Planke - Mrs. Julius (Emelia Maria Vand...  female  31      1   \n",
       "19                            Masselmani - Mrs. Fatima  female   ?      0   \n",
       "20                               Fynney - Mr. Joseph J    male  35      0   \n",
       "21                              Beesley - Mr. Lawrence    male  34      0   \n",
       "22                        McGowan - Miss. Anna 'Annie'  female  15      0   \n",
       "23                       Sloper - Mr. William Thompson    male  28      0   \n",
       "24                      Palsson - Miss. Torborg Danira  female   8      3   \n",
       "25   Asplund - Mrs. Carl Oscar (Selma Augusta Emili...  female  38      1   \n",
       "26                            Emir - Mr. Farred Chehab    male   ?      0   \n",
       "27                     Fortune - Mr. Charles Alexander    male  19      3   \n",
       "28                      O'Dwyer - Miss. Ellen 'Nellie'  female   ?      0   \n",
       "29                                Todoroff - Mr. Lalio    male   ?      0   \n",
       "..                                                 ...     ...  ..    ...   \n",
       "861                       Giles - Mr. Frederick Edward    male  21      1   \n",
       "862  Swift - Mrs. Frederick Joel (Margaret Welles B...  female  48      0   \n",
       "863                 Sage - Miss. Dorothy Edith 'Dolly'  female   ?      8   \n",
       "864                            Gill - Mr. John William    male  24      0   \n",
       "865                          Bystrom - Mrs. (Karolina)  female  42      0   \n",
       "866                      Duran y More - Miss. Asuncion  female  27      1   \n",
       "867              Roebling - Mr. Washington Augustus II    male  31      0   \n",
       "868                       van Melkebeke - Mr. Philemon    male   ?      0   \n",
       "869                   Johnson - Master. Harold Theodor    male   4      1   \n",
       "870                                 Balkic - Mr. Cerin    male  26      0   \n",
       "871  Beckwith - Mrs. Richard Leonard (Sallie Monypeny)  female  47      1   \n",
       "872                          Carlsson - Mr. Frans Olof    male  33      0   \n",
       "873                       Vander Cruyssen - Mr. Victor    male  47      0   \n",
       "874             Abelson - Mrs. Samuel (Hannah Wizosky)  female  28      1   \n",
       "875                  Najib - Miss. Adele Kiamie 'Jane'  female  15      0   \n",
       "876                     Gustafsson - Mr. Alfred Ossian    male  20      0   \n",
       "877                              Petroff - Mr. Nedelio    male  19      0   \n",
       "878                                Laleff - Mr. Kristo    male   ?      0   \n",
       "879     Potter - Mrs. Thomas Jr (Lily Alexenia Wilson)  female  56      0   \n",
       "880      Shelley - Mrs. William (Imanita Parrish Hall)  female  25      0   \n",
       "881                                Markun - Mr. Johann    male  33      0   \n",
       "882                      Dahlberg - Miss. Gerda Ulrika  female  22      0   \n",
       "883                     Banfield - Mr. Frederick James    male  28      0   \n",
       "884                            Sutehall - Mr. Henry Jr    male  25      0   \n",
       "885              Rice - Mrs. William (Margaret Norton)  female  39      0   \n",
       "886                             Montvila - Rev. Juozas    male  27      0   \n",
       "887                      Graham - Miss. Margaret Edith  female  19      0   \n",
       "888          Johnston - Miss. Catherine Helen 'Carrie'  female   ?      1   \n",
       "889                             Behr - Mr. Karl Howell    male  26      0   \n",
       "890                               Dooley - Mr. Patrick    male  32      0   \n",
       "\n",
       "     Parch            Ticket      Fare        Cabin '\"Embarked\"  \n",
       "0        0         A/5 21171    7.2500            ?           S  \n",
       "1        0          PC 17599   71.2833          C85           C  \n",
       "2        0  STON/O2. 3101282    7.9250            ?           S  \n",
       "3        0            113803   53.1000         C123           S  \n",
       "4        0            373450    8.0500            ?           S  \n",
       "5        0            330877    8.4583            ?           Q  \n",
       "6        0             17463   51.8625          E46           S  \n",
       "7        1            349909   21.0750            ?           S  \n",
       "8        2            347742   11.1333            ?           S  \n",
       "9        0            237736   30.0708            ?           C  \n",
       "10       1           PP 9549   16.7000           G6           S  \n",
       "11       0            113783   26.5500         C103           S  \n",
       "12       0         A/5. 2151    8.0500            ?           S  \n",
       "13       5            347082   31.2750            ?           S  \n",
       "14       0            350406    7.8542            ?           S  \n",
       "15       0            248706   16.0000            ?           S  \n",
       "16       1            382652   29.1250            ?           Q  \n",
       "17       0            244373   13.0000            ?           S  \n",
       "18       0            345763   18.0000            ?           S  \n",
       "19       0              2649    7.2250            ?           C  \n",
       "20       0            239865   26.0000            ?           S  \n",
       "21       0            248698   13.0000          D56           S  \n",
       "22       0            330923    8.0292            ?           Q  \n",
       "23       0            113788   35.5000           A6           S  \n",
       "24       1            349909   21.0750            ?           S  \n",
       "25       5            347077   31.3875            ?           S  \n",
       "26       0              2631    7.2250            ?           C  \n",
       "27       2             19950  263.0000  C23 C25 C27           S  \n",
       "28       0            330959    7.8792            ?           Q  \n",
       "29       0            349216    7.8958            ?           S  \n",
       "..     ...               ...       ...          ...         ...  \n",
       "861      0             28134   11.5000            ?           S  \n",
       "862      0             17466   25.9292          D17           S  \n",
       "863      2          CA. 2343   69.5500            ?           S  \n",
       "864      0            233866   13.0000            ?           S  \n",
       "865      0            236852   13.0000            ?           S  \n",
       "866      0     SC/PARIS 2149   13.8583            ?           C  \n",
       "867      0          PC 17590   50.4958          A24           S  \n",
       "868      0            345777    9.5000            ?           S  \n",
       "869      1            347742   11.1333            ?           S  \n",
       "870      0            349248    7.8958            ?           S  \n",
       "871      1             11751   52.5542          D35           S  \n",
       "872      0               695    5.0000  B51 B53 B55           S  \n",
       "873      0            345765    9.0000            ?           S  \n",
       "874      0         P/PP 3381   24.0000            ?           C  \n",
       "875      0              2667    7.2250            ?           C  \n",
       "876      0              7534    9.8458            ?           S  \n",
       "877      0            349212    7.8958            ?           S  \n",
       "878      0            349217    7.8958            ?           S  \n",
       "879      1             11767   83.1583          C50           C  \n",
       "880      1            230433   26.0000            ?           S  \n",
       "881      0            349257    7.8958            ?           S  \n",
       "882      0              7552   10.5167            ?           S  \n",
       "883      0  C.A./SOTON 34068   10.5000            ?           S  \n",
       "884      0   SOTON/OQ 392076    7.0500            ?           S  \n",
       "885      5            382652   29.1250            ?           Q  \n",
       "886      0            211536   13.0000            ?           S  \n",
       "887      0            112053   30.0000          B42           S  \n",
       "888      2        W./C. 6607   23.4500            ?           S  \n",
       "889      0            111369   30.0000         C148           C  \n",
       "890      0            370376    7.7500            ?           Q  \n",
       "\n",
       "[891 rows x 12 columns]"
      ]
     },
     "execution_count": 3,
     "metadata": {},
     "output_type": "execute_result"
    }
   ],
   "source": [
    "import csv\n",
    "\n",
    "reader = csv.reader(open('../Week 1 - Introduction/data/titanic.csv'))\n",
    "for i, row in enumerate(reader):\n",
    "    if i:  # skips the header\n",
    "        print(row)\n",
    "        print(row[3])\n",
    "        print(\"\")\n",
    "        break\n",
    "    \n",
    "import pandas as pd\n",
    "df = pd.read_csv(open('../Week 1 - Introduction/data/titanic.csv'))\n",
    "print(df['Name'][0])\n",
    "df"
   ]
  },
  {
   "cell_type": "markdown",
   "metadata": {
    "slideshow": {
     "slide_type": "subslide"
    }
   },
   "source": [
    "### JSON"
   ]
  },
  {
   "cell_type": "code",
   "execution_count": 4,
   "metadata": {
    "collapsed": false
   },
   "outputs": [
    {
     "data": {
      "text/plain": [
       "{'_id': {'$oid': '53a0c9299d905710b641e6d3'},\n",
       " 'comment_art': {'$numberLong': '-749456693294741442'},\n",
       " 'comment_date': {'$date': '2000-07-20T16:18:00.000+0200'},\n",
       " 'comment_id': 'r_145302',\n",
       " 'comment_source': 'tweakers.net',\n",
       " 'comment_text': \"669 dollar? hmzz.. dat valt nog mee voor zoveel megapiggies.... maareuh... een plaatje van 2.400x1.800 op een 16 mb flashkaartje.. hoeveel fotootjes van een redelijk kwaliteit kun je dan achter elkaar maken... 2? 3? en dan 2 mp3'tjes erbij... lijkt me niet egt een gat in de markt, tenzij er een goedkope uitbreidings mogelijkheid komt, maar aangezien een 32 meg flash kaartje al gauw een paar honderd pingels kost....\",\n",
       " 'comment_title': 'Fuji digitale camera met MP3 en AVI',\n",
       " 'comment_topic': 'Computers',\n",
       " 'comment_user': 'Passenger',\n",
       " 'comment_vote': '0',\n",
       " 'date_range': False,\n",
       " 'period_label': 'NaP',\n",
       " 'subject_count': 0,\n",
       " 'subject_range': ''}"
      ]
     },
     "execution_count": 4,
     "metadata": {},
     "output_type": "execute_result"
    }
   ],
   "source": [
    "import json\n",
    "from pprint import pprint as pp\n",
    "\n",
    "js = json.loads(open('data/twk.json').read())\n",
    "js"
   ]
  },
  {
   "cell_type": "code",
   "execution_count": 5,
   "metadata": {
    "collapsed": false
   },
   "outputs": [
    {
     "name": "stdout",
     "output_type": "stream",
     "text": [
      "2000-07-20T16:18:00.000+0200\n",
      "669 dollar? hmzz.. dat valt nog mee voor zoveel megapiggies.... maareuh... een plaatje van 2.400x1.800 op een 16 mb flashkaartje.. hoeveel fotootjes van een redelijk kwaliteit kun je dan achter elkaar maken... 2? 3? en dan 2 mp3'tjes erbij... lijkt me niet egt een gat in de markt, tenzij er een goedkope uitbreidings mogelijkheid komt, maar aangezien een 32 meg flash kaartje al gauw een paar honderd pingels kost....\n"
     ]
    }
   ],
   "source": [
    "print(js['comment_date']['$date'])\n",
    "print(js['comment_text'])"
   ]
  },
  {
   "cell_type": "markdown",
   "metadata": {
    "slideshow": {
     "slide_type": "subslide"
    }
   },
   "source": [
    "### HTML\n",
    "\n",
    "[link](https://www.theguardian.com/technology/2016/sep/02/super-nintendo-and-me-growing-up-recession-and-role-playing-adventures)"
   ]
  },
  {
   "cell_type": "code",
   "execution_count": 6,
   "metadata": {
    "collapsed": false
   },
   "outputs": [],
   "source": [
    "import urllib3\n",
    "http = urllib3.PoolManager()\n",
    "html = http.request('GET', 'https://www.theguardian.com/technology/2016/' + \n",
    "                           'sep/02/super-nintendo-and-me-growing-up-recession-' + \n",
    "                           'and-role-playing-adventures').data.decode('utf-8')"
   ]
  },
  {
   "cell_type": "code",
   "execution_count": 7,
   "metadata": {
    "collapsed": false,
    "scrolled": true
   },
   "outputs": [
    {
     "data": {
      "text/plain": [
       "['Game developer Rebekah Saltsman could never get near a console when her brothers were around – then the Snes arrived',\n",
       " 'Rebekah Saltsman',\n",
       " '\\n\\nFriday 2 September 2016 10.57\\xa0BST\\n\\n\\nLast modified on Friday 2 September 2016 15.25\\xa0BST\\n\\n',\n",
       " 'I don’t remember a time we didn’t have video games in the house.',\n",
       " 'I grew up in Gregory, Michigan, a small town in the middle of nowhere; a town that literally borders Hell. That’s Hell, Michigan. I wish I was kidding. My dad was a second shift supervisor at a General Motors plant in Detroit. He always wanted to have the latest expensive things; we owned an early home PC and he’d bring home these floppy discs filled with games – they would trade them around at his office. My mom worked as a secretary and later a substitute teacher and a city postal carrier – she learned how to program at college. She made sure we all had access to the computer, even though my sister and I were super little and there were six of us fighting to use it.',\n",
       " 'We owned an Atari when I was a toddler and a Nintendo Entertainment System by the time I was six. I had four older brothers – the eldest a decade older than me – so I didn’t get to touch the consoles much. But that all changed when we got a Super Nintendo Entertainment System in 1992.',\n",
       " 'We were given it for Christmas right before my 11th birthday. By that time, my two oldest brothers had moved out and then the third brother got a summer job. This left me in the position of second player to my youngest brother. The Snes was purchased for him (of all the girls I was friends with in late elementary and early middle school, none of them had a console in the house unless they also had a brother) but this time, by default, it was for me too.',\n",
       " 'I was at the right age for it. Born in 1981, I fell through the cracks of the big generational distinctions. I am not Gen X, I am not a millennial. I am the Goonies and Sixteen Candles and The Breakfast Club and The Gremlins and Back to the Future. I grew up with a rotary phone, a VCR, the very first CD player, the first DVD player. My introduction to the internet was in a physical science class in 1994, trying to send an email to a university about some chemistry term. This was the era of Telnet and dial-up. It was the tipping point into the digital age.',\n",
       " 'The Snes sat right in that weird middle ground between the past and the future. It couldn’t easily handle 3D graphics like later consoles, but the pixel art worlds envisaged at the time contained the same sprawling stories and immersive experiences that modern games are built around.',\n",
       " 'We’d never before had so much control over a story as we did in on that console with its grand role-playing adventures. We’d played simple arcade games on the Atari, but they were generally too hard for younger kids; the games on the Nes were nearly impossible for us too. But by the time the Snes came along, we were old enough and confident enough to go all in – and we could experience them with our friends. The games finally had proper save functions too, allowing us to store progress without having to write down a special code, which was how it worked with the Nes (and it wasn’t easy for a kid who could barely write).',\n",
       " 'So in the summer of 1993, my brother, sister and I saved up every cent of our raspberry-picking money to buy Secret of Mana, the new role-playing game from Squaresoft, creator of the legendary Final Fantasy series. It was, like, $60, which was a fortune for a bunch of kids at the time. I remember opening the package after setting up the Snes on the “big TV” in the family room, which was usually forbidden by my parents. We studied the game manual together and then we started our epic journey. My brother played as the Mana Sword hero and I played as Purim, a young girl determined to rescue her boyfriend Dyluck from a witch, and Gnome, a powerful earth spirit. ',\n",
       " 'We spent every second we could playing that game. We played it until we beat it, and then we started again. It was the first time we had ever been sucked into a world that took us far away from our own. If we’d had access to the early online fan fiction community (where people wrote and shared their own stories based around games, movies and TV shows) or if there had been something like Pottermore for Secret of Mana – we would have spent the rest of our waking hours interacting there. We had never seen anything like this game; we cared about the characters, they were real people to us, and we needed to bring stability and peace to their sad world.',\n",
       " 'It feels weird to describe this simple, pixelated landscape in the same way someone would describe a hyper realistic endlessly exploratory game environment from today. But in 1993, this place, where I fought monsters in real time with my brother, where we got to save a world while flying on a dragon – it was like I was really there and my actions mattered. When Dyluck was taken by the witch, when the town of Pandora was struck mute, even when I had to save Santa – which is REALLY a thing in the game – everything mattered.',\n",
       " 'What was going on culturally and historically in the years before this? The Berlin wall came down. The first Gulf War had just ended. I grew up with nuclear bomb drills, the red scare, the end of the cold war. My parents lived through the recession in the 1980s … and then here was the VERY FIRST real digital escapism for children where they were in control of a world that needed saving. Secret of Mana and the games like it were products of the culture we lived in. They were a mirror to the joy and terror we experienced as we grew older. There are parallels to the types of media kids are gravitating toward today – video games fill a need for us all. ',\n",
       " 'With their elaborate stories, multi-gendered characters, astonishing musical scores, and countless hours of gameplay, the Super Nintendo role-playing games certainly reflected a need in me. I was a 12-year-old girl from the Midwest, feeling, but not understanding, the effects of the auto industry collapsing in Detroit, the economic uncertainty of my parents and friends’ parents, the shrinking of the world through satellite TV and globalisation. Yet with Secret of Mana, I had this one place where I was in control.',\n",
       " 'Even now, many years later, I feel all of these things when I turn on that game. I am transported back to the summer of 1993, when I got to know my brother and sister so well. The world feels just as real, even though I am looking at it through adult eyes – eyes that have witnessed the first school shootings, the homegrown terrorist attacks in Oklahoma City, the bombings and destruction of the World Trade Center, the wars that claimed the lives of kids I grew up with, the illness and death of friends and family.',\n",
       " 'My brother, sister and I still play Secret of Mana together when we are all in one place. It is much harder now that we are parents ourselves, living at opposite ends of the country. Our current playthrough has taken years instead of a few hours – 10 years to be exact. But we will complete it. ',\n",
       " 'And that story – about a child who must save the world with nothing but his sword and his friends – still speaks to the kid inside of me.',\n",
       " 'Rebekah Saltsman is cofounder of indie studio Finji. She is currently working on Overland and Night in the Woods.']"
      ]
     },
     "execution_count": 7,
     "metadata": {},
     "output_type": "execute_result"
    }
   ],
   "source": [
    "from bs4 import BeautifulSoup as bs\n",
    "\n",
    "soup = bs(html, \"lxml\")\n",
    "body = soup.find_all('p')\n",
    "[p.text for p in body]"
   ]
  },
  {
   "cell_type": "markdown",
   "metadata": {
    "slideshow": {
     "slide_type": "subslide"
    }
   },
   "source": [
    "### Plain Text?\n",
    "\n",
    "- Issues\n",
    "- Information?\n",
    "- Vectors? -> Tokenization"
   ]
  },
  {
   "cell_type": "code",
   "execution_count": 8,
   "metadata": {
    "collapsed": false
   },
   "outputs": [
    {
     "name": "stdout",
     "output_type": "stream",
     "text": [
      "I grew up in Gregory, Michigan, a small town in the middle of nowhere; a town that literally borders Hell. That’s Hell, Michigan. I wish I was kidding. My dad was a second shift supervisor at a General Motors plant in Detroit. He always wanted to have the latest expensive things; we owned an early home PC and he’d bring home these floppy discs filled with games – they would trade them around at his office. My mom worked as a secretary and later a substitute teacher and a city postal carrier – she learned how to program at college. She made sure we all had access to the computer, even though my sister and I were super little and there were six of us fighting to use it.\n"
     ]
    }
   ],
   "source": [
    "print(body[4].text)"
   ]
  },
  {
   "cell_type": "markdown",
   "metadata": {
    "slideshow": {
     "slide_type": "slide"
    }
   },
   "source": [
    "## Representing Words as Frequencies"
   ]
  },
  {
   "cell_type": "markdown",
   "metadata": {
    "slideshow": {
     "slide_type": "subslide"
    }
   },
   "source": [
    "### Word Vectors?\n",
    "\n",
    "- Data mining: `[0, 5, 20, dog]` (nr. bites, age, nr. barks, object)\n",
    "- Text mining: `[10, 2, 52, 33]` (frequency of: 'with', 'sir', 'a', 'some')\n",
    "\n",
    "\n",
    "- Construct big vocabulary (each token occurs one time).\n",
    "- Convert a text to a vector using this vocabulary as features, frequencies as values."
   ]
  },
  {
   "cell_type": "markdown",
   "metadata": {
    "slideshow": {
     "slide_type": "subslide"
    }
   },
   "source": [
    "### Tokenization\n",
    "\n",
    "- Count tokens for features.\n",
    "- Variety might give 'duplicates'.\n",
    "- What to do with Out of Vocabulary words (OOV)?"
   ]
  },
  {
   "cell_type": "code",
   "execution_count": 9,
   "metadata": {
    "collapsed": false,
    "scrolled": true
   },
   "outputs": [
    {
     "data": {
      "text/plain": [
       "['I',\n",
       " 'grew',\n",
       " 'up',\n",
       " 'in',\n",
       " 'Gregory,',\n",
       " 'Michigan,',\n",
       " 'a',\n",
       " 'small',\n",
       " 'town',\n",
       " 'in',\n",
       " 'the',\n",
       " 'middle',\n",
       " 'of',\n",
       " 'nowhere;',\n",
       " 'a',\n",
       " 'town',\n",
       " 'that',\n",
       " 'literally',\n",
       " 'borders',\n",
       " 'Hell.',\n",
       " 'That’s',\n",
       " 'Hell,',\n",
       " 'Michigan.',\n",
       " 'I',\n",
       " 'wish',\n",
       " 'I',\n",
       " 'was',\n",
       " 'kidding.',\n",
       " 'My',\n",
       " 'dad',\n",
       " 'was',\n",
       " 'a',\n",
       " 'second',\n",
       " 'shift',\n",
       " 'supervisor',\n",
       " 'at',\n",
       " 'a',\n",
       " 'General',\n",
       " 'Motors',\n",
       " 'plant',\n",
       " 'in',\n",
       " 'Detroit.',\n",
       " 'He',\n",
       " 'always',\n",
       " 'wanted',\n",
       " 'to',\n",
       " 'have',\n",
       " 'the',\n",
       " 'latest',\n",
       " 'expensive',\n",
       " 'things;',\n",
       " 'we',\n",
       " 'owned',\n",
       " 'an',\n",
       " 'early',\n",
       " 'home',\n",
       " 'PC',\n",
       " 'and',\n",
       " 'he’d',\n",
       " 'bring',\n",
       " 'home',\n",
       " 'these',\n",
       " 'floppy',\n",
       " 'discs',\n",
       " 'filled',\n",
       " 'with',\n",
       " 'games',\n",
       " '–',\n",
       " 'they',\n",
       " 'would',\n",
       " 'trade',\n",
       " 'them',\n",
       " 'around',\n",
       " 'at',\n",
       " 'his',\n",
       " 'office.',\n",
       " 'My',\n",
       " 'mom',\n",
       " 'worked',\n",
       " 'as',\n",
       " 'a',\n",
       " 'secretary',\n",
       " 'and',\n",
       " 'later',\n",
       " 'a',\n",
       " 'substitute',\n",
       " 'teacher',\n",
       " 'and',\n",
       " 'a',\n",
       " 'city',\n",
       " 'postal',\n",
       " 'carrier',\n",
       " '–',\n",
       " 'she',\n",
       " 'learned',\n",
       " 'how',\n",
       " 'to',\n",
       " 'program',\n",
       " 'at',\n",
       " 'college.',\n",
       " 'She',\n",
       " 'made',\n",
       " 'sure',\n",
       " 'we',\n",
       " 'all',\n",
       " 'had',\n",
       " 'access',\n",
       " 'to',\n",
       " 'the',\n",
       " 'computer,',\n",
       " 'even',\n",
       " 'though',\n",
       " 'my',\n",
       " 'sister',\n",
       " 'and',\n",
       " 'I',\n",
       " 'were',\n",
       " 'super',\n",
       " 'little',\n",
       " 'and',\n",
       " 'there',\n",
       " 'were',\n",
       " 'six',\n",
       " 'of',\n",
       " 'us',\n",
       " 'fighting',\n",
       " 'to',\n",
       " 'use',\n",
       " 'it.']"
      ]
     },
     "execution_count": 9,
     "metadata": {},
     "output_type": "execute_result"
    }
   ],
   "source": [
    "body[4].text.split()"
   ]
  },
  {
   "cell_type": "markdown",
   "metadata": {
    "slideshow": {
     "slide_type": "subslide"
    }
   },
   "source": [
    "### Tokenization II\n",
    "\n",
    "- \"General Motors\", \"Back to the Future\"\n",
    "- \"he'd\", \"can't\"\n",
    "- sentence boundaries: dr. Horrible, U.K.\n",
    "- what about urls, twitter hashtags, emails?"
   ]
  },
  {
   "cell_type": "markdown",
   "metadata": {
    "slideshow": {
     "slide_type": "subslide"
    }
   },
   "source": [
    "### Information Representation\n",
    "\n",
    "- What do token / word frequencies tell us?\n",
    "- What about very common words? Same as high values in data mining?"
   ]
  },
  {
   "cell_type": "markdown",
   "metadata": {
    "slideshow": {
     "slide_type": "subslide"
    }
   },
   "source": [
    "### Type-Token Ratio\n",
    "\n",
    "Measuring lexical variety."
   ]
  },
  {
   "cell_type": "code",
   "execution_count": 10,
   "metadata": {
    "collapsed": false
   },
   "outputs": [
    {
     "data": {
      "text/plain": [
       "[('the', 82),\n",
       " ('a', 41),\n",
       " ('and', 41),\n",
       " ('of', 34),\n",
       " ('I', 33),\n",
       " ('in', 29),\n",
       " ('to', 28),\n",
       " ('was', 23),\n",
       " ('we', 22),\n",
       " ('–', 15)]"
      ]
     },
     "execution_count": 10,
     "metadata": {},
     "output_type": "execute_result"
    }
   ],
   "source": [
    "from collections import Counter\n",
    "\n",
    "article_text = '\\n'.join([p.text for p in body])\n",
    "wf = Counter(article_text.split())\n",
    "wf.most_common(10)"
   ]
  },
  {
   "cell_type": "code",
   "execution_count": 11,
   "metadata": {
    "collapsed": false
   },
   "outputs": [
    {
     "name": "stdout",
     "output_type": "stream",
     "text": [
      "0.4648928307464893\n"
     ]
    }
   ],
   "source": [
    "print(len(wf) / len(article_text.split()))"
   ]
  },
  {
   "cell_type": "markdown",
   "metadata": {
    "slideshow": {
     "slide_type": "subslide"
    }
   },
   "source": [
    "### Type-Token Ratio II\n",
    "\n",
    "What does this say about reading complexity?"
   ]
  },
  {
   "cell_type": "code",
   "execution_count": 12,
   "metadata": {
    "collapsed": false
   },
   "outputs": [
    {
     "name": "stdout",
     "output_type": "stream",
     "text": [
      "0.42040119504908235\n"
     ]
    }
   ],
   "source": [
    "simple_art = open('data/simple-wiki.txt').read()\n",
    "wf_simple = Counter(simple_art.split())\n",
    "print(len(wf_simple) / len(simple_art.split()))"
   ]
  },
  {
   "cell_type": "code",
   "execution_count": 13,
   "metadata": {
    "collapsed": false
   },
   "outputs": [
    {
     "name": "stdout",
     "output_type": "stream",
     "text": [
      "0.3476906552094522\n"
     ]
    }
   ],
   "source": [
    "normal_art = open('../Week 1 - Introduction/data/artificial-intelligence.txt').read()\n",
    "wf_normal = Counter(normal_art.split())\n",
    "print(len(wf_normal) / len(normal_art.split()))"
   ]
  },
  {
   "cell_type": "markdown",
   "metadata": {
    "slideshow": {
     "slide_type": "subslide"
    }
   },
   "source": [
    "### Word Frequency Distribution"
   ]
  },
  {
   "cell_type": "code",
   "execution_count": 14,
   "metadata": {
    "collapsed": false
   },
   "outputs": [
    {
     "data": {
      "text/html": [
       "<script>requirejs.config({paths: { 'plotly': ['https://cdn.plot.ly/plotly-latest.min']},});if(!window.Plotly) {{require(['plotly'],function(plotly) {window.Plotly=plotly;});}}</script>"
      ],
      "text/plain": [
       "<IPython.core.display.HTML object>"
      ]
     },
     "metadata": {},
     "output_type": "display_data"
    },
    {
     "data": {
      "text/html": [
       "<div id=\"80f3d584-b82a-4b73-a63d-cdaafaa57631\" style=\"height: 525px; width: 100%;\" class=\"plotly-graph-div\"></div><script type=\"text/javascript\">require([\"plotly\"], function(Plotly) { window.PLOTLYENV=window.PLOTLYENV || {};window.PLOTLYENV.BASE_URL=\"https://plot.ly\";Plotly.newPlot(\"80f3d584-b82a-4b73-a63d-cdaafaa57631\", [{\"y\": [189, 94, 90, 55, 41, 41, 32, 28, 27, 24, 21, 21, 20, 18, 17, 15, 15, 15, 14, 14, 13, 13, 13, 12, 12, 11, 11, 11, 10, 10, 9, 9, 8, 8, 8, 7, 7, 7, 7, 7, 7, 7, 6, 6, 6, 6, 6, 6, 6, 6, 6, 5, 5, 5, 5, 5, 5, 5, 5, 5, 5, 5, 5, 5, 5, 5, 4, 4, 4, 4, 4, 4, 4, 4, 4, 4, 4, 4, 4, 4, 4, 4, 4, 4, 4, 4, 4, 4, 4, 4, 4, 3, 3, 3, 3, 3, 3, 3, 3, 3, 3, 3, 3, 3, 3, 3, 3, 3, 3, 3, 3, 3, 3, 3, 3, 3, 3, 3, 3, 3, 3, 3, 3, 3, 3, 3, 3, 3, 3, 3, 3, 3, 3, 3, 3, 3, 3, 3, 3, 3, 3, 2, 2, 2, 2, 2, 2, 2, 2, 2, 2, 2, 2, 2, 2, 2, 2, 2, 2, 2, 2, 2, 2, 2, 2, 2, 2, 2, 2, 2, 2, 2, 2, 2, 2, 2, 2, 2, 2, 2, 2, 2, 2, 2, 2, 2, 2, 2, 2, 2, 2, 2, 2, 2, 2, 2, 2, 2, 2, 2, 2, 2, 2, 2, 2, 2, 2, 2, 2, 2, 2, 2, 2, 2, 2, 2, 2, 2, 2, 2, 2, 2, 2, 2, 2, 2, 2, 2, 2, 2, 2, 2, 2, 2, 2, 2, 2, 2, 2, 2, 2, 2, 2, 2, 2, 2, 2, 2, 2, 2, 2, 2, 2, 2, 2, 2, 2, 2, 2, 2, 2, 2, 2, 1, 1, 1, 1, 1, 1, 1, 1, 1, 1, 1, 1, 1, 1, 1, 1, 1, 1, 1, 1, 1, 1, 1, 1, 1, 1, 1, 1, 1, 1, 1, 1, 1, 1, 1, 1, 1, 1, 1, 1, 1, 1, 1, 1, 1, 1, 1, 1, 1, 1, 1, 1, 1, 1, 1, 1, 1, 1, 1, 1, 1, 1, 1, 1, 1, 1, 1, 1, 1, 1, 1, 1, 1, 1, 1, 1, 1, 1, 1, 1, 1, 1, 1, 1, 1, 1, 1, 1, 1, 1, 1, 1, 1, 1, 1, 1, 1, 1, 1, 1, 1, 1, 1, 1, 1, 1, 1, 1, 1, 1, 1, 1, 1, 1, 1, 1, 1, 1, 1, 1, 1, 1, 1, 1, 1, 1, 1, 1, 1, 1, 1, 1, 1, 1, 1, 1, 1, 1, 1, 1, 1, 1, 1, 1, 1, 1, 1, 1, 1, 1, 1, 1, 1, 1, 1, 1, 1, 1, 1, 1, 1, 1, 1, 1, 1, 1, 1, 1, 1, 1, 1, 1, 1, 1, 1, 1, 1, 1, 1, 1, 1, 1, 1, 1, 1, 1, 1, 1, 1, 1, 1, 1, 1, 1, 1, 1, 1, 1, 1, 1, 1, 1, 1, 1, 1, 1, 1, 1, 1, 1, 1, 1, 1, 1, 1, 1, 1, 1, 1, 1, 1, 1, 1, 1, 1, 1, 1, 1, 1, 1, 1, 1, 1, 1, 1, 1, 1, 1, 1, 1, 1, 1, 1, 1, 1, 1, 1, 1, 1, 1, 1, 1, 1, 1, 1, 1, 1, 1, 1, 1, 1, 1, 1, 1, 1, 1, 1, 1, 1, 1, 1, 1, 1, 1, 1, 1, 1, 1, 1, 1, 1, 1, 1, 1, 1, 1, 1, 1, 1, 1, 1, 1, 1, 1, 1, 1, 1, 1, 1, 1, 1, 1, 1, 1, 1, 1, 1, 1, 1, 1, 1, 1, 1, 1, 1, 1, 1, 1, 1, 1, 1, 1, 1, 1, 1, 1, 1, 1, 1, 1, 1, 1, 1, 1, 1, 1, 1, 1, 1, 1, 1, 1, 1, 1, 1, 1, 1, 1, 1, 1, 1, 1, 1, 1, 1, 1, 1, 1, 1, 1, 1, 1, 1, 1, 1, 1, 1, 1, 1, 1, 1, 1, 1, 1, 1, 1, 1, 1, 1, 1, 1, 1, 1, 1, 1, 1, 1, 1, 1, 1, 1, 1, 1, 1, 1, 1, 1, 1, 1, 1, 1, 1, 1, 1, 1, 1, 1, 1, 1, 1, 1, 1, 1, 1, 1, 1, 1, 1, 1, 1, 1, 1, 1, 1, 1, 1, 1, 1, 1, 1, 1, 1, 1, 1, 1, 1, 1, 1, 1, 1, 1, 1, 1, 1, 1, 1, 1, 1, 1, 1, 1, 1, 1, 1, 1, 1, 1, 1, 1, 1, 1, 1, 1, 1, 1, 1, 1, 1, 1, 1, 1, 1, 1, 1, 1, 1, 1, 1, 1, 1, 1, 1, 1, 1, 1, 1, 1, 1, 1, 1, 1, 1, 1, 1, 1, 1, 1, 1, 1, 1, 1, 1, 1, 1, 1, 1, 1, 1, 1, 1, 1, 1, 1, 1, 1, 1, 1, 1, 1, 1, 1, 1, 1, 1, 1, 1, 1, 1, 1, 1, 1, 1, 1, 1, 1, 1, 1, 1, 1, 1, 1, 1, 1, 1, 1, 1, 1, 1, 1, 1, 1, 1, 1, 1, 1, 1, 1, 1, 1, 1, 1, 1, 1, 1, 1, 1, 1, 1, 1, 1, 1, 1, 1, 1, 1, 1, 1, 1, 1, 1, 1, 1, 1, 1, 1, 1, 1, 1, 1, 1, 1, 1, 1, 1, 1, 1, 1, 1, 1, 1, 1, 1, 1, 1, 1, 1, 1, 1, 1, 1, 1, 1, 1, 1, 1, 1, 1, 1, 1, 1, 1, 1, 1, 1, 1, 1, 1, 1, 1, 1, 1, 1, 1, 1, 1, 1, 1, 1, 1, 1, 1, 1, 1, 1, 1, 1, 1, 1, 1, 1, 1, 1, 1, 1, 1, 1, 1, 1, 1, 1, 1, 1, 1, 1, 1, 1, 1, 1, 1, 1, 1, 1, 1, 1, 1, 1, 1, 1, 1, 1, 1, 1, 1, 1, 1, 1, 1, 1, 1, 1, 1, 1, 1, 1, 1, 1, 1, 1, 1, 1, 1, 1, 1, 1, 1, 1, 1, 1, 1, 1, 1, 1, 1, 1, 1, 1, 1, 1, 1, 1, 1, 1], \"x\": [\"the\", \"and\", \"of\", \"in\", \"is\", \"The\", \"a\", \"to\", \"was\", \"are\", \"United\", \"from\", \"by\", \"UK\", \"as\", \"source]\", \"change\", \"|\", \"Scotland\", \"Kingdom\", \"were\", \"Britain\", \"Northern\", \"England\", \"with\", \"but\", \"has\", \"English\", \"Parliament\", \"It\", \"people\", \"Ireland\", \"most\", \"not\", \"which\", \"for\", \"called\", \"Great\", \"one\", \"country\", \"have\", \"it\", \"network\", \"who\", \"between\", \"In\", \"military\", \"became\", \"on\", \"London\", \"or\", \"Scottish\", \"Wales,\", \"than\", \"two\", \"century,\", \"British\", \"other\", \"more\", \"London,\", \"laws\", \"largest\", \"early\", \"that\", \"world,\", \"major\", \"be\", \"countries\", \"Ireland.\", \"air\", \"into\", \"century\", \"party\", \"such\", \"Irish\", \"capital\", \"city\", \"cities\", \"built\", \"economy\", \"They\", \"20th\", \"House\", \"its\", \"Wales\", \"ruled\", \"Ireland,\", \"large\", \"Prime\", \"member\", \"also\", \"own\", \"England,\", \"languages[change\", \"until\", \"navy\", \"controlled\", \"at\", \"power\", \"College\", \"include\", \"made\", \"Scots\", \"remains\", \"much\", \"Queen\", \"five\", \"Europe.\", \"Most\", \"He\", \"Birmingham,\", \"Atlantic\", \"their\", \"only\", \"world.\", \"Channel\", \"when\", \"system\", \"owned\", \"Members\", \"languages\", \"they\", \"had\", \"power.\", \"powerful\", \"Welsh\", \"North\", \"Kingdom.\", \"some\", \"where\", \"written\", \"devolved\", \"could\", \"world\", \"There\", \"Gaelic\", \"country.\", \"universities\", \"state\", \"part\", \"international\", \"service\", \"See\", \"various\", \"leader\", \"both\", \"(via\", \"secondary\", \"After\", \"attend\", \"after\", \"History\", \"University\", \"-\", \"well,\", \"long\", \"peers\", \"vote\", \"king\", \"Romans\", \"an\", \"Celtic\", \"vote.\", \"English.\", \"operate\", \"known\", \"links\", \"Ireland)\", \"side\", \"first\", \"so\", \"during\", \"northern\", \"parliaments\", \"because\", \"road\", \"Manchester,\", \"developed\", \"UK,\", \"live\", \"mostly\", \"brought\", \"I\", \"Bristol,\", \"biggest\", \"York\", \"Parliament,\", \"English,\", \"17th\", \"she\", \"also:\", \"empire\", \"Charles\", \"partly\", \"(400,000),\", \"same\", \"Major\", \"19th\", \"(called\", \"all\", \"universities.\", \"usually\", \"century.\", \"sovereign\", \"since\", \"successfully\", \"1960s\", \"form\", \"Cornish\", \"plays\", \"Other\", \"right\", \"members\", \"influence\", \"networks\", \"Many\", \"there\", \"group\", \"hand\", \"independent\", \"Security\", \"Conservative\", \"left\", \"Today,\", \"sixth\", \"literature\", \"cities.\", \"age\", \"This\", \"Scotland.\", \"Some\", \"Minister,\", \"number\", \"speak\", \"mid\", \"ferry\", \"Minister\", \"his\", \"less\", \"A\", \"(Royal\", \"make\", \"along\", \"Britain.\", \"hereditary\", \"political\", \"children\", \"wrote\", \"Around\", \"lines\", \"enough\", \"routes\", \"men\", \"Liverpool,\", \"force\", \"head\", \"Germanic\", \"Glasgow.\", \"Elizabeth\", \"over\", \"island\", \"mainland\", \"many\", \"Group,\", \"even\", \"Julius\", \"fathers\", \"Parliament.\", \"Nations\", \"tribal\", \"stations\", \"Romans,\", \"novelists.\", \"independently\", \"centre\", \"writer\", \"already\", \"west\", \"connects\", \"capital,\", \"England.\", \"410AD,\", \"holds\", \"Huxley\", \"Union,\", \"era.\", \"Oxford,\", \"time,\", \"(200,000),\", \"collection\", \"mesolithic\", \"Romeo\", \"nations\", \"Africa,\", \"driver\", \"Simple\", \"govern\", \"army\", \"won\", \"seat\", \"London-Gatwick,\", \"principal\", \"Rail.\", \"drives\", \"departure\", \"round\", \"new\", \"tribes\", \"rural\", \"power,\", \"20th-centuries\", \"leader.\", \"Imperial\", \"arrived\", \"Austen\", \"Literature.\", \"suffrage\", \"945AD.\", \"together\", \"Glasgow,\", \"Triangle'\", \"1920s.\", \"History[change\", \"islands)\", \"Nations.\", \"decides\", \"Anne.\", \"USA\", \"1800s\", \"Wells\", \"railways\", \"Though\", \"year,\", \"marked\", \"administrations\", \"Wikipedia,\", \"control\", \"sizable\", \"Commons\", \"Caesar\", \"this\", \"changeable\", \"America\", \"half\", \"valley,\", \"property\", \"airport\", \"last\", \"boundary\", \"Nations,\", \"8000BC\", \"Parliaments\", \"(freeway)\", \"States.\", \"northerly\", \"free\", \"European\", \"station\", \"Politics[change\", \"body\", \"car.\", \"hundreds\", \"famous\", \"strength.\", \"towns\", \"Coventry,\", \"certainly\", \"speakers\", \"Tube,\", \"Tolkien.\", \"Prehistory[change\", \"1603,\", \"while\", \"surrounded\", \"upon\", \"School\", \"airports\", \"strong\", \"coast\", \"ages\", \"stone\", \"falls\", \"operates\", \"Isle\", \"peers:\", \"France\", \"government.\", \"areas\", \"invented\", \"Cornwall.\", \"limited\", \"Union\", \"rest\", \"Wall.\", \"schools.\", \"Network\", \"Union.\", \"hot\", \"peers);\", \"world.[9][10]\", \"recent\", \"(their\", \"Angles,\", \"evolved\", \"Ireland;\", \"223,000\", \"Parliament[change\", \"approximate\", \"them.\", \"Century\", \"language\", \"global\", \"manufacturing\", \"different\", \"kingdoms,\", \"influential\", \"joined\", \"passed\", \"majority)\", \"Creole\", \"1600BC.[12]\", \"period\", \"slowly\", \"Twentieth\", \"16th\", \"City\", \"Aldous\", \"State\", \"colonial\", \"can\", \"elected\", \"London-Heathrow\", \"including\", \"unified\", \"countries.\", \"conflicts\", \"although\", \"Commonwealth\", \"Crown\", \"economic,\", \"Urdu\", \"Cantonese\", \"chosen\", \"Rome\", \"indirectly,\", \"politics,\", \"led\", \"Southwestern\", \"Labour\", \"being\", \"An\", \"authors\", \"World\", \"important\", \"winds\", \"Writing\", \"tried\", \"Eastern\", \"Heaney\", \"late\", \"(due\", \"language.\", \"Victorian\", \"(471,000),\", \"I,\", \"Cambridge\", \"adults,\", \"By\", \"Caribbean\", \"sixteen.\", \"education,\", \"rules\", \"William\", \"Sea)\", \"changing\", \"traffic\", \"extensive,\", \"Eight\", \"Archaeological\", \"private\", \"Polish\", \"north-west\", \"Pancras\", \"gained\", \"(now\", \"Bradford\", \"Jutes.\", \"nineteenth\", \"unified[change\", \"six\", \"schools\", \"reduced\", \"development\", \"Europe),\", \"(Law\", \"Dickens\", \"varied\", \"London.\", \"winters\", \"(take\", \"55BC\", \"From\", \"warm\", \"hubs\", \"Sahara.\", \"parts\", \"split\", \"governs\", \"bishops\", \"contract\", \"cultural,\", \"million\", \"agree\", \"rich\", \"longer;\", \"St\", \"restored\", \"Force).\", \"monarchs.\", \"Old\", \"government;\", \"Medieval\", \"Theresa\", \"cool\", \"providing\", \"remnants\", \"local\", \"Edward\", \"others,\", \"under\", \"huge\", \"travel\", \"sea,\", \"operating\", \"time.)\", \"end\", \"formed\", \"democracy\", \"Asia,\", \"started\", \"1908\", \"time.\", \"Ocean.\", \"out\", \"Bengali\", \"Arthur\", \"moderate\", \"monarchy.\", \"state.\", \"got\", \"privatised,\", \"Nobel\", \"May,\", \"Kingdom),\", \"any\", \"Jane\", \"Roman\", \"Scotland,\", \"advisory\", \"sit\", \"education.\", \"islands,\", \"alongside\", \"speed\", \"warm,\", \"practical\", \"Sheffield,\", \"Dylan\", \"novelist\", \"Leeds,\", \"Foreign\", \"newest\", \"J.K.\", \"having\", \"no\", \"Sea,\", \"relative\", \"up\", \"system.\", \"Britain,\", \"'Golden\", \"does\", \"constitutional\", \"Isles\", \"GB\", \"VI\", \"Protector.\", \"invade\", \"systems\", \"However,\", \"Gulf\", \"over)\", \"main\", \"economic\", \"Military[change\", \"countries:\", \"places\", \"majority\", \"status\", \"dense\", \"fact\", \"Because\", \"died,\", \"thirds\", \"Cromwell\", \"Ulster\", \"research\", \"(British\", \"particular\", \"elected,\", \"Clyde-Forth\", \"distance\", \"considered\", \"Edinburgh.\", \"merge\", \"queen\", \"female,\", \"first.\", \"off\", \"Navy)\", \"male\", \"areas,\", \"then\", \"Britain's\", \"tracks,\", \"43AD.[13]\", \"Nottingham.\", \"came\", \"writers\", \"companies\", \"ice\", \"school\", \"cold.\", \"able\", \"Assemblies\", \"certain\", \"few\", \"parliament.\", \"Thomas\", \"18th,\", \"continued\", \"health\", \"Greek\", \"Even\", \"time\", \"language,\", \"do\", \"Channel),\", \"Hadrian's\", \"education\", \"eighteen,\", \"monarch,\", \"Doyle\", \"Tyne,\", \"date\", \"Summers\", \"extensive\", \"London)\", \"waves\", \"standard\", \"Member\", \"affairs.\", \"act\", \"account\", \"NATO.\", \"merged\", \"Commonwealth,\", \"Shakespeare\", \"each\", \"groups\", \"Anglo-Saxon\", \"closest\", \"what\", \"England/Wales-Republic\", \"vehicle.\", \"Commons,\", \"twentieth\", \"leading\", \"weather\", \"monuments.\", \"regions.\", \"except\", \"Potter\", \"fiction\", \"powers.\", \"becomes\", \"Edinburgh,\", \"hunter-gatherers\", \"regions,\", \"belong\", \"Rail\", \"Stonehenge\", \"Lord\", \"prevailing\", \"Rowling.\", \"so.\", \"domestic\", \"Conan\", \"great\", \"things\", \"though\", \"vote),\", \"Judiciary\", \"constructed\", \"universal\", \"permanent\", \"signals\", \"actually\", \"her\", \"Prize\", \"oldest\", \"population\", \"second\", \"II\", \"required\", \"known:\", \"grants\", \"steers\", \"territories.\", \"Oliver\", \"UK.\", \"four\", \"nation\", \"states.\", \"agreed\", \"Holmes\", \"UN\", \"forms\", \"parties:\", \"he\", \"rules,\", \"H.G.\", \"option).\", \"wood\", \"transport\", \"3000\", \"allowed\", \"motor\", \"cost\", \"Empire\", \"War.\", \"passed.\", \"Education[change\", \"culture\", \"north-east\", \"1215\", \"similar,\", \"twenty\", \"1970s\", \"appoints\", \"wealthiest\", \"Queen.\", \"Wales.\", \"King\", \"J.R.R.\", \"seen\", \"needs\", \"(from\", \"Edinburgh\", \"G8,\", \"1200.\", \"counties\", \"times.\", \"UK.[4]\", \"total\", \"Oceania.[11]\", \"policy.\", \"(mostly\", \"MPs)\", \"Liverpool/Holyhead).\", \"whilst\", \"attention.\", \"Transport[change\", \"Saxons\", \"ministers.\", \"Cardiff,\", \"(unlike\", \"invaded\", \"parliamentary\", \"Scotland-Northern\", \"heart\", \"finance\", \"years\", \"economics\", \"year\", \"King's\", \"Romans.\", \"German\", \"union\", \"Treaty\", \"1707\", \"Army),\", \"parties\", \"series\", \"Leicester,\", \"immigrants\", \"perhaps\", \"G8.\", \"44AD\", \"poet\", \"latitude\", \"established\", \"Manchester\", \"1900,\", \"\\u00c6thelstan\", \"science\", \"Geography[change\", \"Macbeth.\", \"government,\", \"native\", \"women\", \"ended.\", \"Tunnel\", \"railway\", \"Islands,\", \"independent.\", \"Cardiff.\", \"tribes:\", \"still\", \"faded\", \"Juliet\", \"overseas\", \"broader\", \"Democrats.\", \"show\", \"north\", \"Seamus\", \"(500,000\", \"collectively\", \"Party\", \"Rain\", \"so,\", \"people.\", \"sit.\", \"Stream.\", \"here\", \"privately\", \"But\", \"times,\", \"Government\", \"given\", \"Literature[change\", \"Native\", \"former\", \"death,\", \"continue\", \"Organization\", \"France,\", \"born\", \"centres\", \"smaller\", \"(For\", \"Kingdom.[8]\", \"Lords).\", \"At\", \"vote:\", \"sits\", \"Americas\", \"motorway\", \"Free\", \"Road\", \"around\", \"state,\", \"Trade\", \"Harry\", \"NATO,\", \"Council,\", \"Sherlock\", \"together.\", \"65\", \"novels.\", \"now\", \"Ocean's\", \"vote,\", \"Air\", \"40%\", \"Kingdom,\", \"company\", \"Belfast,\", \"Between\", \"based\", \"Civil\", \"children's\", \"(University\", \"5000BC.\", \"high\", \"moderately\", \"appointed\", \"may\", \"(300,000),\", \"(170,000).[14]\", \"defeat\", \"east\", \"parts:\", \"Man\", \"nuclear\", \"powers\", \"UK[change\", \"well\", \"government\", \"throughout\", \"seats\", \"made.\", \"James\", \"TGV\", \"Arctic\", \"empire.\", \"100\", \"begins\", \"them\", \"radiate\", \"train\", \"rail\", \"keeps\", \"took\", \"1950s\", \"spoken\", \"Punjabi\", \"within\", \"underground\", \"Southampton,\", \"people,\", \"overall\", \"18th\", \"(a\", \"water\", \"separate,\", \"13th\", \"unpredictable.\", \"interrupted\", \"copied\", \"NATO\", \"commuter\", \"three\", \"reserve\", \"1800,\", \"Lords,\", \"Russell\", \"law.\", \"Newcastle\", \"Council\", \"suffrage.\", \"(Athelstan)\", \"funding\", \"Liberal\", \"Party,\", \"superpower\", \"roads\", \"islands\", \"never\", \"(Longshanks)\", \"whole\", \"Panjabi\", \"been\", \"monarchy\", \"decline\", \"renamed\", \"1922\", \"nation\\u2019s\", \"playwright.\", \"role\", \"unites\", \"Economics,\", \"Vikings.\", \"record.\", \"part.\", \"detective\", \"Empire.\", \"fantasy\", \"Church\", \"(the\", \"wars\", \"Belfast.\", \"normally\", \"encyclopedia\", \"advanced\", \"democratically\", \"Lords\", \"New\", \"1928,\", \"like\", \"forces.\", \"1707,\", \"Economy[change\", \"French\"]}], {}, {\"showLink\": true, \"linkText\": \"Export to plot.ly\"})});</script>"
      ],
      "text/plain": [
       "<IPython.core.display.HTML object>"
      ]
     },
     "metadata": {},
     "output_type": "display_data"
    }
   ],
   "source": [
    "from plotly.offline import download_plotlyjs, init_notebook_mode, plot, iplot\n",
    "init_notebook_mode(connected=True)\n",
    "\n",
    "simple_word, simple_freq = zip(*list(wf_simple.most_common(500000)))\n",
    "\n",
    "iplot([{\"x\": simple_word, \"y\": simple_freq}])"
   ]
  },
  {
   "cell_type": "markdown",
   "metadata": {
    "slideshow": {
     "slide_type": "subslide"
    }
   },
   "source": [
    "### Word Frequency Distribution II"
   ]
  },
  {
   "cell_type": "code",
   "execution_count": 15,
   "metadata": {
    "collapsed": false
   },
   "outputs": [
    {
     "data": {
      "text/html": [
       "<script>requirejs.config({paths: { 'plotly': ['https://cdn.plot.ly/plotly-latest.min']},});if(!window.Plotly) {{require(['plotly'],function(plotly) {window.Plotly=plotly;});}}</script>"
      ],
      "text/plain": [
       "<IPython.core.display.HTML object>"
      ]
     },
     "metadata": {},
     "output_type": "display_data"
    },
    {
     "data": {
      "text/html": [
       "<div id=\"16374a11-29ff-47fd-ac6f-7fe4253ad989\" style=\"height: 525px; width: 100%;\" class=\"plotly-graph-div\"></div><script type=\"text/javascript\">require([\"plotly\"], function(Plotly) { window.PLOTLYENV=window.PLOTLYENV || {};window.PLOTLYENV.BASE_URL=\"https://plot.ly\";Plotly.newPlot(\"16374a11-29ff-47fd-ac6f-7fe4253ad989\", [{\"y\": [392, 311, 304, 249, 185, 146, 139, 117, 99, 90, 89, 62, 60, 60, 58, 56, 56, 55, 53, 52, 47, 47, 46, 45, 38, 35, 32, 30, 30, 29, 28, 28, 28, 27, 27, 26, 26, 25, 25, 25, 24, 23, 23, 22, 22, 22, 21, 20, 19, 19, 19, 19, 18, 17, 17, 17, 17, 17, 17, 17, 16, 16, 16, 15, 15, 15, 15, 15, 15, 14, 14, 14, 14, 14, 14, 14, 14, 14, 13, 13, 13, 12, 12, 12, 12, 12, 12, 11, 11, 11, 11, 11, 11, 11, 10, 10, 10, 10, 10, 10, 10, 10, 10, 10, 10, 10, 10, 10, 10, 9, 9, 9, 9, 9, 9, 9, 9, 9, 9, 9, 9, 9, 9, 9, 9, 9, 9, 8, 8, 8, 8, 8, 8, 8, 8, 8, 8, 8, 8, 8, 8, 8, 8, 8, 7, 7, 7, 7, 7, 7, 7, 7, 7, 7, 7, 7, 7, 7, 7, 7, 7, 7, 7, 7, 7, 7, 7, 7, 7, 7, 7, 7, 6, 6, 6, 6, 6, 6, 6, 6, 6, 6, 6, 6, 6, 6, 6, 6, 6, 6, 6, 6, 6, 6, 6, 6, 6, 6, 6, 6, 6, 6, 6, 6, 6, 6, 6, 6, 6, 6, 6, 6, 5, 5, 5, 5, 5, 5, 5, 5, 5, 5, 5, 5, 5, 5, 5, 5, 5, 5, 5, 5, 5, 5, 5, 5, 5, 5, 5, 5, 5, 5, 5, 5, 5, 5, 5, 5, 5, 5, 5, 5, 5, 5, 5, 5, 4, 4, 4, 4, 4, 4, 4, 4, 4, 4, 4, 4, 4, 4, 4, 4, 4, 4, 4, 4, 4, 4, 4, 4, 4, 4, 4, 4, 4, 4, 4, 4, 4, 4, 4, 4, 4, 4, 4, 4, 4, 4, 4, 4, 4, 4, 4, 4, 4, 4, 4, 4, 4, 4, 4, 4, 4, 4, 4, 4, 4, 4, 4, 4, 4, 4, 4, 4, 4, 4, 4, 4, 4, 4, 4, 4, 4, 4, 4, 4, 4, 4, 4, 4, 4, 4, 4, 4, 4, 4, 4, 4, 4, 4, 4, 4, 4, 4, 4, 4, 4, 4, 4, 4, 4, 4, 4, 4, 4, 3, 3, 3, 3, 3, 3, 3, 3, 3, 3, 3, 3, 3, 3, 3, 3, 3, 3, 3, 3, 3, 3, 3, 3, 3, 3, 3, 3, 3, 3, 3, 3, 3, 3, 3, 3, 3, 3, 3, 3, 3, 3, 3, 3, 3, 3, 3, 3, 3, 3, 3, 3, 3, 3, 3, 3, 3, 3, 3, 3, 3, 3, 3, 3, 3, 3, 3, 3, 3, 3, 3, 3, 3, 3, 3, 3, 3, 3, 3, 3, 3, 3, 3, 3, 3, 3, 3, 3, 3, 3, 3, 3, 3, 3, 3, 3, 3, 3, 3, 3, 3, 3, 3, 3, 3, 3, 3, 3, 3, 3, 3, 3, 3, 3, 3, 3, 3, 3, 3, 3, 3, 3, 3, 3, 3, 3, 3, 3, 3, 3, 3, 3, 3, 3, 3, 3, 3, 3, 3, 3, 3, 3, 3, 3, 3, 3, 3, 3, 3, 3, 3, 3, 3, 3, 3, 3, 3, 3, 3, 3, 3, 3, 3, 3, 3, 3, 2, 2, 2, 2, 2, 2, 2, 2, 2, 2, 2, 2, 2, 2, 2, 2, 2, 2, 2, 2, 2, 2, 2, 2, 2, 2, 2, 2, 2, 2, 2, 2, 2, 2, 2, 2, 2, 2, 2, 2, 2, 2, 2, 2, 2, 2, 2, 2, 2, 2, 2, 2, 2, 2, 2, 2, 2, 2, 2, 2, 2, 2, 2, 2, 2, 2, 2, 2, 2, 2, 2, 2, 2, 2, 2, 2, 2, 2, 2, 2, 2, 2, 2, 2, 2, 2, 2, 2, 2, 2, 2, 2, 2, 2, 2, 2, 2, 2, 2, 2, 2, 2, 2, 2, 2, 2, 2, 2, 2, 2, 2, 2, 2, 2, 2, 2, 2, 2, 2, 2, 2, 2, 2, 2, 2, 2, 2, 2, 2, 2, 2, 2, 2, 2, 2, 2, 2, 2, 2, 2, 2, 2, 2, 2, 2, 2, 2, 2, 2, 2, 2, 2, 2, 2, 2, 2, 2, 2, 2, 2, 2, 2, 2, 2, 2, 2, 2, 2, 2, 2, 2, 2, 2, 2, 2, 2, 2, 2, 2, 2, 2, 2, 2, 2, 2, 2, 2, 2, 2, 2, 2, 2, 2, 2, 2, 2, 2, 2, 2, 2, 2, 2, 2, 2, 2, 2, 2, 2, 2, 2, 2, 2, 2, 2, 2, 2, 2, 2, 2, 2, 2, 2, 2, 2, 2, 2, 2, 2, 2, 2, 2, 2, 2, 2, 2, 2, 2, 2, 2, 2, 2, 2, 2, 2, 2, 2, 2, 2, 2, 2, 2, 2, 2, 2, 2, 2, 2, 2, 2, 2, 2, 2, 2, 2, 2, 2, 2, 2, 2, 2, 2, 2, 2, 2, 2, 2, 2, 2, 2, 2, 2, 2, 2, 2, 2, 2, 2, 2, 2, 2, 2, 2, 2, 2, 2, 2, 2, 2, 2, 2, 2, 2, 2, 2, 2, 2, 2, 2, 2, 2, 2, 2, 2, 2, 2, 2, 2, 2, 2, 2, 2, 2, 2, 2, 2, 2, 2, 2, 2, 2, 2, 2, 2, 2, 2, 2, 2, 2, 2, 2, 2, 2, 2, 2, 2, 2, 2, 2, 2, 2, 2, 2, 2, 2, 2, 2, 2, 2, 2, 2, 2, 2, 2, 2, 2, 2, 2, 2, 2, 2, 2, 2, 2, 2, 2, 2, 2, 2, 2, 2, 2, 2, 2, 2, 2, 2, 2, 2, 2, 2, 2, 2, 2, 2, 2, 2, 2, 2, 2, 2, 2, 2, 2, 2, 2, 2, 2, 2, 2, 2, 2, 2, 2, 2, 2, 2, 2, 2, 2, 2, 2, 2, 2, 2, 2, 2, 2, 2, 2, 2, 2, 2, 2, 2, 2, 2, 2, 2, 2, 2, 2, 2, 2, 2, 2, 2, 2, 1, 1, 1, 1, 1, 1, 1, 1, 1, 1, 1, 1, 1, 1, 1, 1, 1, 1, 1, 1, 1, 1, 1, 1, 1, 1, 1, 1, 1, 1, 1, 1, 1, 1, 1, 1, 1, 1, 1, 1, 1, 1, 1, 1, 1, 1, 1, 1, 1, 1, 1, 1, 1, 1, 1, 1, 1, 1, 1, 1, 1, 1, 1, 1, 1, 1, 1, 1, 1, 1, 1, 1, 1, 1, 1, 1, 1, 1, 1, 1, 1, 1, 1, 1, 1, 1, 1, 1, 1, 1, 1, 1, 1, 1, 1, 1, 1, 1, 1, 1, 1, 1, 1, 1, 1, 1, 1, 1, 1, 1, 1, 1, 1, 1, 1, 1, 1, 1, 1, 1, 1, 1, 1, 1, 1, 1, 1, 1, 1, 1, 1, 1, 1, 1, 1, 1, 1, 1, 1, 1, 1, 1, 1, 1, 1, 1, 1, 1, 1, 1, 1, 1, 1, 1, 1, 1, 1, 1, 1, 1, 1, 1, 1, 1, 1, 1, 1, 1, 1, 1, 1, 1, 1, 1, 1, 1, 1, 1, 1, 1, 1, 1, 1, 1, 1, 1, 1, 1, 1, 1, 1, 1, 1, 1, 1, 1, 1, 1, 1, 1, 1, 1, 1, 1, 1, 1, 1, 1, 1, 1, 1, 1, 1, 1, 1, 1, 1, 1, 1, 1, 1, 1, 1, 1, 1, 1, 1, 1, 1, 1, 1, 1, 1, 1, 1, 1, 1, 1, 1, 1, 1, 1, 1, 1, 1, 1, 1, 1, 1, 1, 1, 1, 1, 1, 1, 1, 1, 1, 1, 1, 1, 1, 1, 1, 1, 1, 1, 1, 1, 1, 1, 1, 1, 1, 1, 1, 1, 1, 1, 1, 1, 1, 1, 1, 1, 1, 1, 1, 1, 1, 1, 1, 1, 1, 1, 1, 1, 1, 1, 1, 1, 1, 1, 1, 1, 1, 1, 1, 1, 1, 1, 1, 1, 1, 1, 1, 1, 1, 1, 1, 1, 1, 1, 1, 1, 1, 1, 1, 1, 1, 1, 1, 1, 1, 1, 1, 1, 1, 1, 1, 1, 1, 1, 1, 1, 1, 1, 1, 1, 1, 1, 1, 1, 1, 1, 1, 1, 1, 1, 1, 1, 1, 1, 1, 1, 1, 1, 1, 1, 1, 1, 1, 1, 1, 1, 1, 1, 1, 1, 1, 1, 1, 1, 1, 1, 1, 1, 1, 1, 1, 1, 1, 1, 1, 1, 1, 1, 1, 1, 1, 1, 1, 1, 1, 1, 1, 1, 1, 1, 1, 1, 1, 1, 1, 1, 1, 1, 1, 1, 1, 1, 1, 1, 1, 1, 1, 1, 1, 1, 1, 1, 1, 1, 1, 1, 1, 1, 1, 1, 1, 1, 1, 1, 1, 1, 1, 1, 1, 1, 1, 1, 1, 1, 1, 1, 1, 1, 1, 1, 1, 1, 1, 1, 1, 1, 1, 1, 1, 1, 1, 1, 1, 1, 1, 1, 1, 1, 1, 1, 1, 1, 1, 1, 1, 1, 1, 1, 1, 1, 1, 1, 1, 1, 1, 1, 1, 1, 1, 1, 1, 1, 1, 1, 1, 1, 1, 1, 1, 1, 1, 1, 1, 1, 1, 1, 1, 1, 1, 1, 1, 1, 1, 1, 1, 1, 1, 1, 1, 1, 1, 1, 1, 1, 1, 1, 1, 1, 1, 1, 1, 1, 1, 1, 1, 1, 1, 1, 1, 1, 1, 1, 1, 1, 1, 1, 1, 1, 1, 1, 1, 1, 1, 1, 1, 1, 1, 1, 1, 1, 1, 1, 1, 1, 1, 1, 1, 1, 1, 1, 1, 1, 1, 1, 1, 1, 1, 1, 1, 1, 1, 1, 1, 1, 1, 1, 1, 1, 1, 1, 1, 1, 1, 1, 1, 1, 1, 1, 1, 1, 1, 1, 1, 1, 1, 1, 1, 1, 1, 1, 1, 1, 1, 1, 1, 1, 1, 1, 1, 1, 1, 1, 1, 1, 1, 1, 1, 1, 1, 1, 1, 1, 1, 1, 1, 1, 1, 1, 1, 1, 1, 1, 1, 1, 1, 1, 1, 1, 1, 1, 1, 1, 1, 1, 1, 1, 1, 1, 1, 1, 1, 1, 1, 1, 1, 1, 1, 1, 1, 1, 1, 1, 1, 1, 1, 1, 1, 1, 1, 1, 1, 1, 1, 1, 1, 1, 1, 1, 1, 1, 1, 1, 1, 1, 1, 1, 1, 1, 1, 1, 1, 1, 1, 1, 1, 1, 1, 1, 1, 1, 1, 1, 1, 1, 1, 1, 1, 1, 1, 1, 1, 1, 1, 1, 1, 1, 1, 1, 1, 1, 1, 1, 1, 1, 1, 1, 1, 1, 1, 1, 1, 1, 1, 1, 1, 1, 1, 1, 1, 1, 1, 1, 1, 1, 1, 1, 1, 1, 1, 1, 1, 1, 1, 1, 1, 1, 1, 1, 1, 1, 1, 1, 1, 1, 1, 1, 1, 1, 1, 1, 1, 1, 1, 1, 1, 1, 1, 1, 1, 1, 1, 1, 1, 1, 1, 1, 1, 1, 1, 1, 1, 1, 1, 1, 1, 1, 1, 1, 1, 1, 1, 1, 1, 1, 1, 1, 1, 1, 1, 1, 1, 1, 1, 1, 1, 1, 1, 1, 1, 1, 1, 1, 1, 1, 1, 1, 1, 1, 1, 1, 1, 1, 1, 1, 1, 1, 1, 1, 1, 1, 1, 1, 1, 1, 1, 1, 1, 1, 1, 1, 1, 1, 1, 1, 1, 1, 1, 1, 1, 1, 1, 1, 1, 1, 1, 1, 1, 1, 1, 1, 1, 1, 1, 1, 1, 1, 1, 1, 1, 1, 1, 1, 1, 1, 1, 1, 1, 1, 1, 1, 1, 1, 1, 1, 1, 1, 1, 1, 1, 1, 1, 1, 1, 1, 1, 1, 1, 1, 1, 1, 1, 1, 1, 1, 1, 1, 1, 1, 1, 1, 1, 1, 1, 1, 1, 1, 1, 1, 1, 1, 1, 1, 1, 1, 1, 1, 1, 1, 1, 1, 1, 1, 1, 1, 1, 1, 1, 1, 1, 1, 1, 1, 1, 1, 1, 1, 1, 1, 1, 1, 1, 1, 1, 1, 1, 1, 1, 1, 1, 1, 1, 1, 1, 1, 1, 1, 1, 1, 1, 1, 1, 1, 1, 1, 1, 1, 1, 1, 1, 1, 1, 1, 1, 1, 1, 1, 1, 1, 1, 1, 1, 1, 1, 1, 1, 1, 1, 1, 1, 1, 1, 1, 1, 1, 1, 1, 1, 1, 1, 1, 1, 1, 1, 1, 1, 1, 1, 1, 1, 1, 1, 1, 1, 1, 1, 1, 1, 1, 1, 1, 1, 1, 1, 1, 1, 1, 1, 1, 1, 1, 1, 1, 1, 1, 1, 1, 1, 1, 1, 1, 1, 1, 1, 1, 1, 1, 1, 1, 1, 1, 1, 1, 1, 1, 1, 1, 1, 1, 1, 1, 1, 1, 1, 1, 1, 1, 1, 1, 1, 1, 1, 1, 1, 1, 1, 1, 1, 1, 1, 1, 1, 1, 1, 1, 1, 1, 1, 1, 1, 1, 1, 1, 1, 1, 1, 1, 1, 1, 1, 1, 1, 1, 1, 1, 1, 1, 1, 1, 1, 1, 1, 1, 1, 1, 1, 1, 1, 1, 1, 1, 1, 1, 1, 1, 1, 1, 1, 1, 1, 1, 1, 1, 1, 1, 1, 1, 1, 1, 1, 1, 1, 1, 1, 1, 1, 1, 1, 1, 1, 1, 1, 1, 1, 1, 1, 1, 1, 1, 1, 1, 1, 1, 1, 1, 1, 1, 1, 1, 1, 1, 1, 1, 1, 1, 1, 1, 1, 1, 1, 1, 1, 1, 1, 1, 1, 1, 1, 1, 1, 1, 1, 1, 1, 1, 1, 1, 1, 1, 1, 1, 1, 1, 1, 1, 1, 1, 1, 1, 1, 1, 1, 1, 1, 1, 1, 1, 1, 1, 1, 1, 1, 1, 1, 1, 1, 1, 1, 1, 1, 1, 1, 1, 1, 1, 1, 1, 1, 1, 1, 1, 1, 1, 1, 1, 1, 1, 1, 1, 1, 1, 1, 1, 1, 1, 1, 1, 1, 1, 1, 1, 1, 1, 1, 1, 1, 1, 1, 1, 1, 1, 1, 1, 1, 1, 1, 1, 1, 1, 1, 1, 1, 1, 1, 1, 1, 1, 1, 1, 1, 1, 1, 1, 1, 1, 1, 1, 1, 1, 1, 1, 1, 1, 1, 1, 1, 1, 1, 1, 1, 1, 1, 1, 1, 1, 1, 1, 1, 1, 1, 1, 1, 1, 1, 1, 1, 1, 1, 1, 1, 1, 1, 1, 1, 1, 1, 1, 1, 1, 1, 1, 1, 1, 1, 1, 1, 1, 1, 1, 1, 1, 1, 1, 1, 1, 1, 1, 1, 1, 1, 1, 1, 1, 1, 1, 1, 1, 1, 1, 1, 1, 1, 1, 1, 1, 1, 1, 1, 1, 1, 1, 1, 1, 1, 1, 1, 1, 1, 1, 1, 1, 1, 1, 1, 1, 1, 1, 1, 1, 1, 1, 1, 1, 1, 1, 1, 1, 1, 1, 1, 1, 1, 1, 1, 1, 1, 1, 1, 1, 1, 1, 1, 1, 1, 1, 1, 1, 1, 1, 1, 1, 1, 1, 1, 1, 1, 1, 1, 1, 1, 1, 1, 1, 1, 1, 1, 1, 1, 1, 1, 1, 1, 1, 1, 1, 1, 1, 1, 1, 1, 1, 1, 1, 1, 1, 1, 1, 1, 1, 1, 1, 1, 1, 1, 1, 1, 1, 1, 1, 1, 1, 1, 1, 1, 1, 1, 1, 1, 1, 1, 1, 1, 1, 1, 1, 1, 1, 1, 1, 1, 1, 1, 1, 1, 1, 1, 1, 1, 1, 1, 1, 1, 1, 1, 1, 1, 1, 1, 1, 1, 1, 1, 1, 1, 1, 1, 1, 1, 1, 1, 1, 1, 1, 1, 1, 1, 1, 1, 1, 1, 1, 1, 1, 1, 1, 1, 1, 1, 1, 1, 1, 1, 1, 1, 1, 1, 1, 1, 1, 1, 1, 1, 1, 1, 1, 1, 1, 1, 1, 1, 1, 1, 1, 1, 1, 1, 1, 1, 1, 1, 1, 1, 1, 1, 1, 1, 1, 1, 1, 1, 1, 1, 1, 1, 1, 1, 1, 1, 1, 1, 1, 1, 1, 1, 1, 1, 1, 1, 1, 1, 1, 1, 1, 1, 1, 1, 1, 1, 1, 1, 1, 1, 1, 1, 1, 1, 1, 1, 1, 1, 1, 1, 1, 1, 1, 1, 1, 1, 1, 1, 1, 1, 1, 1, 1, 1, 1, 1, 1, 1, 1, 1, 1, 1, 1, 1, 1, 1, 1, 1, 1, 1, 1, 1, 1, 1, 1, 1, 1, 1, 1, 1, 1, 1, 1, 1, 1, 1, 1, 1, 1, 1, 1, 1, 1, 1, 1, 1, 1, 1, 1, 1, 1, 1, 1, 1, 1, 1, 1, 1, 1, 1, 1, 1, 1, 1, 1, 1, 1, 1, 1, 1, 1, 1, 1, 1, 1, 1, 1, 1, 1, 1, 1, 1, 1, 1, 1, 1, 1, 1, 1, 1, 1, 1, 1, 1, 1, 1, 1, 1, 1, 1, 1, 1, 1, 1, 1, 1, 1, 1, 1, 1, 1, 1, 1, 1, 1, 1, 1, 1, 1, 1, 1, 1, 1, 1, 1, 1, 1, 1, 1, 1, 1, 1, 1, 1, 1, 1, 1, 1, 1, 1, 1, 1, 1, 1, 1, 1, 1, 1, 1, 1, 1, 1, 1, 1, 1, 1, 1, 1, 1, 1, 1, 1, 1, 1, 1, 1, 1, 1, 1, 1, 1, 1, 1, 1, 1, 1, 1, 1, 1, 1, 1, 1, 1, 1, 1, 1, 1, 1, 1, 1, 1, 1, 1, 1, 1, 1, 1, 1, 1, 1, 1, 1, 1, 1, 1, 1, 1, 1, 1, 1, 1, 1, 1, 1, 1, 1, 1, 1, 1, 1, 1, 1, 1, 1, 1, 1, 1, 1, 1, 1, 1, 1, 1, 1, 1, 1, 1, 1, 1, 1, 1, 1, 1, 1, 1, 1, 1, 1, 1, 1, 1, 1, 1, 1, 1, 1, 1, 1, 1, 1, 1, 1, 1, 1, 1, 1, 1, 1, 1, 1, 1, 1, 1, 1, 1, 1, 1, 1, 1, 1, 1, 1, 1, 1, 1, 1, 1, 1, 1, 1, 1, 1, 1, 1, 1, 1, 1, 1, 1, 1, 1, 1, 1, 1, 1, 1, 1, 1, 1, 1, 1, 1, 1, 1, 1, 1, 1, 1, 1, 1, 1, 1, 1, 1, 1, 1, 1, 1, 1, 1, 1, 1, 1, 1, 1, 1, 1, 1, 1, 1, 1, 1, 1, 1, 1, 1, 1, 1, 1, 1, 1, 1, 1, 1, 1, 1, 1, 1, 1, 1, 1, 1, 1, 1, 1, 1, 1, 1, 1, 1, 1, 1, 1, 1, 1, 1, 1, 1, 1, 1, 1, 1, 1, 1, 1, 1, 1, 1, 1, 1, 1, 1, 1, 1, 1, 1, 1, 1, 1, 1, 1, 1, 1, 1, 1, 1, 1, 1, 1, 1, 1, 1, 1, 1, 1, 1, 1, 1, 1, 1, 1, 1, 1, 1, 1, 1, 1, 1, 1, 1, 1, 1, 1, 1, 1, 1, 1, 1, 1, 1, 1, 1, 1, 1, 1, 1, 1, 1, 1, 1, 1, 1, 1, 1, 1, 1, 1, 1, 1, 1, 1, 1, 1, 1, 1, 1, 1, 1, 1, 1, 1, 1, 1, 1, 1, 1, 1, 1, 1, 1, 1, 1, 1, 1, 1, 1, 1, 1, 1, 1, 1, 1, 1, 1, 1, 1, 1, 1, 1, 1, 1, 1, 1, 1, 1, 1, 1, 1, 1, 1, 1, 1, 1, 1, 1, 1, 1, 1, 1, 1, 1, 1, 1, 1, 1, 1, 1, 1, 1, 1, 1, 1, 1, 1, 1, 1, 1, 1, 1, 1, 1, 1, 1, 1, 1, 1, 1, 1, 1, 1, 1, 1, 1, 1, 1, 1, 1, 1, 1, 1, 1, 1, 1, 1, 1, 1, 1, 1, 1, 1, 1, 1, 1, 1, 1, 1, 1, 1, 1], \"x\": [\"the\", \"of\", \"and\", \"to\", \"a\", \"in\", \"that\", \"is\", \"as\", \"be\", \"AI\", \"or\", \"for\", \"The\", \"are\", \"with\", \"by\", \"can\", \"an\", \"intelligence\", \"human\", \"artificial\", \"machine\", \"on\", \"have\", \"it\", \"was\", \"from\", \"A\", \"at\", \"such\", \"has\", \"which\", \"many\", \"this\", \"In\", \"research\", \"learning\", \"also\", \"problems\", \"computer\", \"networks\", \"neural\", \"intelligent\", \"use\", \"used\", \"will\", \"machines\", \"researchers\", \"would\", \"knowledge\", \"This\", \"more\", \"not\", \"their\", \"about\", \"problem\", \"all\", \"algorithms\", \"its\", \"other\", \"agent\", \"most\", \"than\", \"been\", \"general\", \"into\", \"system\", \"may\", \"solve\", \"could\", \"some\", \"these\", \"(such\", \"able\", \"field\", \"one\", \"For\", \"number\", \"search\", \"systems\", \"using\", \"between\", \"specific\", \"language\", \"logic\", \"decision\", \"include\", \"mathematical\", \"approaches\", \"intelligence,\", \"both\", \"developed\", \"including\", \"symbolic\", \"they\", \"people\", \"beings\", \"were\", \"first\", \"must\", \"form\", \"computational\", \"Many\", \"known\", \"processing\", \"example,\", \"simulate\", \"brain\", \"These\", \"Artificial\", \"then\", \"there\", \"humans\", \"ability\", \"Machine\", \"ethics\", \"methods\", \"how\", \"through\", \"theory\", \"few\", \"reasoning\", \"intelligence.\", \"particular\", \"work\", \"mind\", \"statistical\", \"Deep\", \"deep\", \"John\", \"Can\", \"natural\", \"any\", \"computers\", \"development\", \"require\", \"Turing\", \"being\", \"philosophical\", \"behavior\", \"agents\", \"if\", \"software\", \"new\", \"what\", \"computing\", \"skills\", \"where\", \"we\", \"same\", \"ethical\", \"tools\", \"around\", \"now\", \"AI,\", \"very\", \"performance\", \"considered\", \"approach\", \"since\", \"early\", \"concepts\", \"planning\", \"related\", \"should\", \"By\", \"rather\", \"no\", \"large\", \"\\u2013\", \"thus\", \"study\", \"test\", \"techniques\", \"learning,\", \"recognition\", \"described\", \"find\", \"but\", \"required\", \"difficult\", \"applications\", \"began\", \"them\", \"control\", \"position\", \"information\", \"each\", \"became\", \"based\", \"like\", \"AI.\", \"only\", \"called\", \"when\", \"own\", \"science\", \"led\", \"data\", \"others\", \"concept\", \"actions\", \"feedforward\", \"introduced\", \"solutions\", \"way\", \"out\", \"problems,\", \"aspects\", \"theory,\", \"world\", \"applied\", \"goals\", \"things\", \"Google\", \"(or\", \"technology\", \"Researchers\", \"argued\", \"expert\", \"cognitive\", \"question\", \"without\", \"uses\", \"different\", \"simulated\", \"so\", \"paradigm\", \"his\", \"even\", \"As\", \"common\", \"ethically\", \"perception\", \"part\", \"questions\", \"reasoning,\", \"might\", \"soft\", \"itself\", \"robot\", \"program\", \"recurrent\", \"book\", \"social\", \"need\", \"goal\", \"research.\", \"However,\", \"had\", \"possible\", \"central\", \"forms\", \"trained\", \"There\", \"When\", \"success\", \"creating\", \"actual\", \"machines.\", \"kind\", \"argument\", \"build\", \"pattern\", \"applications.\", \"An\", \"Musk\", \"commonsense\", \"two\", \"referred\", \"explored\", \"does\", \"input\", \"built\", \"time\", \"speech\", \"sufficiently\", \"models\", \"revived\", \"platforms\", \"Rodney\", \"Among\", \"within\", \"designed\", \"better\", \"major\", \"network\", \"evolutionary\", \"middle\", \"symbol\", \"after\", \"allows\", \"computation\", \"If\", \"those\", \"technologies\", \"proposed\", \"too\", \"operations\", \"simple\", \"Early\", \"perform\", \"begin\", \"certain\", \"proposal\", \"Or\", \"Other\", \"representation\", \"logical\", \"autonomous\", \"often\", \"formal\", \"path\", \"issue\", \"hardware\", \"sub-symbolic\", \"robots\", \"act\", \"Some\", \"given\", \"well\", \"Newell\", \"provides\", \"argues\", \"over\", \"moral\", \"concerned\", \"(using\", \"Go\", \"modern\", \"solving\", \"uncertain\", \"become\", \"beat\", \"application\", \"are:\", \"humans.\", \"relationship\", \"chess\", \"possibility\", \"our\", \"Neural\", \"idea\", \"advances\", \"term\", \"know\", \"tests\", \"focused\", \"key\", \"\\\"artificial\", \"published\", \"responsible\", \"They\", \"real\", \"outputs\", \"think\", \"whether\", \"argue\", \"make\", \"determine\", \"order\", \"example\", \"programs\", \"three\", \"Intelligent\", \"brains\", \"swarm\", \"memory\", \"Simon\", \"(which\", \"University\", \"singularity\", \"risk\", \"Ray\", \"Knowledge\", \"simply\", \"building\", \"image\", \"\\\"scruffy\\\"\", \"contrast\", \"nothing\", \"describes\", \"capabilities\", \"single\", \"available\", \"objects,\", \"One\", \"late\", \"higher\", \"Moral\", \"fields\", \"Dartmouth\", \"networks[edit]\", \"established\", \"next\", \"qualification\", \"result\", \"ensure\", \"George\", \"sense\", \"take\", \"power\", \"your\", \"later\", \"digital\", \"believe\", \"biology\", \"towards\", \"already\", \"complicated\", \"classification\", \"performs\", \"user\", \"far\", \"complete\", \"beyond\", \"generation\", \"backpropagation\", \"Elon\", \"Strong\", \"discussed\", \"generally\", \"Marvin\", \"Herbert\", \"centered\", \"solution\", \"variety\", \"person\", \"science,\", \"Kurzweil\", \"art\", \"classifier\", \"Stephen\", \"examples\", \"gained\", \"probability\", \"wide\", \"analyze\", \"he\", \"increasingly\", \"long-term\", \"choices\", \"arguments\", \"limits\", \"high\", \"General\", \"nature\", \"who\", \"classifiers\", \"LSTM\", \"hard\", \"\\\"sub-symbolic\\\"\", \"allow\", \"mechanical\", \"recent\", \"You\", \"much\", \"suggest\", \"physical\", \"enormous\", \"science.\", \"improve\", \"provide\", \"CNNs\", \"change\", \"conscious\", \"AI's\", \"do\", \"failed\", \"-\", \"powerful\", \"us\", \"amounts\", \"Peter\", \"emotional\", \"named\", \"years\", \"film\", \"set\", \"point\", \"still\", \"(in\", \"robotics,\", \"procedure\", \"look\", \"knowledge.\", \"architecture\", \"never\", \"series\", \"decide\", \"keep\", \"online\", \"predicts\", \"similar\", \"test.\", \"lobe\", \"Bayesian\", \"made\", \"because\", \"century,\", \"abstract\", \"widely\", \"future\", \"1980s\", \"another\", \"depends\", \"maximize\", \"agent.\", \"Computers\", \"process\", \"thinking\", \"languages\", \"true\", \"fiction\", \"market\", \"attempt\", \"asks\", \"ethics[edit]\", \"Weizenbaum\", \"gives\", \"layer\", \"guess\", \"inputs\", \"intelligence[edit]\", \"achieve\", \"eventually\", \"supervised\", \"requires\", \"1990s,\", \"represented\", \"intelligence\\\"\", \"community\", \"filtering,\", \"subject\", \"time,\", \"quickly\", \"making\", \"professional\", \"opinion\", \"popular\", \"cybernetics\", \"traits\", \"something\", \"body\", \"hidden\", \"upon\", \"valuable\", \"functions\", \"Norvig\", \"mathematics,\", \"express\", \"statements\", \"visual\", \"significant\", \"Classification\", \"solving,\", \"hand,\", \"medical\", \"input.\", \"aspect\", \"targeted\", \"fiction,\", \"Learning\", \"Fall\", \"optimization\", \"I\", \"it.\", \"implementations\", \"Mary\", \"routine\", \"perceptrons\", \"mind,\", \"helping\", \"world.\", \"Machines\", \"Bill\", \"experts\", \"layers\", \"name\", \"combined\", \"2005\", \"explicit\", \"response\", \"programming\", \"philosophy\", \"longer\", \"Approaches\", \"off\", \"main\", \"systems.\", \"Carnegie\", \"slow\", \"While\", \"Microsoft\", \"group\", \"tasks\", \"you\", \"system,\", \"scientific\", \"treat\", \"Alexey\", \"previous\", \"manner\", \"cause\", \"Chess\", \"necessarily\", \"access\", \"high-level\", \"Hans\", \"media\", \"observations\", \"processes\", \"(see\", \"enough\", \"support\", \"above\", \"knowledge,\", \"generate\", \"consciousness,\", \"problem,\", \"facts\", \"administered\", \"Brooks\", \"inference\", \"calculus\", \"acquisition\", \"largely\", \"Lighthill\", \"goal.\", \"tool\", \"makes\", \"Wallach\", \"Frankenstein\", \"Social\", \"machine,\", \"assume\", \"represents\", \"truth\", \"collapse\", \"game\", \"divided\", \"programmed\", \"recognize\", \"inspired\", \"capable,\", \"reason\", \"stories\", \"platform\", \"automatic\", \"Alan\", \"events\", \"funding\", \"level\", \"takes\", \"issues\", \"self-driving\", \"Markov\", \"Robot\", \"1960s,\", \"whatever\", \"hierarchical\", \"&\", \"Edward\", \"therefore\", \"value\", \"19th\", \"up\", \"learning),\", \"simulating\", \"begun\", \"Default\", \"tasks.\", \"old\", \"identical\", \"automation\", \"games\", \"(like\", \"concerns\", \"source\", \"robotics)\", \"back\", \"traction\", \"concern\", \"once\", \"becomes\", \"United\", \"exceed\", \"help\", \"less\", \"Roger\", \"found\", \"genuine\", \"Future,\", \"effect\", \"(e.g.,\", \"solved\", \"(for\", \"Natural\", \"properties,\", \"1950s,\", \"mankind.\", \"Intelligence\", \"problems.\", \"service\", \"Mellon\", \"object\", \"cars,\", \"typically\", \"Technological\", \"space\", \"author's\", \"Garry\", \"U.S.\", \"features\", \"Probabilistic\", \"Allen\", \"Kunihiko\", \"mathematicians\", \"exactly\", \"He\", \"\\\"the\", \"enable\", \"founder\", \"exhibit\", \"progress\", \"suggested\", \"several\", \"them,\", \"(the\", \"advanced\", \"Universal\", \"raises\", \"understanding\", \"Research\", \"pre-training\", \"sequence\", \"move\", \"research,\", \"proving\", \"until\", \"pose\", \"(AI)\", \"academic\", \"planning,\", \"astronomical\", \"systems,\", \"especially\", \"Stanford\", \"experienced\", \"psychology,\", \"abilities\", \"devices\", \"areas\", \"cybernetics,\", \"class\", \"goal,\", \"branch\", \"Fuzzy\", \"subsequently\", \"finding\", \"motion\", \"although\", \"Institute\", \"ongoing\", \"electronic\", \"customer\", \"coined\", \"British\", \"intelligently\", \"Kasparov\", \"ultimately\", \"reduced\", \"approaches.\", \"won\", \"precisely\", \"interacting\", \"software,\", \"Karel\", \"Their\", \"Searle\", \"end\", \"non-linear\", \"knows\", \"reproduce\", \"Computationalism\", \"results\", \"developmental\", \"dimension\", \"intelligences\", \"simplest\", \"categories\", \"experience\", \"translation\", \"come\", \"Blue\", \"Xbox\", \"definitions\", \"feasible\", \"developing\", \"Classifiers\", \"problem-solving\", \"focus\", \"perceives\", \"origins\", \"works\", \"governments\", \"\\\"AI\", \"search.\", \"problems:\", \"economics\", \"Language\", \"try\", \"belief\", \"field's\", \"problem.\", \"super-human\", \"architectures\", \"elements\", \"classified\", \"free\", \"scientist\", \"read\", \"years,\", \"understand\", \"limit\", \"psychological\", \"1970,\", \"small\", \"wrote\", \"AI\\\"\", \"Shelley's\", \"Moore's\", \"memories\", \"shiny\", \"model\", \"(a\", \"environment\", \"Turing's\", \"potential\", \"To\", \"1960s\", \"(1)\", \"traced\", \"organic\", \"Hawking,\", \"consciousness\", \"capable\", \"morality,\", \"genetic\", \"threat\", \"gradient\", \"arbitrary\", \"Samuel\", \"basis\", \"emotions.\", \"concerning\", \"belongs\", \"actually\", \"Simon,\", \"assistants\", \"symbols\", \"handle\", \"simulation\", \"volumes\", \"function\", \"unsupervised\", \"Since\", \"fund\", \"efficient\", \"neurology,\", \"strong\", \"correct\", \"Grigorevich\", \"Heuristics\", \"match\", \"2015,\", \"CAPTCHA\", \"observation\", \"room\", \"bird\", \"situation\", \"agents.\", \"numbers.\", \"consumer\", \"important\", \"appear\", \"standing\", \"predicted\", \"inside\", \"embodied\", \"Lisp\", \"Several\", \"closely\", \"rudimentary\", \"Moravec,\", \"Minsky\", \"Lucas\", \"develop\", \"ever-increasing\", \"Arthur\", \"regression.\", \"constraints\", \"having\", \"traditional\", \"writer\", \"improved\", \"intellectual\", \"Humans\", \"behave\", \"McCarthy\", \"truly\", \"\\\"real\\\"\", \"uncertainty\", \"before\", \"Control\", \"states\", \"giving\", \"opposed\", \"reinforcement\", \"intelligent,\", \"size.\", \"specialized\", \"sufficient\", \"complexity\", \"Robotics\", \"represent\", \"Cyc)\", \"step-by-step\", \"random\", \"product\", \"mining,\", \"learn\", \"moving\", \"occur\", \"Symposium\", \"resources\", \"applications,\", \"AAAI\", \"needs\", \"relations\", \"hypothetical\", \"stems\", \"searching\", \"founded\", \"incomplete\", \"written\", \"philosophers\", \"+\", \"projects\", \"colleagues\", \"method\", \"behaviour\", \"play\", \"news\", \"At\", \"among\", \"predictions\", \"long\", \"made.\", \"industrial\", \"shut\", \"word\", \"studied\", \"directly\", \"want\", \"relevant\", \"(\\\"if\", \"Are\", \"recently\", \"dynamic\", \"acting\", \"state\", \"just\", \"expression\", \"optimization.\", \"David\", \"sentient\", \"\\\"what\", \"systems,[25]\", \"jumps\", \"reading\", \"Grossberg,\", \"astonishing:\", \"there)\", \"Classifier\", \"First,\", \"Chinese\", \"surpass\", \"license\", \"adapt\", \"automated\", \"(0).\", \"tests.\", \"challenge\", \"(knowledge),\", \"imitation.[63][64]\", \"actions,\", \"Approaches[edit]\", \"Bostrom\", \"Multi-agent\", \"interpret\", \"None\", \"various\", \"lifelong\", \"Logic[edit]\", \"Kismet\", \"plausible\", \"Sorayama's\", \"jump\", \"resolve\", \"intelligence.[245]\", \"winning\", \"Shell\", \"formalize\", \"Google,\", \"grasping\", \"inception.[60]\", \"spell\", \"sentential\", \"via\", \"\\\"polite\", \"makers\", \"guidance\", \"culture\", \"sings,\", \"search)\", \"domains.\", \"it,\", \"properties\", \"machines.[208]\", \"Odyssey,\", \"termed\", \"linguistics,\", \"add\", \"itself.\", \"nearing\", \"future:\", \"matching\", \"render\", \"AI-based\", \"twenty\", \"(sometimes\", \"ideas?\", \"ought\", \"interfaces\", \"technology)\", \"1990s.[1]\", \"countries\", \"created\", \"grade\", \"objects\", \"technical\", \"perception[70]\", \"morning\", \"necessitate\", \"Penrose\", \"intelligence.[57]\", \"Related\", \"(what\", \"rule.[117]\", \"Hawking\", \"fiction.\", \"processing[67]\", \"calculus\\\").\", \"problems.[89]\", \"drones\", \"Symbolic[edit]\", \"$1billion\", \"mimic\", \"associated\", \"checkers,\", \"talked\", \"fell\", \"slowed\", \"machines\\\")\", \"monitor,\", \"tuned\", \"Thiel,\", \"areas.[9]\", \"itself\\u2014in\", \"standards.[28]\", \"AI:\", \"platform,\", \"perception,\", \"guesses)\", \"logics.[45]\", \"Brooks,\", \"acquire\", \"treating\", \"fundamental\", \"1\", \"Robert\", \"design\", \"Grey\", \"interface.[202]\", \"assumptions.\\\"\", \"distributed\", \"kinds\", \"actor,\", \"place\", \"11\", \"Musk.[239]\", \"robots.\", \"exhaustive\", \"Over\", \"told\", \"robotics.[186]\", \"Evolutionary\", \"Cognitive\", \"smaller\", \"letters,\", \"typing\", \"nineties\", \"convinced\", \"reflect\", \"reliant\", \"industry,\", \"own.[249]\", \"difference\", \"symbolic,\", \"repertoires\", \"learning[61]\", \"write\", \"occupations\\u2014and\", \"paradigms\", \"\\\"Anti-logic\\\"\", \"ones.\", \"view\", \"ways\", \"judgments\", \"applications.[105]\", \"Increases\", \"Lull\", \"science.[9]\", \"Doug\", \"prediction,\", \"conceivable\", \"margin.\", \"2000.[162]\", \"analysis\", \"enough.\", \"answering\", \"mind[edit]\", \"scientific,\", \"change.\", \"domain\", \"non-consciously\", \"subfields[4]\", \"benevolence\", \"1980s.[107]\", \"theoretical\", \"(communication)[edit]\", \"perspective)\", \"documentary\", \"really\", \"2001:\", \"mixed,\", \"here.\", \"agreed,\", \"realm\", \"Boltzmann\", \"affects.\", \"distinguishing\", \"'Friendly\", \"360\", \"hybrid\", \"deeply\", \"platform\\\")\", \"1961)\", \"\\\"GOFAI\\\".[97]\", \"mixture\", \"1965.[163]\", \"style\", \"Automation,\", \"exponential\", \"absence\", \"self-improvement.[232]\", \"champion\", \"give\", \"ten\", \"Boole\", \"Congress\", \"irrelevant\", \"race.\", \"logistics,\", \"patterns.\", \"control,\", \"class.\", \"simple,\", \"writes,\", \"puzzles\", \"Research[edit]\", \"punished\", \"checks\", \"benevolent.[219]\", \"creative,\", \"drop\", \"philosophy,\", \"harm?\", \"50\", \"Japan's\", \"relevance\", \"system.[113]\", \"recombine,\", \"system.[115]\", \"all;\", \"Making\", \"consist\", \"Hopkins\", \"calculating\", \"relationships\", \"Hebbian\", \"Go),\", \"instead\", \"1300\", \"world.[31]\", \"Wilhelm\", \"Platforms[edit]\", \"stage\", \"interpret,\", \"built,\", \"interested\", \"compared\", \"data,\", \"emotions.)\", \"machine.\", \"Networks\", \"researchers.[203]\", \"life.[223]\", \"mimics\", \"learning[225]\", \"Malevolent\", \"Determining\", \"rule\", \"1943\", \"Evaluating\", \"(social\", \"target\", \"find.\", \"algebra,\", \"hybrids\", \"context\", \"Rosenblatt\", \"emotions\", \"robotic\", \"Want\", \"Robots\\\".\", \"developments\", \"unconcerned\", \"enormity\", \"\\\"AI-complete\\\".\", \"minimum,\", \"Because\", \"foundations\", \"ordinarily\", \"produced\", \"basic\", \"abandoned,\", \"TensorFlow,\", \"algorithm,[144]\", \"optimization)[122]\", \"revolution\\\"\", \"Earth.\", \"identify\", \"projects,\", \"indistinguishable\", \"tree\\\").\", \"first-order\", \"amplify\", \"revolution\", \"publication\", \"funded\", \"display\", \"successfully\", \"fail.[189]\", \"attempted\", \"succeed\", \"essentially\", \"AIs.\", \"intelligence.\\\"[221]\", \"sub-problems.\", \"Geoffrey\", \"superseded.\", \"many-layered\", \"Old-Fashioned\", \"generates\", \",\", \"extensive\", \"uphill,\", \"remaining\", \"importance\", \"prominence\", \"character\", \"49%\", \"\\\"can\", \"manage\\\"\", \"set.\", \"1956,\", \"began.[27]\", \"addressed\", \"evolve\", \"collaboration\", \"handicaps.[35]\", \"feel\", \"cumulative\", \"skins\", \"problems.[93]\", \"Consciousness[edit]\", \"committed\", \"subproblems.\", \"leading\", \"Integrating\", \"tendencies\", \"smartphone\", \"possess\", \"start\", \"existence\", \"Economy\", \"users.[181]\", \"Hyper-intelligent\", \"perceived\", \"networks[142]\", \"seeing\", \"Report\", \"translation.[69]\", \"Colloquially,\", \"programming).[123]\", \"prizes\", \"1989\", \"Lisp[187]\", \"needed]\", \"pointed\", \"Ethics.\\\"[217]\", \"Russia,\", \"labels\", \"First-order\", \"subgoals,\", \"base\", \"minority\", \"firms).\", \"mode\", \"claim\", \"compression.[193]\", \"characteristics\", \"human?\", \"humanity[edit]\", \"\\\"robot\\\"\", \"Web\", \"arguing\", \"cases,\", \"Newell,\", \"alleviating\", \"attractive\", \"collected\", \"motor\", \"(they\", \"cost\", \"results,\", \"yet.\\\"\", \"superintelligence,\", \"devised\", \"probabilistic\", \"(communication),\", \"Interest\", \"Walter\", \"anthropomorphic\", \"eliminate\", \"research.[17]\", \"bumping\", \"GPUs\", \"survive.[106]\", \"calculus,\", \"this.\", \"stop\", \"selecting\", \"refer\", \"Unlike\", \"is:\", \"Sorayama\", \"last\", \"Clarke.\", \"Edinburgh\", \"interface\", \"Schank\", \"neats.\\\"[28]\", \"functioning.\", \"notion\", \"(1984)\", \"programs.\", \"completes.\", \"Multilingual\", \"capacity\", \"2016,\", \"relations,\", \"Kohonen,\", \"recursive\", \"providing\", \"twenty-first\", \"(LSTM)\", \"navigation,\", \"1980s.[99][100]\", \"muscular\", \"detailed\", \"Cybernetics\", \"superhumanly-capable\", \"Igor\", \"Plug\", \"implies,\", \"propositional\", \"investigation\", \"\\\"statements\\\"\", \"discovering\", \"rarely\", \"equivalent\", \"metallic\", \"attendees,\", \"McCullough.\", \"\\\"cognitive\\\"\", \"problems.[175]\", \"heed\", \"operating\", \"Walter's\", \"painted\", \"player\", \"algorithm,\", \"Sub-human:\", \"data-mining,\", \"Wallach,\", \"match,\", \"inventor\", \"Prolog.[188]\", \"auxiliary\", \"champions,\", \"logic)\", \"Logic\", \"category\", \"taking\", \"Processing.[184]\", \"AMAs.[215]\", \"birds.\", \"Much\", \"organizations\", \"competitions.[159]\", \"deserve\", \"surpassing\", \"implications\", \"vision[71]\", \"multi-agent\", \"printed\", \"workers\", \"exemplified\", \"science.[148]\", \"\\\"predicate\", \"Intelligence),\", \"better.\", \"\\\"strong\", \"working\", \"defines\", \"antiquity.[8]\", \"(See\", \"wisdom\", \"2011,\", \"suitable\", \"civilization,\", \"attempting\", \"Malsburg,\", \"Brad\", \"proliferation\", \"lead\", \"isolation.\", \"property\", \"fictional\", \"(RNNs)[170]\", \"Ivakhnenko,\", \"Super-human:\", \"theorizing\", \"Motion\", \"empathy\", \"experience[58][59]\", \"properly\", \"visualized\", \"scientists\", \"improving\", \"autonomy,\", \"thumb\\\"\", \"1989,\", \"\\\"feels\", \"variants\", \"James\", \"Kolmogorov\", \"substantially\", \"great\", \"solving[edit]\", \"motives\", \"consists\", \"interaction\", \"expected\", \"competitive\", \"fist\", \"donations\", \"courses\", \"Such\", \"knowledge-based\", \"Modern\", \"ignorance\", \"superintelligent\", \"relentless\", \"ending\", \"Ford,\", \"emphasize\", \"reasoning.\", \"Around\", \"(CNNs),\", \"laid\", \"Knowledge-based\", \"rational\", \"True\", \"refine\", \"1998.[236]\", \"diagnosis\", \"disagree\", \"subsequent\", \"researchers.\", \"accepted\", \"fractions\", \"(knowing\", \"possessed\", \"Recognition\", \"Philosophy\", \"contact\", \"research).\", \"behavior,\", \"sequence.[159]\", \"checkers)\", \"everyday\", \"predict\", \"sequential\", \"human-like\", \"researched\", \"criticism\", \"\\\"Can\", \"certainty,\", \"Rumelhart\", \"rise\", \"ideal\", \"fail.[209][210][211]\", \"requiring\", \"progress[edit]\", \"engineering?[91]\", \"fast,\", \"neuroscience\", \"reach\", \"output\", \"Joseph\", \"evolution\\\",\", \"thereby\", \"realize\", \"(refining\", \"incrementally\", \"goals.[6]\", \"21st\", \"being.\", \"sonar\", \"inputs.\", \"AI.[218]\", \"Frank\", \"games.\", \"appropriate\", \"calculus;[44]\", \"Huxley\", \"More\", \"test,\", \"either\", \"Paul\", \"conversational\", \"humanity,\", \"false.\", \"numerical\", \"feel?\", \"Learning[edit]\", \"We\", \"logic,[129]\", \"according\", \"creatives.\", \"1921\", \"address\", \"Learning\\\"\", \"as:\", \"(AMA).[212]\", \"cybernetics.\", \"captioning[185]\", \"hasn't\", \"involve\", \"describe\", \"consequences\", \"movement,\", \"again\", \"Church\\u2013Turing\", \"Vicarious\", \"HAL,\", \"ranging\", \"representing\", \"\\\"revolution\\\"\", \"A.I.:\", \"task.\", \"Decrease\", \"\\\"robot\", \"phenomenon\", \"biological\", \"sites\", \"intuitions\", \"\\\"pruning\", \"filters).[137]\", \"positive\", \"inferring\", \"categories.\", \"well,\", \"companies\", \"Subjective\", \"roles\", \"2010s,\", \"conclusions,\", \"networks,[137]\", \"others.\", \"about.\", \"impossible\", \"Putnam.\", \"subsumption\", \"fear\", \"\\\"problem\", \"Life\", \"Sub-symbolic\", \"economics.\", \"deal\", \"expertise\", \"Advanced\", \"RNNs\", \"Japan\", \"useful\", \"How\", \"Agent\", \"care\", \"prevent\", \"objects;[42]\", \"1985\", \"awake\", \"intelligence).\", \"AI.)[205][206]\", \"chooses\", \"risk[edit]\", \"Automated\", \"computing.[227]\", \"friendly\", \"not.\", \"measures\", \"multi-layer\", \"emerging\", \"1980s,\", \"symbols,\", \"becoming\", \"create\", \"5\", \"Creativity[edit]\", \"devising\", \"copy\", \"edition\", \"quiz\", \"naive\", \"mankind,\", \"Tools[edit]\", \"billion\", \"landscape\", \"commonly\", \"Baidu\", \"vector\", \"almost\", \"AI-enhanced\", \"rate.\", \"AIs\", \"out-think\", \"viewed\", \"time.[104]\", \"discussion\", \"variant,\", \"Widrow,\", \"issues,\", \"intelligence.[108]\", \"hypothesis\", \"means-ends\", \"practically\", \"soldiers.[248]\", \"issue,\", \"exploratory\", \"human-machine\", \"facilitate\", \"evolved\", \"compliant\", \"heavily\", \"GMDH\", \"theory.[54]\", \"pervasive\", \"deemed\", \"answers\", \"includes\", \"Space\", \"verifiable\", \"successes.\", \"attempts\", \"Currently,\", \"you,\", \"deductions\", \"setbacks,\", \"effectively\", \"analytical\", \"undecipherable\", \"G\\u00f6delian\", \"approximate\", \"signal\", \"map\", \"counters\", \"(going\", \"throughout\", \"children\", \"(Ro)bots\", \"hoped\", \"unfathomable.[233]\", \"Lenat's\", \"localization\", \"terms\", \"research.[26]\", \"mainstream\", \"Stanford).[92]\", \"researcher\", \"commitment\", \"\\\"neat\\\"\", \"intelligence?\", \"radial\", \"networks[133]\", \"difficulty\", \"predicates,\", \"instinct\", \"achieved\", \"antiquity,[10]\", \"skill;\", \"capability\", \"assistant\", \"course\", \"manipulate\", \"length\", \"Werbos.[153][154][155]\", \"onlookers\", \"consistently\", \"received,\", \"technology.\", \"personal\", \"approach.\", \"driver-less\", \"networks)[136]\", \"simulation[edit]\", \"translation,[182]\", \"LeCun\", \"networks.[149]\", \"unnatural\", \"stack\", \"exceptions.\", \"\\\"formal\\\"\", \"testers.\", \"others,\", \"identified\", \"under\", \"planning[125]\", \"default\", \"enabling\", \"1987.\", \"explanations\", \"unlikely\", \"Fukushima\", \"computing.[84][85]\", \"perceptron\", \"SF\", \"nonhuman\", \"solves\", \"recognition.[178][179][180]\", \"ties\", \"do\\\".\", \"\\\"combinatorial\", \"disbelief\", \"humanoid\", \"critics\", \"Connectionist\", \"Ruslan\", \"deep-learning\", \"guaranteed\", \"fast\", \"by,\", \"notational\", \"1973\", \"premature.[230]\", \"donated\", \"situated,\", \"China,\", \"super-human:\", \"below\", \"novel\", \"theory.[62]\", \"distribution,[199]\", \"refinements\", \"useful,\", \"Rina\", \"guesses).\", \"irresponsible\", \"Gynoids\\\"\", \"reintroduced\", \"Schmidhuber\", \"mind.\", \"sample\", \"mistake\", \"sequences\", \"interaction.\", \"RNN\", \"intention\", \"grandchild\", \"thought\", \"Apart\", \"research[33]\", \"mathemetical\", \"planet\", \"statements\\\"\", \"\\\"Machine\", \"linear\", \"debate\", \"binomial\", \"\\\"Deep\", \"motivation\", \"Decisions\\\"[213]\", \"remain\", \"merge\", \"0\", \"Papert)[103]\", \"theorems\", \"worry\", \"expressed\", \"storage\", \"Aldous\", \"spam\", \"particle\", \"Bottom-up,\", \"down,\", \"Unsupervised\", \"economics\\u2014that\", \"\\\"some\", \"Fredkin\", \"continued\", \"experience.[141]\", \"abandoned\", \"cannot\", \"algorithmic\", \"\\\"I\", \"functional\", \"gathered\", \"Jeopardy\", \"algorithm),[135]\", \"deduction\", \"poetry),\", \"networks.\", \"2000s,\", \"ethical,\", \"Theano\", \"Kalman\", \"young\", \"revolve\", \"principle\", \"depicting\", \"Shun-Ichi\", \"(CTC).[177]\", \"Watson,\", \"increase\", \"Almost\", \"With\", \"author\", \"pi\", \"Fodor\", \"quite\", \"eventual\", \"According\", \"them.[53]\", \"matter\", \"neurons\", \"share).\", \"be?\", \"domains\", \"permitted\", \"(just\", \"on,\", \"sensors\", \"knowledge.[46]\", \"Torch.\", \"conjunction\", \"hand-writing\", \"titled\", \"atomic\", \"population\", \"theories,\", \"cyborgs\", \"facilities\", \"\\\"any\", \"success.\", \"G\\u00f6del\", \"expectation-maximization\", \"optimization.[121]\", \"Hubert\", \"English.[19]\", \"Accelerating\", \"jobs\\u2014will\", \"topics\", \"photographs,\", \"ascribed\", \"tradition,\", \"comprehend,\", \"version\", \"realized\", \"attention.[5]\", \"(3)\", \"supervise,\", \"player.[169]\", \"libraries,\", \"1997.\", \"institutions:\", \"ethicists.[250]\", \"optimization[edit]\", \"solving:\", \"exceptions)\", \"delineated\", \"Frege\", \"it.\\\"[7]\", \"satisfies\", \"Christoph\", \"myth,\", \"challenging\", \"culminate\", \"solving\\\".\", \"project.[87][88]\", \"distinguished\", \"elsewhere\", \"analysis,[138]\", \"straightforward\", \"Dune.\", \"Reasoning\", \"reigning\", \"methods[edit]\", \"shuffling\", \"addresses\", \"NN\", \"CMU\", \"(i.e.\", \"climbing:\", \"patterns\", \"pioneers\", \"then,\", \"visualization)\", \"field.\", \"doing\", \"Deepmind's\", \"\\\"0\\\"\", \"method,\", \"analyzed\", \"fuzzy\", \"entry\", \"dream\", \"flexible\", \"(called\", \"sometimes\", \"shown\", \"chess:\", \"neurology?\", \"low-wage\", \"England.[15]\", \"Asimov\", \"Hierarchical\", \"Fukushima,\", \"degree\", \"Go-playing\", \"convention\\\"\", \"verbally.\", \"neither\", \".\", \"modal\", \"\\\"singularity\\\".[233]\", \"space.\", \"feedback\", \"Dechter\", \"skills[86]\", \"stop.\", \"collectively\", \"non-symbolic\", \"model,[145]\", \"writing\", \"January\", \"R.U.R.,\", \"mind-body\", \"Rosalind\", \"protecting\", \"'artificial\", \"problems;\", \"Soar\", \"intended\", \"Willshaw,\", \"cut\", \"plethora\", \"experiments\", \"minds,\", \"intentionally\", \"\\\"The\", \"text\", \"science-fiction\", \"perception.[30]\", \"experts.\", \"non-learning\", \"worse\", \"amount\", \"eight\", \"Google's\", \"recognition.\", \"Lee\", \"fantasy\", \"imitate\", \"Public\", \"project\", \"punishments\", \"flies.\", \"feel,\", \"time;[43]\", \"machines,\", \"Pitts\", \"lengthy\", \"faithfully\", \"creativity\", \"\\u010capek\", \"publications\", \"evaluated\", \"statue\", \"celebrities\", \"frameworks\", \"(some\", \"lifelike\", \"rights\", \"essential\", \"down\", \"(c.\", \"colony\", \"discipline\", \"engaged\", \"networks,\", \"expect\", \"capture\", \"shared\", \"appropriately\", \"beam\", \"hacking,\", \"vanishing\", \"completely\", \"Haugeland\", \"Aizenberg\", \"harm\", \"akin\", \"adopted\", \"mechanisms\", \"high-profile\", \"Modeling[183]\", \"smoothing\", \"subsymbolic\", \"visualize\", \"search),\", \"neurons\\\".\", \"coincided\", \"Picard's\", \"beings,\", \"investments.\", \"derivative\", \"defeated\", \"leaders\", \"incorporated\", \"years.\", \"allowed\", \"2029,\", \"newswire\", \"Later,\", \"intelligent.\", \"deduction.\", \"designer\", \"diamond\\\")\", \"Conference\", \"History[edit]\", \"spaceship\", \"2045.[233]\", \"himself,[207]\", \"Beta\", \"\\\"G\\u00f6delian\", \"indexing.\", \"nascent\", \"logics,\", \"short\", \"\\\"mind\\\"\", \"goal.[1]\", \"University,\", \"realization\", \"(including\", \"\\\"machines\", \"believes\", \"means\", \"encyclopedia\", \"DeepMind\", \"\\\"computing\", \"crossing\", \"bridge\", \"cars.\", \"ant\", \"logic[127]\", \"AlphaGo\", \"Capabilities\", \"der\", \"employing\", \"\\\"heuristics\\\"\", \"prominent\", \"quantifiers\", \"space.[75]\", \"Superintelligence,\", \"Hinton\", \"not,\", \"learns\", \"vehicles\", \"manipulation[75]\", \"Once\", \"types\", \"topic\", \"vision,\", \"conjecture\", \"stall\", \"Further,\", \"modelling.[114]\", \"elaborated\", \"felt\", \"objects.[5]\", \"information.\", \"AMAs\", \"layer.[166]\", \"\\\"value\\\")\", \"\\\"working\", \"match.\", \"dollars.\", \"them.[6]\", \"Simple\", \"ideas\", \"algorithms.[91]\", \"layers,\", \"Ethics\\\"[216]\", \"matches\", \"beginning\", \"Schickard.\", \"affective\", \"misguided.\", \"demonstrate\", \"battlefield\", \"preferences)\", \"Robots\", \"Society\", \"decisions\", \"rely\", \"least\", \"wherein\", \"sub-symbolically.[52]\", \"run\", \"applicability\", \"chemistry,\", \"1992,\", \"theoretically\", \"background.[98]\", \"present\", \"exponentially\", \"description\", \"reasoning[edit]\", \"picture\", \"reproduced\", \"Wikipedia,\", \"attention\", \"(CAPTCHA).\", \"Really\", \"playing\", \"comes\", \"Roomba\", \"issues.[90]\", \"hiatus\", \"\\\"learning\\\"\", \"(as\", \"evolution,\", \"Deduction,\", \"False\", \"\\\"anti-logic\\\"\", \"see\", \"sympathetic\", \"task\", \"Voice\", \"Computationalism[edit]\", \"fiction[edit]\", \"chance\", \"(e.g.\", \"world.[21]\", \"sized,\", \"knowledge.[52]\", \"Jerry\", \"Dreyfus\", \"smart\", \"1995\", \"1971\", \"Superintelligence[edit]\", \"idea,\", \"imitated\", \"pertaining\", \"event\", \"it)\", \"necessary\", \"design.[140]\", \"Technology\", \"students\", \"tactile\", \"AI),\", \"films,\", \"that,\", \"manipulation[edit]\", \"1940s,\", \"Long\", \"outcomes\", \"1960,\", \"(2)\", \"goals[edit]\", \"deduce\", \"memory,\", \"non-GOFAI\", \"classify\", \"Applications[edit]\", \"satisfying\", \"logical,\", \"achievable\", \"(learning\", \"LSTM,\", \"adding\", \"Moral\\\".[214]\", \"unifying\", \"1956.[16]\", \"Within\", \"transhumanism,\", \"organisations\", \"thought)\", \"All\", \"distorted\", \"cyberneticist\", \"utility.\", \"(Good\", \"Noam\", \"neocortex.[156]\", \"progressed\", \"Recent\", \"semantic\", \"fittest\", \"Languages[edit]\", \"Examples\", \"fake.\", \"man\", \"versions\", \"theory[edit]\", \"teachers,\", \"titans\", \"diagnosis,\", \"logics\", \"worth\", \"depth\", \"second,\", \"classifier,[146]\", \"Prolog\", \"Pitts'\", \"growing\", \"influential\", \"R.U.R.\", \"effort\", \"software.[25]\", \"assertion\", \"Sedol,\", \"hundred\", \"risks\", \"unable\", \"going\", \"extremely\", \"rights\\\",\", \"networks).[137]\", \"lowest,\", \"instantly\", \"trying\", \"gene\", \"bothered\", \"outcome\", \"humanity\", \"management\", \"sensorimotor\", \"1970\", \"structural\", \"1990s\", \"Critics\", \"elegant\", \"produce\", \"\\\"Every\", \"do\\u2014by\", \"engineering\", \"passes\", \"limbs\", \"up\\\").\", \"Supervised\", \"intelligence'\", \"greatly\", \"aimed\", \"temporal\", \"advantages\", \"types:\", \"tend\", \"Goals[edit]\", \"embodied,\", \"Neocognitron\", \"solutions:[116]\", \"problems?[92]\", \"huge\", \"users\", \"Future\", \"Martin\", \"consider\", \"promoted\", \"demonstration\", \"V.\", \"technology.[3]\", \"million\", \"Warwick\", \"Jennings,\", \"standard\", \"analysis.[118]\", \"(introduced\", \"High-profile\", \"\\\"rules\", \"suffer\", \"demand\", \"states:\", \"local\", \"contrary,\", \"do,\", \"levels\", \"emotions\\u2014even\", \"creating)\", \"Intelligence,\", \"Attempts\", \"Long-term\", \"influenced\", \"appeared\", \"Emotion\", \"radically\", \"1980s.\", \"blind\", \"organisms\", \"thesis\", \"faster\", \"definition,\", \"endowed\", \"bring\", \"Ken\", \"Human\", \"Ethics.[217]\", \"numbers\", \"dangerous?\", \"robotics\", \"algorithms,\", \"greater\", \"productive\", \"1974,\", \"recognize,\", \"know);[45]\", \"Sir\", \"Commonsense\", \"Numerous\", \"decision-making[edit]\", \"abandonment\", \"Bayes\", \"convolutional\", \"problem.[157][174]\", \"compete\", \"rewards\", \"experiences?\", \"error\", \"conference\", \"2010\", \"dilemmas\", \"IBM's\", \"Emergent\", \"overtaking\", \"down.\", \"particular,\", \"(2001).\", \"Be\", \"sub-human.\", \"recognizing\", \"roots\", \"intuition\", \"perceptrons,\", \"increasing\", \"champion,\", \"Gates\", \"May\", \"robot,\", \"problem:\", \"stream\", \"self-exploration\", \"master\", \"report\", \"artist\", \"information,\", \"Transhumanism[edit]\", \"overpower\", \"real-world\", \"informs,\", \"persistent\", \"are,\", \"ontology.[citation\", \"human-computer\", \"(Rossum's\", \"...\", \"events).\", \"operate\", \"=\", \"Stuart\", \"thesis.[14]\", \"pressure\", \"posing\", \"laws\", \"1969[47]\", \"convergently\", \"ramifications\", \"Hopfield,\", \"civilization.\", \"Others\", \"utility\", \"founders\", \"optimization,\", \"sciences,\", \"open\", \"US\", \"goals)\", \"danger\", \"priority.[38]\", \"direction)\", \"Ford\", \"observers\", \"layer,\", \"Vernor\", \"responses\", \"\\\"spell\", \"wondering\", \"searches\", \"theorem.\", \"speaking\", \"Turing-complete\", \"funds\", \"draughts\", \"expanded\", \"solved.\", \"follow\", \"Siri),\", \"human)\", \"manage\", \"Hajime\", \"prizes[edit]\", \"causes\", \"Computer\", \"game-playing.\", \"Development\", \"law),\", \"best\", \"1940s\", \"storytelling\", \"Rutter\", \"Yann\", \"Planning[edit]\", \"interaction,\", \"statement\", \"discovery\", \"vision\", \"Frequently,\", \"profoundly\", \"Computational\", \"processing?[93]\", \"\\u010capek's\", \"were,\", \"Jeopardy!\", \"people,\", \"sizable\", \"classified.\", \"are),\", \"(NLP),\", \"GOFAI\", \"1997.[176]\", \"workers,\", \"avoid\", \"either.[235]\", \"effect.\", \"gifted\", \"science:\", \"Warren\", \"title\", \"representation[40]\", \"\\\"A\", \"achieving\", \"rights?\", \"\\\"smart\", \"team\", \"en.wikipedia.org\", \"reached\", \"cameras,\", \"1970s\", \"synergies,\", \"AI',\", \"architecture.\", \"processes,[139]\", \"suggests\", \"ethically?\", \"programming,\", \"AI[edit]\", \"seen\", \"symbols.[204]\", \"(from\", \"grows\", \"currently\", \"soccer\", \"Also,\", \"intelligently.\", \"original.[88]\", \"Amari,\", \"mental\", \"traffic.[200]\", \"interconnected\", \"intelligence:\", \"convergent\", \"point,\", \"SpaceX\", \"agreeing\", \"researching\", \"feature\", \"detect\", \"facts.\", \"Kevin\", \"microphones,\", \"\\\"within\", \"ways;\", \"\\\"grow\", \"short-term\", \"During\", \"Progress\", \"mid\", \"mapping\", \"Regression\", \"speak.\", \"disrepute,\", \"(reason),\", \"MIT\", \"processed\", \"Tunnel:\", \"robots,\", \"Completely\", \"proof\", \"mutate\", \"philosophers)\", \"time);[43]\", \"ontology\", \"extracting\", \"show\", \"distribution.\", \"intelligence;\", \"subproblems\", \"Machines\\\"\", \"fashioned\", \"psychotherapy[222]\", \"favorably,\", \"effects;[44]\", \"(reason).[36]\", \"devalues\", \"eye\", \"Creativity,\", \"Europe\", \"primitive\", \"affects\", \"willing\", \"Similar\", \"Simon's\", \"exhibited\", \"unpredictable\", \"critique\", \"Leading\", \"intelligent?\", \"periodically\", \"hyperintelligence,\", \"works.\", \"algorithm),[134]\", \"technologically\", \"malevolent\", \"released\", \"guided\", \"Smaller\", \"occurrence\", \"methods,\", \"essence\", \"relaxed\", \"Seppo\", \"computationalism).\", \"advancing\", \"problem.[48]\", \"fifth\", \"situations,\", \"communicate\", \"Affective\", \"definition.\", \"unconscious\", \"C.\", \"configuration\", \"annealing,\", \"viewpoint\", \"calculus;[131]\", \"maturation,\", \"Bernard\", \"Department\", \"landscape,\", \"uncertainty.[56]\", \"firmly\", \"dollars\", \"combining\", \"Three\", \"driven\", \"recognition,[72]\", \"due\", \"Dyson\", \"survey,[160]\", \"Teuvo\", \"explosion\\\":\", \"possible?\", \"Feigenbaum),\", \"mentions\", \"\\\"Does\", \"\\\"best\", \"perceptual\", \"systems\\u2014it\", \"thought,\", \"unrelated\", \"Isaac\", \"net\", \"hill\", \"\\\"Darwin\", \"Russell\", \"refined\", \"movie\", \"representation[edit]\", \"words\", \"Statistical[edit]\", \"Devaluation\", \"CE).\", \"originally\", \"verifiable,\", \"advertisements.[197][198]\", \"Forms\", \"mechanism\", \"get\", \"Butler's\", \"Two\", \"potentially\", \"dramatically\", \"considers\", \"Still\", \"reasoning;\", \"logic,\", \"von\", \"Linnainmaa,[151][152]\", \"Services\", \"run.\\\"\", \"unanswered\", \"permit\", \"root\", \"indexing\", \"thing\", \"competition\", \"form.\", \"---\", \"G.\", \"thinking.\", \"inductive\", \"\\\"connectionism\\\"\", \"fluent\", \"reverse\", \"cars),\", \"W.\", \"searches[119]\", \"versus\", \"revolutionised\", \"scenario\", \"discoveries\", \"straightforward,\", \"abstractions\", \"ago,\", \"ethics,\", \"selected\", \"highly\", \"strategy\", \"limited\", \"validity\", \"answering[68]\", \"turn\", \"1950,\", \"sensitive\", \"along\", \"perspectives\", \"principles,\", \"morality.\", \"lunch\\\"\", \"(via\", \"militarized\", \"necessary,\", \"accomplish?\", \"current\", \"labor[edit]\", \"Optimal:\", \"Ivakhnenko\", \"exists\\\"\", \"privacy\", \"sensors,\", \"existing\", \"volitional\", \"repetitive\", \"Gottlob\", \"billions\", \"Economist\", \"bad\", \"pushed\", \"His\", \"trees\", \"components\", \"optimization)?\", \"plan\", \"recognition.[73]\", \"cooperation\", \"defined\", \"estimated\", \"\\\"Rossum's\", \"offshore\", \"complex\", \"premises\", \"U.S\", \"Vinge\", \"deeper\", \"US.[168]\", \"rooted\", \"Wendell\", \"Sub-symbolic[edit]\", \"optical\", \"Minsky,\", \"invented\", \"company\", \"active\", \"\\\"Past\", \"draws\", \"exchanges\", \"requires.\", \"March\", \"laboratory\", \"face\", \"dealing\", \"guess\\\"\", \"perspective\", \"while\", \"frameworks),\", \"logic[128]\", \"Chomsky.\", \"3D\", \"Ettinger,\", \"Along\", \"50+\", \"in,\", \"Kingdom.\", \"superhuman\", \"acquiring\", \"Haugeland,\", \"notions\", \"unemployment\", \"ad-hoc\", \"rejected\", \"Nick\", \"desktop\", \"these:\", \"counterarguments\", \"develop,\", \"sub-problems\", \"other,\", \"originated\", \"chess-playing\", \"concern.\", \"1,\", \"done\", \"during\", \"insight,\", \"object).[77]\", \"psychology.\", \"Rubin\", \"seemed\", \"action.\\\"\", \"\\\"knowledge\", \"ascertain\", \"period\", \"Lights\", \"learning.[101]\", \"multilayer\", \"AI.[241]\", \"range\", \"nouvelle\", \"equipped\", \"identifies\", \"meetings\", \"Seymour\", \"Planning\", \"century\", \"economics.[132]\", \"human-written\", \"manga\", \"ontological\", \"onwards)\", \"situated\", \"Internet,\", \"sources,\", \"commercial\", \"connection\", \"tell\", \"researching.[242][243]\", \"robotics[74]\", \"revolved\", \"learning.[150]\", \"TV\", \"plan,\", \"tested.\", \"list\", \"singularity[edit]\", \"hypothesis[edit]\", \"helps\", \"transformed\", \"changing\", \"associate\", \"successful\", \"dynamics\", \"chances\", \"rights[edit]\", \"learning.[126]\", \"solution,\", \"making.\", \"step\", \"circumscription[48]\", \"intrinsically\", \"classical\", \"highest\", \"runaway\", \"animal\", \"Hillary\", \"exemplar\", \"non-monotonic\", \"isolated\", \"process,\", \"restore\", \"be.[55]\", \"there.\\\"[246][247]\", \"Cyc\", \"\\\"think\\\"?\", \"(SAIL)\", \"streams\", \"sophisticated\", \"programming.[102]\", \"relationships.\", \"1968\", \"recognized\", \"concepts.\", \"fine-tuning.\", \"humans,\", \"publishers\", \"points\", \"California's\", \"argument,\", \"economics.[37]\", \"whose\", \"creativity).\", \"represent,\", \"\\u2018\\u2019Superintelligence\\u2019\\u2019\", \"satplan\", \"lies.[120]\", \"McCullough\", \"Perception[edit]\", \"principles\", \"Defense[20]\", \"Logic-based\", \"(loosely\", \"it.\\\"\", \"ontologies,\", \"concurrent\", \"intelligence,[94]\", \"deployment\", \"time.\", \"acyclic\", \"promote\", \"foundation\", \"full\", \"Ghost\", \"(figuring\", \"\\\"1\\\",\", \"optimistic\", \"environment),\", \"synthetic\", \"descent[171][172][173]\", \"type\", \"A.I.\", \"exhibition\", \"\\\"intelligent\\\"\", \"Charles\", \"longer-lasting\", \"confidence.\", \"Brooks'\", \"levels,\", \"speed\", \"regardless\", \"moves\", \"encounter,\", \"reactive\", \"engineering[41]\", \"worrying\", \"Temporal\", \"something)\", \"exotic)\", \"emotion,\", \"Existential\", \"susceptible\", \"theorems,\", \"differentiation\", \"logics;[42]\", \"representation,\", \"rewarded\", \"place.\", \"subfields\", \"Club\", \"anytime\", \"upper\", \"\\\"think\\\";\", \"behavior-based\", \"sort\", \"automatically\", \"itself,\", \"places\", \"ALPAC\", \"did\", \"both)\", \"movement\", \"psychology\", \"body\\u2013motion\", \"discount\", \"examples,\", \"be,\", \"intelligent;\", \"conversation,\", \"algorithm\", \"solved\\\".[22]\", \"efficient.\", \"contain\", \"Kinect,\", \"test.[189]\", \"behavior.\", \"came\", \"\\\"feel\\\"\", \"turtles\", \"charge\", \"exposed\\\"\", \"Is\", \"what's\", \"outsource\", \"leads\", \"Robots).[12]\", \"numerous\", \"restricted\", \"action,\", \"engines\", \"right\", \"greatest\", \"Concern\", \"Beast.\", \"speeds\", \"nonprofit\", \"manipulation\", \"winter\\\",[24]\", \"sentience\", \"perceptron,\", \"false\", \"critic\", \"extensions\", \"Gates,[238]\", \"development.[240]\", \"studying\", \"controllers\", \"CTC-trained\", \"below.\", \"2006,\", \"closest\", \"brain.[15]\", \"others.[157][158][159]\", \"guides\", \"approaches[edit]\", \"\\\"G\\u00f6del\", \"engineering\\u2014they\", \"performing\", \"malevolence.\\\"\", \"inquiries\", \"reprogram\", \"victory\", \"paper\", \"Leibniz\", \"aeronautical\", \"AlphaGo,\", \"followed\", \"do?\", \"Gaussian\", \"Laws\", \"stories.\", \"involving\", \"training\", \"sentient,\", \"Controllers\", \"appears\", \"results.[190]\", \"Humanity\", \"jobs.\", \"steps,\", \"breadth\", \"society\", \"integration.\", \"improvement\", \"paper[164]\", \"cognition,\", \"Amazon\", \"OpenAI\", \"supply\", \"i.e.,\", \"Logic[124]\", \"\\\"utility\\\":\", \"digits\", \"unlimited\", \"resources\\u2014most\", \"retrieval,\", \"competitions\", \"Precise\", \"causal\", \"Ethics:\", \"measure\", \"good\", \"sub-field\", \"supports\", \"Lapa\", \"Terminator\", \"Physicist\", \"manipulation.\", \"laborious\", \"1623\", \"Humans,\", \"College\", \"traditions\", \"be.[229]\", \"Competitions\", \"average\", \"astronomical.\", \"representations\", \"enabled\", \"minds.\\\"[228]\", \"ontology:\", \"technique\", \"Hochreiter\", \"Dreyfus'\", \"AI-equipped\", \"adults,\", \"work.[226]\", \"survive\", \"McCarthy,\", \"spanning\", \"conditions\", \"maintaining\", \"(and\", \"preferences.[251]\", \"dangerous\", \"always\", \"year\", \"targeting\", \"Propositional\", \"championing\", \"crude\", \"bases\", \"exceeding\", \"T.\", \"realized,\", \"race\\\".[220]\", \"guess.\", \"well.\", \"smartphones.[34]\", \"1987,\", \"Teleological\", \"shallow\", \"Today,\", \"structures\", \"Pray.[231]\", \"top.\", \"web\", \"Deeplearning4j,\", \"humanity's\", \"choices.[54]\", \"nor\", \"accelerating\", \"founded,\", \"user's\", \"\\\"facts\\\"\", \"It\", \"(1863),\", \"(FNNs)\", \"fields\\u2014such\", \"assess\", \"network,[142]\", \"other.\", \"tree.[147]\", \"human.\", \"machine,[143]\", \"Johns\", \"Gottfried\", \"couldn't\", \"believed\", \"Sexy\", \"preferences\", \"display.\", \"Political\", \"priori\", \"Princeton\", \"kernel\", \"Search\", \"arguments\\\"\", \"received\", \"dramatic\", \"reaches\", \"Effect:\", \"Ivakhnenko's\", \"intelligence.[244]\", \"20%\", \"nodes,\", \"logic[130]\", \"involves\", \"Invisible,\", \"compute\", \"tools.\", \"generating\", \"explore\", \"laboratories\", \"1986[161]\", \"brightest\", \"requirement\", \"calculate\", \"remained\", \"emphasis\", \"model.[39]\", \"Ratio\", \"\\\"just\", \"(with\", \"interdisciplinary\", \"law\", \"time.[49]\", \"events,\", \"optimal,[192]\", \"Science\", \"sources\", \"1950s\", \"consciousness.\", \"units\", \"k-nearest\", \"emerged\", \"meaning\", \"\\\"no\", \"Salakhutdinov\", \"teaching\", \"1966,\", \"post\", \"predefined\", \"tech\", \"computer.\", \"MIT,\", \"check\", \"removed\", \"states.\", \"(where\", \"empathy.\", \"technological\", \"10%\", \"intuitive\", \"theme\", \"redesign\", \"fuzzy-logic:\", \"broken\", \"institute\", \"1980.[167]\", \"consensus\", \"page\", \"antiquity.\", \"replicates\", \"recognition,\", \"decade\", \"4\", \"(This\", \"Ramon\", \"illustrated\", \"neighbor\", \"measurable\", \"making.[216]\", \"normally\", \"States,\", \"use,\", \"facial\", \"framework\", \"texts.\", \"pick\", \"(known\", \"\\\"good\", \"chess,\", \"vast\", \"however,\"]}], {}, {\"showLink\": true, \"linkText\": \"Export to plot.ly\"})});</script>"
      ],
      "text/plain": [
       "<IPython.core.display.HTML object>"
      ]
     },
     "metadata": {},
     "output_type": "display_data"
    }
   ],
   "source": [
    "from plotly.offline import download_plotlyjs, init_notebook_mode, plot, iplot\n",
    "init_notebook_mode(connected=True)\n",
    "\n",
    "normal_word, normal_freq = zip(*list(wf_normal.most_common(500000)))\n",
    "\n",
    "iplot([{\"x\": normal_word, \"y\": normal_freq}])"
   ]
  },
  {
   "cell_type": "markdown",
   "metadata": {
    "slideshow": {
     "slide_type": "subslide"
    }
   },
   "source": [
    "### Zipfian Distribution\n",
    "\n",
    "- How much is informative?\n",
    "- Upper / lower bound?\n",
    "- Stop words?"
   ]
  },
  {
   "cell_type": "code",
   "execution_count": 16,
   "metadata": {
    "collapsed": false
   },
   "outputs": [
    {
     "name": "stderr",
     "output_type": "stream",
     "text": [
      "/usr/local/lib/python3.5/dist-packages/ipykernel/__main__.py:3: RuntimeWarning:\n",
      "\n",
      "divide by zero encountered in log10\n",
      "\n"
     ]
    },
    {
     "data": {
      "text/html": [
       "<div id=\"abb23330-9709-4a79-ac26-f479c730e7ef\" style=\"height: 525px; width: 100%;\" class=\"plotly-graph-div\"></div><script type=\"text/javascript\">require([\"plotly\"], function(Plotly) { window.PLOTLYENV=window.PLOTLYENV || {};window.PLOTLYENV.BASE_URL=\"https://plot.ly\";Plotly.newPlot(\"abb23330-9709-4a79-ac26-f479c730e7ef\", [{\"y\": [2.593286067020457, 2.4927603890268375, 2.482873583608754, 2.3961993470957363, 2.2671717284030137, 2.164352855784437, 2.143014800254095, 2.0681858617461617, 1.99563519459755, 1.9542425094393248, 1.9493900066449128, 1.792391689498254, 1.7781512503836436, 1.7781512503836436, 1.7634279935629373, 1.7481880270062005, 1.7481880270062005, 1.7403626894942439, 1.7242758696007892, 1.7160033436347992, 1.6720978579357175, 1.6720978579357175, 1.662757831681574, 1.6532125137753437, 1.5797835966168101, 1.5440680443502757, 1.505149978319906, 1.4771212547196624, 1.4771212547196624, 1.462397997898956, 1.4471580313422192, 1.4471580313422192, 1.4471580313422192, 1.4313637641589874, 1.4313637641589874, 1.414973347970818, 1.414973347970818, 1.3979400086720377, 1.3979400086720377, 1.3979400086720377, 1.380211241711606, 1.3617278360175928, 1.3617278360175928, 1.3424226808222062, 1.3424226808222062, 1.3424226808222062, 1.3222192947339193, 1.3010299956639813, 1.2787536009528289, 1.2787536009528289, 1.2787536009528289, 1.2787536009528289, 1.255272505103306, 1.2304489213782739, 1.2304489213782739, 1.2304489213782739, 1.2304489213782739, 1.2304489213782739, 1.2304489213782739, 1.2304489213782739, 1.2041199826559248, 1.2041199826559248, 1.2041199826559248, 1.1760912590556813, 1.1760912590556813, 1.1760912590556813, 1.1760912590556813, 1.1760912590556813, 1.1760912590556813, 1.146128035678238, 1.146128035678238, 1.146128035678238, 1.146128035678238, 1.146128035678238, 1.146128035678238, 1.146128035678238, 1.146128035678238, 1.146128035678238, 1.1139433523068367, 1.1139433523068367, 1.1139433523068367, 1.0791812460476249, 1.0791812460476249, 1.0791812460476249, 1.0791812460476249, 1.0791812460476249, 1.0791812460476249, 1.041392685158225, 1.041392685158225, 1.041392685158225, 1.041392685158225, 1.041392685158225, 1.041392685158225, 1.041392685158225, 1.0, 1.0, 1.0, 1.0, 1.0, 1.0, 1.0, 1.0, 1.0, 1.0, 1.0, 1.0, 1.0, 1.0, 1.0, 0.9542425094393249, 0.9542425094393249, 0.9542425094393249, 0.9542425094393249, 0.9542425094393249, 0.9542425094393249, 0.9542425094393249, 0.9542425094393249, 0.9542425094393249, 0.9542425094393249, 0.9542425094393249, 0.9542425094393249, 0.9542425094393249, 0.9542425094393249, 0.9542425094393249, 0.9542425094393249, 0.9542425094393249, 0.9542425094393249, 0.9030899869919435, 0.9030899869919435, 0.9030899869919435, 0.9030899869919435, 0.9030899869919435, 0.9030899869919435, 0.9030899869919435, 0.9030899869919435, 0.9030899869919435, 0.9030899869919435, 0.9030899869919435, 0.9030899869919435, 0.9030899869919435, 0.9030899869919435, 0.9030899869919435, 0.9030899869919435, 0.9030899869919435, 0.8450980400142568, 0.8450980400142568, 0.8450980400142568, 0.8450980400142568, 0.8450980400142568, 0.8450980400142568, 0.8450980400142568, 0.8450980400142568, 0.8450980400142568, 0.8450980400142568, 0.8450980400142568, 0.8450980400142568, 0.8450980400142568, 0.8450980400142568, 0.8450980400142568, 0.8450980400142568, 0.8450980400142568, 0.8450980400142568, 0.8450980400142568, 0.8450980400142568, 0.8450980400142568, 0.8450980400142568, 0.8450980400142568, 0.8450980400142568, 0.8450980400142568, 0.8450980400142568, 0.8450980400142568, 0.8450980400142568, 0.7781512503836436, 0.7781512503836436, 0.7781512503836436, 0.7781512503836436, 0.7781512503836436, 0.7781512503836436, 0.7781512503836436, 0.7781512503836436, 0.7781512503836436, 0.7781512503836436, 0.7781512503836436, 0.7781512503836436, 0.7781512503836436, 0.7781512503836436, 0.7781512503836436, 0.7781512503836436, 0.7781512503836436, 0.7781512503836436, 0.7781512503836436, 0.7781512503836436, 0.7781512503836436, 0.7781512503836436, 0.7781512503836436, 0.7781512503836436, 0.7781512503836436, 0.7781512503836436, 0.7781512503836436, 0.7781512503836436, 0.7781512503836436, 0.7781512503836436, 0.7781512503836436, 0.7781512503836436, 0.7781512503836436, 0.7781512503836436, 0.7781512503836436, 0.7781512503836436, 0.7781512503836436, 0.7781512503836436, 0.7781512503836436, 0.7781512503836436, 0.6989700043360189, 0.6989700043360189, 0.6989700043360189, 0.6989700043360189, 0.6989700043360189, 0.6989700043360189, 0.6989700043360189, 0.6989700043360189, 0.6989700043360189, 0.6989700043360189, 0.6989700043360189, 0.6989700043360189, 0.6989700043360189, 0.6989700043360189, 0.6989700043360189, 0.6989700043360189, 0.6989700043360189, 0.6989700043360189, 0.6989700043360189, 0.6989700043360189, 0.6989700043360189, 0.6989700043360189, 0.6989700043360189, 0.6989700043360189, 0.6989700043360189, 0.6989700043360189, 0.6989700043360189, 0.6989700043360189, 0.6989700043360189, 0.6989700043360189, 0.6989700043360189, 0.6989700043360189, 0.6989700043360189, 0.6989700043360189, 0.6989700043360189, 0.6989700043360189, 0.6989700043360189, 0.6989700043360189, 0.6989700043360189, 0.6989700043360189, 0.6989700043360189, 0.6989700043360189, 0.6989700043360189, 0.6989700043360189, 0.6020599913279624, 0.6020599913279624, 0.6020599913279624, 0.6020599913279624, 0.6020599913279624, 0.6020599913279624, 0.6020599913279624, 0.6020599913279624, 0.6020599913279624, 0.6020599913279624, 0.6020599913279624, 0.6020599913279624, 0.6020599913279624, 0.6020599913279624, 0.6020599913279624, 0.6020599913279624, 0.6020599913279624, 0.6020599913279624, 0.6020599913279624, 0.6020599913279624, 0.6020599913279624, 0.6020599913279624, 0.6020599913279624, 0.6020599913279624, 0.6020599913279624, 0.6020599913279624, 0.6020599913279624, 0.6020599913279624, 0.6020599913279624, 0.6020599913279624, 0.6020599913279624, 0.6020599913279624, 0.6020599913279624, 0.6020599913279624, 0.6020599913279624, 0.6020599913279624, 0.6020599913279624, 0.6020599913279624, 0.6020599913279624, 0.6020599913279624, 0.6020599913279624, 0.6020599913279624, 0.6020599913279624, 0.6020599913279624, 0.6020599913279624, 0.6020599913279624, 0.6020599913279624, 0.6020599913279624, 0.6020599913279624, 0.6020599913279624, 0.6020599913279624, 0.6020599913279624, 0.6020599913279624, 0.6020599913279624, 0.6020599913279624, 0.6020599913279624, 0.6020599913279624, 0.6020599913279624, 0.6020599913279624, 0.6020599913279624, 0.6020599913279624, 0.6020599913279624, 0.6020599913279624, 0.6020599913279624, 0.6020599913279624, 0.6020599913279624, 0.6020599913279624, 0.6020599913279624, 0.6020599913279624, 0.6020599913279624, 0.6020599913279624, 0.6020599913279624, 0.6020599913279624, 0.6020599913279624, 0.6020599913279624, 0.6020599913279624, 0.6020599913279624, 0.6020599913279624, 0.6020599913279624, 0.6020599913279624, 0.6020599913279624, 0.6020599913279624, 0.6020599913279624, 0.6020599913279624, 0.6020599913279624, 0.6020599913279624, 0.6020599913279624, 0.6020599913279624, 0.6020599913279624, 0.6020599913279624, 0.6020599913279624, 0.6020599913279624, 0.6020599913279624, 0.6020599913279624, 0.6020599913279624, 0.6020599913279624, 0.6020599913279624, 0.6020599913279624, 0.6020599913279624, 0.6020599913279624, 0.6020599913279624, 0.6020599913279624, 0.6020599913279624, 0.6020599913279624, 0.6020599913279624, 0.6020599913279624, 0.6020599913279624, 0.6020599913279624, 0.6020599913279624, 0.47712125471966244, 0.47712125471966244, 0.47712125471966244, 0.47712125471966244, 0.47712125471966244, 0.47712125471966244, 0.47712125471966244, 0.47712125471966244, 0.47712125471966244, 0.47712125471966244, 0.47712125471966244, 0.47712125471966244, 0.47712125471966244, 0.47712125471966244, 0.47712125471966244, 0.47712125471966244, 0.47712125471966244, 0.47712125471966244, 0.47712125471966244, 0.47712125471966244, 0.47712125471966244, 0.47712125471966244, 0.47712125471966244, 0.47712125471966244, 0.47712125471966244, 0.47712125471966244, 0.47712125471966244, 0.47712125471966244, 0.47712125471966244, 0.47712125471966244, 0.47712125471966244, 0.47712125471966244, 0.47712125471966244, 0.47712125471966244, 0.47712125471966244, 0.47712125471966244, 0.47712125471966244, 0.47712125471966244, 0.47712125471966244, 0.47712125471966244, 0.47712125471966244, 0.47712125471966244, 0.47712125471966244, 0.47712125471966244, 0.47712125471966244, 0.47712125471966244, 0.47712125471966244, 0.47712125471966244, 0.47712125471966244, 0.47712125471966244, 0.47712125471966244, 0.47712125471966244, 0.47712125471966244, 0.47712125471966244, 0.47712125471966244, 0.47712125471966244, 0.47712125471966244, 0.47712125471966244, 0.47712125471966244, 0.47712125471966244, 0.47712125471966244, 0.47712125471966244, 0.47712125471966244, 0.47712125471966244, 0.47712125471966244, 0.47712125471966244, 0.47712125471966244, 0.47712125471966244, 0.47712125471966244, 0.47712125471966244, 0.47712125471966244, 0.47712125471966244, 0.47712125471966244, 0.47712125471966244, 0.47712125471966244, 0.47712125471966244, 0.47712125471966244, 0.47712125471966244, 0.47712125471966244, 0.47712125471966244, 0.47712125471966244, 0.47712125471966244, 0.47712125471966244, 0.47712125471966244, 0.47712125471966244, 0.47712125471966244, 0.47712125471966244, 0.47712125471966244, 0.47712125471966244, 0.47712125471966244, 0.47712125471966244, 0.47712125471966244, 0.47712125471966244, 0.47712125471966244, 0.47712125471966244, 0.47712125471966244, 0.47712125471966244, 0.47712125471966244, 0.47712125471966244, 0.47712125471966244, 0.47712125471966244, 0.47712125471966244, 0.47712125471966244, 0.47712125471966244, 0.47712125471966244, 0.47712125471966244, 0.47712125471966244, 0.47712125471966244, 0.47712125471966244, 0.47712125471966244, 0.47712125471966244, 0.47712125471966244, 0.47712125471966244, 0.47712125471966244, 0.47712125471966244, 0.47712125471966244, 0.47712125471966244, 0.47712125471966244, 0.47712125471966244, 0.47712125471966244, 0.47712125471966244, 0.47712125471966244, 0.47712125471966244, 0.47712125471966244, 0.47712125471966244, 0.47712125471966244, 0.47712125471966244, 0.47712125471966244, 0.47712125471966244, 0.47712125471966244, 0.47712125471966244, 0.47712125471966244, 0.47712125471966244, 0.47712125471966244, 0.47712125471966244, 0.47712125471966244, 0.47712125471966244, 0.47712125471966244, 0.47712125471966244, 0.47712125471966244, 0.47712125471966244, 0.47712125471966244, 0.47712125471966244, 0.47712125471966244, 0.47712125471966244, 0.47712125471966244, 0.47712125471966244, 0.47712125471966244, 0.47712125471966244, 0.47712125471966244, 0.47712125471966244, 0.47712125471966244, 0.47712125471966244, 0.47712125471966244, 0.47712125471966244, 0.47712125471966244, 0.47712125471966244, 0.47712125471966244, 0.47712125471966244, 0.47712125471966244, 0.47712125471966244, 0.47712125471966244, 0.47712125471966244, 0.47712125471966244, 0.47712125471966244, 0.47712125471966244, 0.3010299956639812, 0.3010299956639812, 0.3010299956639812, 0.3010299956639812, 0.3010299956639812, 0.3010299956639812, 0.3010299956639812, 0.3010299956639812, 0.3010299956639812, 0.3010299956639812, 0.3010299956639812, 0.3010299956639812, 0.3010299956639812, 0.3010299956639812, 0.3010299956639812, 0.3010299956639812, 0.3010299956639812, 0.3010299956639812, 0.3010299956639812, 0.3010299956639812, 0.3010299956639812, 0.3010299956639812, 0.3010299956639812, 0.3010299956639812, 0.3010299956639812, 0.3010299956639812, 0.3010299956639812, 0.3010299956639812, 0.3010299956639812, 0.3010299956639812, 0.3010299956639812, 0.3010299956639812, 0.3010299956639812, 0.3010299956639812, 0.3010299956639812, 0.3010299956639812, 0.3010299956639812, 0.3010299956639812, 0.3010299956639812, 0.3010299956639812, 0.3010299956639812, 0.3010299956639812, 0.3010299956639812, 0.3010299956639812, 0.3010299956639812, 0.3010299956639812, 0.3010299956639812, 0.3010299956639812, 0.3010299956639812, 0.3010299956639812, 0.3010299956639812, 0.3010299956639812, 0.3010299956639812, 0.3010299956639812, 0.3010299956639812, 0.3010299956639812, 0.3010299956639812, 0.3010299956639812, 0.3010299956639812, 0.3010299956639812, 0.3010299956639812, 0.3010299956639812, 0.3010299956639812, 0.3010299956639812, 0.3010299956639812, 0.3010299956639812, 0.3010299956639812, 0.3010299956639812, 0.3010299956639812, 0.3010299956639812, 0.3010299956639812, 0.3010299956639812, 0.3010299956639812, 0.3010299956639812, 0.3010299956639812, 0.3010299956639812, 0.3010299956639812, 0.3010299956639812, 0.3010299956639812, 0.3010299956639812, 0.3010299956639812, 0.3010299956639812, 0.3010299956639812, 0.3010299956639812, 0.3010299956639812, 0.3010299956639812, 0.3010299956639812, 0.3010299956639812, 0.3010299956639812, 0.3010299956639812, 0.3010299956639812, 0.3010299956639812, 0.3010299956639812, 0.3010299956639812, 0.3010299956639812, 0.3010299956639812, 0.3010299956639812, 0.3010299956639812, 0.3010299956639812, 0.3010299956639812, 0.3010299956639812, 0.3010299956639812, 0.3010299956639812, 0.3010299956639812, 0.3010299956639812, 0.3010299956639812, 0.3010299956639812, 0.3010299956639812, 0.3010299956639812, 0.3010299956639812, 0.3010299956639812, 0.3010299956639812, 0.3010299956639812, 0.3010299956639812, 0.3010299956639812, 0.3010299956639812, 0.3010299956639812, 0.3010299956639812, 0.3010299956639812, 0.3010299956639812, 0.3010299956639812, 0.3010299956639812, 0.3010299956639812, 0.3010299956639812, 0.3010299956639812, 0.3010299956639812, 0.3010299956639812, 0.3010299956639812, 0.3010299956639812, 0.3010299956639812, 0.3010299956639812, 0.3010299956639812, 0.3010299956639812, 0.3010299956639812, 0.3010299956639812, 0.3010299956639812, 0.3010299956639812, 0.3010299956639812, 0.3010299956639812, 0.3010299956639812, 0.3010299956639812, 0.3010299956639812, 0.3010299956639812, 0.3010299956639812, 0.3010299956639812, 0.3010299956639812, 0.3010299956639812, 0.3010299956639812, 0.3010299956639812, 0.3010299956639812, 0.3010299956639812, 0.3010299956639812, 0.3010299956639812, 0.3010299956639812, 0.3010299956639812, 0.3010299956639812, 0.3010299956639812, 0.3010299956639812, 0.3010299956639812, 0.3010299956639812, 0.3010299956639812, 0.3010299956639812, 0.3010299956639812, 0.3010299956639812, 0.3010299956639812, 0.3010299956639812, 0.3010299956639812, 0.3010299956639812, 0.3010299956639812, 0.3010299956639812, 0.3010299956639812, 0.3010299956639812, 0.3010299956639812, 0.3010299956639812, 0.3010299956639812, 0.3010299956639812, 0.3010299956639812, 0.3010299956639812, 0.3010299956639812, 0.3010299956639812, 0.3010299956639812, 0.3010299956639812, 0.3010299956639812, 0.3010299956639812, 0.3010299956639812, 0.3010299956639812, 0.3010299956639812, 0.3010299956639812, 0.3010299956639812, 0.3010299956639812, 0.3010299956639812, 0.3010299956639812, 0.3010299956639812, 0.3010299956639812, 0.3010299956639812, 0.3010299956639812, 0.3010299956639812, 0.3010299956639812, 0.3010299956639812, 0.3010299956639812, 0.3010299956639812, 0.3010299956639812, 0.3010299956639812, 0.3010299956639812, 0.3010299956639812, 0.3010299956639812, 0.3010299956639812, 0.3010299956639812, 0.3010299956639812, 0.3010299956639812, 0.3010299956639812, 0.3010299956639812, 0.3010299956639812, 0.3010299956639812, 0.3010299956639812, 0.3010299956639812, 0.3010299956639812, 0.3010299956639812, 0.3010299956639812, 0.3010299956639812, 0.3010299956639812, 0.3010299956639812, 0.3010299956639812, 0.3010299956639812, 0.3010299956639812, 0.3010299956639812, 0.3010299956639812, 0.3010299956639812, 0.3010299956639812, 0.3010299956639812, 0.3010299956639812, 0.3010299956639812, 0.3010299956639812, 0.3010299956639812, 0.3010299956639812, 0.3010299956639812, 0.3010299956639812, 0.3010299956639812, 0.3010299956639812, 0.3010299956639812, 0.3010299956639812, 0.3010299956639812, 0.3010299956639812, 0.3010299956639812, 0.3010299956639812, 0.3010299956639812, 0.3010299956639812, 0.3010299956639812, 0.3010299956639812, 0.3010299956639812, 0.3010299956639812, 0.3010299956639812, 0.3010299956639812, 0.3010299956639812, 0.3010299956639812, 0.3010299956639812, 0.3010299956639812, 0.3010299956639812, 0.3010299956639812, 0.3010299956639812, 0.3010299956639812, 0.3010299956639812, 0.3010299956639812, 0.3010299956639812, 0.3010299956639812, 0.3010299956639812, 0.3010299956639812, 0.3010299956639812, 0.3010299956639812, 0.3010299956639812, 0.3010299956639812, 0.3010299956639812, 0.3010299956639812, 0.3010299956639812, 0.3010299956639812, 0.3010299956639812, 0.3010299956639812, 0.3010299956639812, 0.3010299956639812, 0.3010299956639812, 0.3010299956639812, 0.3010299956639812, 0.3010299956639812, 0.3010299956639812, 0.3010299956639812, 0.3010299956639812, 0.3010299956639812, 0.3010299956639812, 0.3010299956639812, 0.3010299956639812, 0.3010299956639812, 0.3010299956639812, 0.3010299956639812, 0.3010299956639812, 0.3010299956639812, 0.3010299956639812, 0.3010299956639812, 0.3010299956639812, 0.3010299956639812, 0.3010299956639812, 0.3010299956639812, 0.3010299956639812, 0.3010299956639812, 0.3010299956639812, 0.3010299956639812, 0.3010299956639812, 0.3010299956639812, 0.3010299956639812, 0.3010299956639812, 0.3010299956639812, 0.3010299956639812, 0.3010299956639812, 0.3010299956639812, 0.3010299956639812, 0.3010299956639812, 0.3010299956639812, 0.3010299956639812, 0.3010299956639812, 0.3010299956639812, 0.3010299956639812, 0.3010299956639812, 0.3010299956639812, 0.3010299956639812, 0.3010299956639812, 0.3010299956639812, 0.3010299956639812, 0.3010299956639812, 0.3010299956639812, 0.3010299956639812, 0.3010299956639812, 0.3010299956639812, 0.3010299956639812, 0.3010299956639812, 0.3010299956639812, 0.3010299956639812, 0.3010299956639812, 0.3010299956639812, 0.3010299956639812, 0.3010299956639812, 0.3010299956639812, 0.3010299956639812, 0.3010299956639812, 0.3010299956639812, 0.3010299956639812, 0.3010299956639812, 0.3010299956639812, 0.3010299956639812, 0.3010299956639812, 0.3010299956639812, 0.3010299956639812, 0.3010299956639812, 0.3010299956639812, 0.3010299956639812, 0.3010299956639812, 0.3010299956639812, 0.3010299956639812, 0.3010299956639812, 0.3010299956639812, 0.3010299956639812, 0.3010299956639812, 0.3010299956639812, 0.3010299956639812, 0.3010299956639812, 0.3010299956639812, 0.3010299956639812, 0.3010299956639812, 0.3010299956639812, 0.3010299956639812, 0.3010299956639812, 0.3010299956639812, 0.3010299956639812, 0.3010299956639812, 0.3010299956639812, 0.3010299956639812, 0.3010299956639812, 0.3010299956639812, 0.3010299956639812, 0.3010299956639812, 0.3010299956639812, 0.3010299956639812, 0.3010299956639812, 0.3010299956639812, 0.3010299956639812, 0.3010299956639812, 0.3010299956639812, 0.3010299956639812, 0.3010299956639812, 0.3010299956639812, 0.3010299956639812, 0.3010299956639812, 0.3010299956639812, 0.3010299956639812, 0.3010299956639812, 0.3010299956639812, 0.3010299956639812, 0.3010299956639812, 0.3010299956639812, 0.3010299956639812, 0.3010299956639812, 0.3010299956639812, 0.3010299956639812, 0.3010299956639812, 0.3010299956639812, 0.3010299956639812, 0.3010299956639812, 0.3010299956639812, 0.3010299956639812, 0.3010299956639812, 0.3010299956639812, 0.3010299956639812, 0.3010299956639812, 0.3010299956639812, 0.3010299956639812, 0.3010299956639812, 0.3010299956639812, 0.3010299956639812, 0.3010299956639812, 0.3010299956639812, 0.3010299956639812, 0.3010299956639812, 0.3010299956639812, 0.3010299956639812, 0.3010299956639812, 0.3010299956639812, 0.3010299956639812, 0.3010299956639812, 0.3010299956639812, 0.3010299956639812, 0.3010299956639812, 0.3010299956639812, 0.3010299956639812, 0.3010299956639812, 0.3010299956639812, 0.3010299956639812, 0.3010299956639812, 0.3010299956639812, 0.3010299956639812, 0.3010299956639812, 0.3010299956639812, 0.3010299956639812, 0.3010299956639812, 0.3010299956639812, 0.3010299956639812, 0.3010299956639812, 0.3010299956639812, 0.3010299956639812, 0.3010299956639812, 0.0, 0.0, 0.0, 0.0, 0.0, 0.0, 0.0, 0.0, 0.0, 0.0, 0.0, 0.0, 0.0, 0.0, 0.0, 0.0, 0.0, 0.0, 0.0, 0.0, 0.0, 0.0, 0.0, 0.0, 0.0, 0.0, 0.0, 0.0, 0.0, 0.0, 0.0, 0.0, 0.0, 0.0, 0.0, 0.0, 0.0, 0.0, 0.0, 0.0, 0.0, 0.0, 0.0, 0.0, 0.0, 0.0, 0.0, 0.0, 0.0, 0.0, 0.0, 0.0, 0.0, 0.0, 0.0, 0.0, 0.0, 0.0, 0.0, 0.0, 0.0, 0.0, 0.0, 0.0, 0.0, 0.0, 0.0, 0.0, 0.0, 0.0, 0.0, 0.0, 0.0, 0.0, 0.0, 0.0, 0.0, 0.0, 0.0, 0.0, 0.0, 0.0, 0.0, 0.0, 0.0, 0.0, 0.0, 0.0, 0.0, 0.0, 0.0, 0.0, 0.0, 0.0, 0.0, 0.0, 0.0, 0.0, 0.0, 0.0, 0.0, 0.0, 0.0, 0.0, 0.0, 0.0, 0.0, 0.0, 0.0, 0.0, 0.0, 0.0, 0.0, 0.0, 0.0, 0.0, 0.0, 0.0, 0.0, 0.0, 0.0, 0.0, 0.0, 0.0, 0.0, 0.0, 0.0, 0.0, 0.0, 0.0, 0.0, 0.0, 0.0, 0.0, 0.0, 0.0, 0.0, 0.0, 0.0, 0.0, 0.0, 0.0, 0.0, 0.0, 0.0, 0.0, 0.0, 0.0, 0.0, 0.0, 0.0, 0.0, 0.0, 0.0, 0.0, 0.0, 0.0, 0.0, 0.0, 0.0, 0.0, 0.0, 0.0, 0.0, 0.0, 0.0, 0.0, 0.0, 0.0, 0.0, 0.0, 0.0, 0.0, 0.0, 0.0, 0.0, 0.0, 0.0, 0.0, 0.0, 0.0, 0.0, 0.0, 0.0, 0.0, 0.0, 0.0, 0.0, 0.0, 0.0, 0.0, 0.0, 0.0, 0.0, 0.0, 0.0, 0.0, 0.0, 0.0, 0.0, 0.0, 0.0, 0.0, 0.0, 0.0, 0.0, 0.0, 0.0, 0.0, 0.0, 0.0, 0.0, 0.0, 0.0, 0.0, 0.0, 0.0, 0.0, 0.0, 0.0, 0.0, 0.0, 0.0, 0.0, 0.0, 0.0, 0.0, 0.0, 0.0, 0.0, 0.0, 0.0, 0.0, 0.0, 0.0, 0.0, 0.0, 0.0, 0.0, 0.0, 0.0, 0.0, 0.0, 0.0, 0.0, 0.0, 0.0, 0.0, 0.0, 0.0, 0.0, 0.0, 0.0, 0.0, 0.0, 0.0, 0.0, 0.0, 0.0, 0.0, 0.0, 0.0, 0.0, 0.0, 0.0, 0.0, 0.0, 0.0, 0.0, 0.0, 0.0, 0.0, 0.0, 0.0, 0.0, 0.0, 0.0, 0.0, 0.0, 0.0, 0.0, 0.0, 0.0, 0.0, 0.0, 0.0, 0.0, 0.0, 0.0, 0.0, 0.0, 0.0, 0.0, 0.0, 0.0, 0.0, 0.0, 0.0, 0.0, 0.0, 0.0, 0.0, 0.0, 0.0, 0.0, 0.0, 0.0, 0.0, 0.0, 0.0, 0.0, 0.0, 0.0, 0.0, 0.0, 0.0, 0.0, 0.0, 0.0, 0.0, 0.0, 0.0, 0.0, 0.0, 0.0, 0.0, 0.0, 0.0, 0.0, 0.0, 0.0, 0.0, 0.0, 0.0, 0.0, 0.0, 0.0, 0.0, 0.0, 0.0, 0.0, 0.0, 0.0, 0.0, 0.0, 0.0, 0.0, 0.0, 0.0, 0.0, 0.0, 0.0, 0.0, 0.0, 0.0, 0.0, 0.0, 0.0, 0.0, 0.0, 0.0, 0.0, 0.0, 0.0, 0.0, 0.0, 0.0, 0.0, 0.0, 0.0, 0.0, 0.0, 0.0, 0.0, 0.0, 0.0, 0.0, 0.0, 0.0, 0.0, 0.0, 0.0, 0.0, 0.0, 0.0, 0.0, 0.0, 0.0, 0.0, 0.0, 0.0, 0.0, 0.0, 0.0, 0.0, 0.0, 0.0, 0.0, 0.0, 0.0, 0.0, 0.0, 0.0, 0.0, 0.0, 0.0, 0.0, 0.0, 0.0, 0.0, 0.0, 0.0, 0.0, 0.0, 0.0, 0.0, 0.0, 0.0, 0.0, 0.0, 0.0, 0.0, 0.0, 0.0, 0.0, 0.0, 0.0, 0.0, 0.0, 0.0, 0.0, 0.0, 0.0, 0.0, 0.0, 0.0, 0.0, 0.0, 0.0, 0.0, 0.0, 0.0, 0.0, 0.0, 0.0, 0.0, 0.0, 0.0, 0.0, 0.0, 0.0, 0.0, 0.0, 0.0, 0.0, 0.0, 0.0, 0.0, 0.0, 0.0, 0.0, 0.0, 0.0, 0.0, 0.0, 0.0, 0.0, 0.0, 0.0, 0.0, 0.0, 0.0, 0.0, 0.0, 0.0, 0.0, 0.0, 0.0, 0.0, 0.0, 0.0, 0.0, 0.0, 0.0, 0.0, 0.0, 0.0, 0.0, 0.0, 0.0, 0.0, 0.0, 0.0, 0.0, 0.0, 0.0, 0.0, 0.0, 0.0, 0.0, 0.0, 0.0, 0.0, 0.0, 0.0, 0.0, 0.0, 0.0, 0.0, 0.0, 0.0, 0.0, 0.0, 0.0, 0.0, 0.0, 0.0, 0.0, 0.0, 0.0, 0.0, 0.0, 0.0, 0.0, 0.0, 0.0, 0.0, 0.0, 0.0, 0.0, 0.0, 0.0, 0.0, 0.0, 0.0, 0.0, 0.0, 0.0, 0.0, 0.0, 0.0, 0.0, 0.0, 0.0, 0.0, 0.0, 0.0, 0.0, 0.0, 0.0, 0.0, 0.0, 0.0, 0.0, 0.0, 0.0, 0.0, 0.0, 0.0, 0.0, 0.0, 0.0, 0.0, 0.0, 0.0, 0.0, 0.0, 0.0, 0.0, 0.0, 0.0, 0.0, 0.0, 0.0, 0.0, 0.0, 0.0, 0.0, 0.0, 0.0, 0.0, 0.0, 0.0, 0.0, 0.0, 0.0, 0.0, 0.0, 0.0, 0.0, 0.0, 0.0, 0.0, 0.0, 0.0, 0.0, 0.0, 0.0, 0.0, 0.0, 0.0, 0.0, 0.0, 0.0, 0.0, 0.0, 0.0, 0.0, 0.0, 0.0, 0.0, 0.0, 0.0, 0.0, 0.0, 0.0, 0.0, 0.0, 0.0, 0.0, 0.0, 0.0, 0.0, 0.0, 0.0, 0.0, 0.0, 0.0, 0.0, 0.0, 0.0, 0.0, 0.0, 0.0, 0.0, 0.0, 0.0, 0.0, 0.0, 0.0, 0.0, 0.0, 0.0, 0.0, 0.0, 0.0, 0.0, 0.0, 0.0, 0.0, 0.0, 0.0, 0.0, 0.0, 0.0, 0.0, 0.0, 0.0, 0.0, 0.0, 0.0, 0.0, 0.0, 0.0, 0.0, 0.0, 0.0, 0.0, 0.0, 0.0, 0.0, 0.0, 0.0, 0.0, 0.0, 0.0, 0.0, 0.0, 0.0, 0.0, 0.0, 0.0, 0.0, 0.0, 0.0, 0.0, 0.0, 0.0, 0.0, 0.0, 0.0, 0.0, 0.0, 0.0, 0.0, 0.0, 0.0, 0.0, 0.0, 0.0, 0.0, 0.0, 0.0, 0.0, 0.0, 0.0, 0.0, 0.0, 0.0, 0.0, 0.0, 0.0, 0.0, 0.0, 0.0, 0.0, 0.0, 0.0, 0.0, 0.0, 0.0, 0.0, 0.0, 0.0, 0.0, 0.0, 0.0, 0.0, 0.0, 0.0, 0.0, 0.0, 0.0, 0.0, 0.0, 0.0, 0.0, 0.0, 0.0, 0.0, 0.0, 0.0, 0.0, 0.0, 0.0, 0.0, 0.0, 0.0, 0.0, 0.0, 0.0, 0.0, 0.0, 0.0, 0.0, 0.0, 0.0, 0.0, 0.0, 0.0, 0.0, 0.0, 0.0, 0.0, 0.0, 0.0, 0.0, 0.0, 0.0, 0.0, 0.0, 0.0, 0.0, 0.0, 0.0, 0.0, 0.0, 0.0, 0.0, 0.0, 0.0, 0.0, 0.0, 0.0, 0.0, 0.0, 0.0, 0.0, 0.0, 0.0, 0.0, 0.0, 0.0, 0.0, 0.0, 0.0, 0.0, 0.0, 0.0, 0.0, 0.0, 0.0, 0.0, 0.0, 0.0, 0.0, 0.0, 0.0, 0.0, 0.0, 0.0, 0.0, 0.0, 0.0, 0.0, 0.0, 0.0, 0.0, 0.0, 0.0, 0.0, 0.0, 0.0, 0.0, 0.0, 0.0, 0.0, 0.0, 0.0, 0.0, 0.0, 0.0, 0.0, 0.0, 0.0, 0.0, 0.0, 0.0, 0.0, 0.0, 0.0, 0.0, 0.0, 0.0, 0.0, 0.0, 0.0, 0.0, 0.0, 0.0, 0.0, 0.0, 0.0, 0.0, 0.0, 0.0, 0.0, 0.0, 0.0, 0.0, 0.0, 0.0, 0.0, 0.0, 0.0, 0.0, 0.0, 0.0, 0.0, 0.0, 0.0, 0.0, 0.0, 0.0, 0.0, 0.0, 0.0, 0.0, 0.0, 0.0, 0.0, 0.0, 0.0, 0.0, 0.0, 0.0, 0.0, 0.0, 0.0, 0.0, 0.0, 0.0, 0.0, 0.0, 0.0, 0.0, 0.0, 0.0, 0.0, 0.0, 0.0, 0.0, 0.0, 0.0, 0.0, 0.0, 0.0, 0.0, 0.0, 0.0, 0.0, 0.0, 0.0, 0.0, 0.0, 0.0, 0.0, 0.0, 0.0, 0.0, 0.0, 0.0, 0.0, 0.0, 0.0, 0.0, 0.0, 0.0, 0.0, 0.0, 0.0, 0.0, 0.0, 0.0, 0.0, 0.0, 0.0, 0.0, 0.0, 0.0, 0.0, 0.0, 0.0, 0.0, 0.0, 0.0, 0.0, 0.0, 0.0, 0.0, 0.0, 0.0, 0.0, 0.0, 0.0, 0.0, 0.0, 0.0, 0.0, 0.0, 0.0, 0.0, 0.0, 0.0, 0.0, 0.0, 0.0, 0.0, 0.0, 0.0, 0.0, 0.0, 0.0, 0.0, 0.0, 0.0, 0.0, 0.0, 0.0, 0.0, 0.0, 0.0, 0.0, 0.0, 0.0, 0.0, 0.0, 0.0, 0.0, 0.0, 0.0, 0.0, 0.0, 0.0, 0.0, 0.0, 0.0, 0.0, 0.0, 0.0, 0.0, 0.0, 0.0, 0.0, 0.0, 0.0, 0.0, 0.0, 0.0, 0.0, 0.0, 0.0, 0.0, 0.0, 0.0, 0.0, 0.0, 0.0, 0.0, 0.0, 0.0, 0.0, 0.0, 0.0, 0.0, 0.0, 0.0, 0.0, 0.0, 0.0, 0.0, 0.0, 0.0, 0.0, 0.0, 0.0, 0.0, 0.0, 0.0, 0.0, 0.0, 0.0, 0.0, 0.0, 0.0, 0.0, 0.0, 0.0, 0.0, 0.0, 0.0, 0.0, 0.0, 0.0, 0.0, 0.0, 0.0, 0.0, 0.0, 0.0, 0.0, 0.0, 0.0, 0.0, 0.0, 0.0, 0.0, 0.0, 0.0, 0.0, 0.0, 0.0, 0.0, 0.0, 0.0, 0.0, 0.0, 0.0, 0.0, 0.0, 0.0, 0.0, 0.0, 0.0, 0.0, 0.0, 0.0, 0.0, 0.0, 0.0, 0.0, 0.0, 0.0, 0.0, 0.0, 0.0, 0.0, 0.0, 0.0, 0.0, 0.0, 0.0, 0.0, 0.0, 0.0, 0.0, 0.0, 0.0, 0.0, 0.0, 0.0, 0.0, 0.0, 0.0, 0.0, 0.0, 0.0, 0.0, 0.0, 0.0, 0.0, 0.0, 0.0, 0.0, 0.0, 0.0, 0.0, 0.0, 0.0, 0.0, 0.0, 0.0, 0.0, 0.0, 0.0, 0.0, 0.0, 0.0, 0.0, 0.0, 0.0, 0.0, 0.0, 0.0, 0.0, 0.0, 0.0, 0.0, 0.0, 0.0, 0.0, 0.0, 0.0, 0.0, 0.0, 0.0, 0.0, 0.0, 0.0, 0.0, 0.0, 0.0, 0.0, 0.0, 0.0, 0.0, 0.0, 0.0, 0.0, 0.0, 0.0, 0.0, 0.0, 0.0, 0.0, 0.0, 0.0, 0.0, 0.0, 0.0, 0.0, 0.0, 0.0, 0.0, 0.0, 0.0, 0.0, 0.0, 0.0, 0.0, 0.0, 0.0, 0.0, 0.0, 0.0, 0.0, 0.0, 0.0, 0.0, 0.0, 0.0, 0.0, 0.0, 0.0, 0.0, 0.0, 0.0, 0.0, 0.0, 0.0, 0.0, 0.0, 0.0, 0.0, 0.0, 0.0, 0.0, 0.0, 0.0, 0.0, 0.0, 0.0, 0.0, 0.0, 0.0, 0.0, 0.0, 0.0, 0.0, 0.0, 0.0, 0.0, 0.0, 0.0, 0.0, 0.0, 0.0, 0.0, 0.0, 0.0, 0.0, 0.0, 0.0, 0.0, 0.0, 0.0, 0.0, 0.0, 0.0, 0.0, 0.0, 0.0, 0.0, 0.0, 0.0, 0.0, 0.0, 0.0, 0.0, 0.0, 0.0, 0.0, 0.0, 0.0, 0.0, 0.0, 0.0, 0.0, 0.0, 0.0, 0.0, 0.0, 0.0, 0.0, 0.0, 0.0, 0.0, 0.0, 0.0, 0.0, 0.0, 0.0, 0.0, 0.0, 0.0, 0.0, 0.0, 0.0, 0.0, 0.0, 0.0, 0.0, 0.0, 0.0, 0.0, 0.0, 0.0, 0.0, 0.0, 0.0, 0.0, 0.0, 0.0, 0.0, 0.0, 0.0, 0.0, 0.0, 0.0, 0.0, 0.0, 0.0, 0.0, 0.0, 0.0, 0.0, 0.0, 0.0, 0.0, 0.0, 0.0, 0.0, 0.0, 0.0, 0.0, 0.0, 0.0, 0.0, 0.0, 0.0, 0.0, 0.0, 0.0, 0.0, 0.0, 0.0, 0.0, 0.0, 0.0, 0.0, 0.0, 0.0, 0.0, 0.0, 0.0, 0.0, 0.0, 0.0, 0.0, 0.0, 0.0, 0.0, 0.0, 0.0, 0.0, 0.0, 0.0, 0.0, 0.0, 0.0, 0.0, 0.0, 0.0, 0.0, 0.0, 0.0, 0.0, 0.0, 0.0, 0.0, 0.0, 0.0, 0.0, 0.0, 0.0, 0.0, 0.0, 0.0, 0.0, 0.0, 0.0, 0.0, 0.0, 0.0, 0.0, 0.0, 0.0, 0.0, 0.0, 0.0, 0.0, 0.0, 0.0, 0.0, 0.0, 0.0, 0.0, 0.0, 0.0, 0.0, 0.0, 0.0, 0.0, 0.0, 0.0, 0.0, 0.0, 0.0, 0.0, 0.0, 0.0, 0.0, 0.0, 0.0, 0.0, 0.0, 0.0, 0.0, 0.0, 0.0, 0.0, 0.0, 0.0, 0.0, 0.0, 0.0, 0.0, 0.0, 0.0, 0.0, 0.0, 0.0, 0.0, 0.0, 0.0, 0.0, 0.0, 0.0, 0.0, 0.0, 0.0, 0.0, 0.0, 0.0, 0.0, 0.0, 0.0, 0.0, 0.0, 0.0, 0.0, 0.0, 0.0, 0.0, 0.0, 0.0, 0.0, 0.0, 0.0, 0.0, 0.0, 0.0, 0.0, 0.0, 0.0, 0.0, 0.0, 0.0, 0.0, 0.0, 0.0, 0.0, 0.0, 0.0, 0.0, 0.0, 0.0, 0.0, 0.0, 0.0, 0.0, 0.0, 0.0, 0.0, 0.0, 0.0, 0.0, 0.0, 0.0, 0.0, 0.0, 0.0, 0.0, 0.0, 0.0, 0.0, 0.0, 0.0, 0.0, 0.0, 0.0, 0.0, 0.0, 0.0, 0.0, 0.0, 0.0, 0.0, 0.0, 0.0, 0.0, 0.0, 0.0, 0.0, 0.0, 0.0, 0.0, 0.0, 0.0, 0.0, 0.0, 0.0, 0.0, 0.0, 0.0, 0.0, 0.0, 0.0, 0.0, 0.0, 0.0, 0.0, 0.0, 0.0, 0.0, 0.0, 0.0, 0.0, 0.0, 0.0, 0.0, 0.0, 0.0, 0.0, 0.0, 0.0, 0.0, 0.0, 0.0, 0.0, 0.0, 0.0, 0.0, 0.0, 0.0, 0.0, 0.0, 0.0, 0.0, 0.0, 0.0, 0.0, 0.0, 0.0, 0.0, 0.0, 0.0, 0.0, 0.0, 0.0, 0.0, 0.0, 0.0, 0.0, 0.0, 0.0, 0.0, 0.0, 0.0, 0.0, 0.0, 0.0, 0.0, 0.0, 0.0, 0.0, 0.0, 0.0, 0.0, 0.0, 0.0, 0.0, 0.0, 0.0, 0.0, 0.0, 0.0, 0.0, 0.0, 0.0, 0.0, 0.0, 0.0, 0.0, 0.0, 0.0, 0.0, 0.0, 0.0, 0.0, 0.0, 0.0, 0.0, 0.0, 0.0, 0.0, 0.0, 0.0, 0.0, 0.0, 0.0, 0.0, 0.0, 0.0, 0.0, 0.0, 0.0, 0.0, 0.0, 0.0, 0.0, 0.0, 0.0, 0.0, 0.0, 0.0, 0.0, 0.0, 0.0, 0.0, 0.0, 0.0, 0.0, 0.0, 0.0, 0.0, 0.0, 0.0, 0.0, 0.0, 0.0, 0.0, 0.0, 0.0, 0.0, 0.0, 0.0, 0.0, 0.0, 0.0, 0.0, 0.0, 0.0, 0.0, 0.0, 0.0, 0.0, 0.0, 0.0, 0.0, 0.0, 0.0, 0.0, 0.0, 0.0, 0.0, 0.0, 0.0, 0.0, 0.0, 0.0, 0.0, 0.0, 0.0, 0.0, 0.0, 0.0, 0.0, 0.0, 0.0, 0.0, 0.0, 0.0, 0.0, 0.0, 0.0, 0.0, 0.0, 0.0, 0.0, 0.0, 0.0, 0.0, 0.0, 0.0, 0.0, 0.0, 0.0, 0.0, 0.0, 0.0, 0.0, 0.0, 0.0, 0.0, 0.0, 0.0, 0.0, 0.0, 0.0, 0.0, 0.0, 0.0, 0.0, 0.0, 0.0, 0.0, 0.0, 0.0, 0.0, 0.0, 0.0, 0.0, 0.0, 0.0, 0.0, 0.0, 0.0, 0.0, 0.0, 0.0, 0.0, 0.0, 0.0, 0.0, 0.0, 0.0, 0.0, 0.0, 0.0, 0.0, 0.0, 0.0, 0.0, 0.0, 0.0, 0.0, 0.0, 0.0, 0.0, 0.0, 0.0, 0.0, 0.0, 0.0, 0.0, 0.0, 0.0, 0.0, 0.0, 0.0, 0.0, 0.0, 0.0, 0.0, 0.0, 0.0, 0.0, 0.0, 0.0, 0.0, 0.0, 0.0, 0.0, 0.0, 0.0, 0.0, 0.0, 0.0, 0.0, 0.0, 0.0, 0.0, 0.0, 0.0, 0.0, 0.0, 0.0, 0.0, 0.0, 0.0, 0.0, 0.0, 0.0, 0.0, 0.0, 0.0, 0.0, 0.0, 0.0, 0.0, 0.0, 0.0, 0.0, 0.0, 0.0, 0.0, 0.0, 0.0, 0.0, 0.0, 0.0, 0.0, 0.0, 0.0, 0.0, 0.0, 0.0, 0.0, 0.0, 0.0, 0.0, 0.0, 0.0, 0.0, 0.0, 0.0, 0.0, 0.0, 0.0, 0.0, 0.0, 0.0, 0.0, 0.0, 0.0, 0.0, 0.0, 0.0, 0.0, 0.0, 0.0, 0.0, 0.0, 0.0, 0.0, 0.0, 0.0, 0.0, 0.0, 0.0, 0.0, 0.0, 0.0, 0.0, 0.0, 0.0, 0.0, 0.0, 0.0, 0.0, 0.0, 0.0, 0.0, 0.0, 0.0, 0.0, 0.0, 0.0, 0.0, 0.0, 0.0, 0.0, 0.0, 0.0, 0.0, 0.0, 0.0, 0.0, 0.0, 0.0, 0.0, 0.0, 0.0, 0.0, 0.0, 0.0, 0.0, 0.0, 0.0, 0.0, 0.0, 0.0, 0.0, 0.0, 0.0, 0.0, 0.0, 0.0, 0.0, 0.0, 0.0, 0.0, 0.0, 0.0, 0.0, 0.0, 0.0, 0.0, 0.0, 0.0, 0.0, 0.0, 0.0, 0.0, 0.0, 0.0, 0.0, 0.0, 0.0, 0.0, 0.0, 0.0, 0.0, 0.0, 0.0, 0.0, 0.0, 0.0, 0.0, 0.0, 0.0, 0.0, 0.0, 0.0, 0.0, 0.0, 0.0, 0.0, 0.0, 0.0, 0.0, 0.0, 0.0, 0.0, 0.0, 0.0, 0.0, 0.0, 0.0, 0.0, 0.0, 0.0, 0.0, 0.0, 0.0, 0.0, 0.0, 0.0, 0.0, 0.0, 0.0, 0.0, 0.0, 0.0, 0.0, 0.0, 0.0, 0.0, 0.0, 0.0, 0.0, 0.0, 0.0, 0.0, 0.0, 0.0, 0.0, 0.0, 0.0, 0.0, 0.0, 0.0, 0.0, 0.0, 0.0, 0.0, 0.0, 0.0, 0.0, 0.0, 0.0, 0.0, 0.0, 0.0, 0.0, 0.0, 0.0, 0.0, 0.0, 0.0, 0.0, 0.0, 0.0, 0.0, 0.0, 0.0, 0.0, 0.0, 0.0, 0.0, 0.0, 0.0, 0.0, 0.0, 0.0, 0.0, 0.0, 0.0, 0.0, 0.0, 0.0, 0.0, 0.0, 0.0, 0.0, 0.0, 0.0, 0.0, 0.0, 0.0, 0.0, 0.0, 0.0, 0.0, 0.0, 0.0, 0.0, 0.0, 0.0, 0.0, 0.0, 0.0, 0.0, 0.0, 0.0, 0.0, 0.0, 0.0, 0.0, 0.0, 0.0, 0.0, 0.0, 0.0, 0.0, 0.0, 0.0, 0.0, 0.0, 0.0, 0.0, 0.0, 0.0, 0.0, 0.0, 0.0, 0.0, 0.0, 0.0, 0.0, 0.0, 0.0, 0.0, 0.0, 0.0, 0.0, 0.0, 0.0, 0.0, 0.0, 0.0, 0.0, 0.0, 0.0, 0.0, 0.0, 0.0, 0.0, 0.0, 0.0, 0.0, 0.0, 0.0, 0.0, 0.0, 0.0, 0.0, 0.0, 0.0, 0.0, 0.0, 0.0, 0.0, 0.0, 0.0, 0.0, 0.0, 0.0, 0.0, 0.0, 0.0, 0.0, 0.0, 0.0, 0.0, 0.0, 0.0, 0.0, 0.0, 0.0, 0.0, 0.0, 0.0, 0.0, 0.0, 0.0, 0.0, 0.0, 0.0, 0.0, 0.0, 0.0, 0.0, 0.0, 0.0, 0.0, 0.0, 0.0, 0.0, 0.0, 0.0, 0.0, 0.0, 0.0, 0.0, 0.0, 0.0, 0.0, 0.0, 0.0, 0.0, 0.0, 0.0, 0.0, 0.0, 0.0, 0.0, 0.0, 0.0, 0.0, 0.0, 0.0, 0.0, 0.0, 0.0, 0.0, 0.0, 0.0, 0.0, 0.0, 0.0, 0.0, 0.0, 0.0, 0.0, 0.0, 0.0, 0.0, 0.0, 0.0, 0.0, 0.0, 0.0, 0.0, 0.0, 0.0, 0.0, 0.0, 0.0, 0.0, 0.0, 0.0, 0.0, 0.0, 0.0, 0.0, 0.0, 0.0, 0.0, 0.0, 0.0, 0.0, 0.0, 0.0, 0.0, 0.0, 0.0, 0.0, 0.0, 0.0, 0.0, 0.0, 0.0, 0.0, 0.0, 0.0, 0.0, 0.0, 0.0, 0.0, 0.0, 0.0, 0.0, 0.0, 0.0, 0.0, 0.0, 0.0, 0.0, 0.0, 0.0, 0.0, 0.0, 0.0, 0.0, 0.0, 0.0, 0.0, 0.0, 0.0, 0.0, 0.0, 0.0, 0.0, 0.0, 0.0, 0.0, 0.0], \"x\": [null, 0.0, 0.3010299956639812, 0.47712125471966244, 0.6020599913279624, 0.6989700043360189, 0.7781512503836436, 0.8450980400142568, 0.9030899869919435, 0.9542425094393249, 1.0, 1.041392685158225, 1.0791812460476249, 1.1139433523068367, 1.146128035678238, 1.1760912590556813, 1.2041199826559248, 1.2304489213782739, 1.255272505103306, 1.2787536009528289, 1.3010299956639813, 1.3222192947339193, 1.3424226808222062, 1.3617278360175928, 1.380211241711606, 1.3979400086720377, 1.414973347970818, 1.4313637641589874, 1.4471580313422192, 1.462397997898956, 1.4771212547196624, 1.4913616938342726, 1.505149978319906, 1.5185139398778875, 1.5314789170422551, 1.5440680443502757, 1.5563025007672873, 1.568201724066995, 1.5797835966168101, 1.591064607026499, 1.6020599913279625, 1.6127838567197355, 1.6232492903979006, 1.6334684555795866, 1.6434526764861874, 1.6532125137753437, 1.662757831681574, 1.6720978579357175, 1.6812412373755872, 1.6901960800285136, 1.6989700043360187, 1.7075701760979363, 1.7160033436347992, 1.7242758696007892, 1.7323937598229686, 1.7403626894942439, 1.7481880270062005, 1.7558748556724915, 1.7634279935629373, 1.7708520116421442, 1.7781512503836436, 1.7853298350107671, 1.792391689498254, 1.7993405494535817, 1.806179973983887, 1.8129133566428555, 1.8195439355418688, 1.8260748027008264, 1.8325089127062364, 1.8388490907372552, 1.845098040014257, 1.8512583487190752, 1.8573324964312685, 1.863322860120456, 1.8692317197309762, 1.8750612633917, 1.8808135922807914, 1.8864907251724818, 1.8920946026904804, 1.8976270912904414, 1.9030899869919435, 1.9084850188786497, 1.9138138523837167, 1.919078092376074, 1.9242792860618816, 1.9294189257142929, 1.9344984512435677, 1.9395192526186185, 1.9444826721501687, 1.9493900066449128, 1.9542425094393248, 1.9590413923210936, 1.9637878273455553, 1.968482948553935, 1.9731278535996986, 1.9777236052888478, 1.9822712330395684, 1.9867717342662448, 1.9912260756924949, 1.99563519459755, 2.0, 2.0043213737826426, 2.0086001717619175, 2.012837224705172, 2.0170333392987803, 2.0211892990699383, 2.0253058652647704, 2.0293837776852097, 2.03342375548695, 2.037426497940624, 2.041392685158225, 2.0453229787866576, 2.0492180226701815, 2.05307844348342, 2.0569048513364727, 2.060697840353612, 2.0644579892269186, 2.0681858617461617, 2.0718820073061255, 2.075546961392531, 2.0791812460476247, 2.08278537031645, 2.0863598306747484, 2.089905111439398, 2.093421685162235, 2.0969100130080562, 2.100370545117563, 2.103803720955957, 2.1072099696478683, 2.110589710299249, 2.113943352306837, 2.1172712956557644, 2.12057393120585, 2.123851640967086, 2.1271047983648077, 2.130333768495006, 2.1335389083702174, 2.1367205671564067, 2.1398790864012365, 2.143014800254095, 2.146128035678238, 2.1492191126553797, 2.1522883443830563, 2.155336037465062, 2.1583624920952498, 2.161368002234975, 2.164352855784437, 2.167317334748176, 2.1702617153949575, 2.173186268412274, 2.1760912590556813, 2.1789769472931693, 2.1818435879447726, 2.184691430817599, 2.187520720836463, 2.1903316981702914, 2.1931245983544616, 2.1958996524092336, 2.1986570869544226, 2.2013971243204513, 2.204119982655925, 2.2068258760318495, 2.2095150145426308, 2.2121876044039577, 2.214843848047698, 2.2174839442139063, 2.220108088040055, 2.2227164711475833, 2.225309281725863, 2.2278867046136734, 2.230448921378274, 2.2329961103921536, 2.2355284469075487, 2.2380461031287955, 2.2405492482825995, 2.2430380486862944, 2.24551266781415, 2.2479732663618064, 2.250420002308894, 2.2528530309798933, 2.255272505103306, 2.2576785748691846, 2.2600713879850747, 2.2624510897304293, 2.2648178230095364, 2.2671717284030137, 2.2695129442179165, 2.271841606536499, 2.27415784926368, 2.2764618041732443, 2.278753600952829, 2.2810333672477277, 2.2833012287035497, 2.285557309007774, 2.287801729930226, 2.290034611362518, 2.292256071356476, 2.294466226161593, 2.296665190261531, 2.298853076409707, 2.3010299956639813, 2.303196057420489, 2.305351369446624, 2.307496037913213, 2.3096301674258988, 2.311753861055754, 2.3138672203691533, 2.315970345456918, 2.3180633349627615, 2.320146286111054, 2.322219294733919, 2.3242824552976926, 2.3263358609287517, 2.3283796034387376, 2.330413773349191, 2.3324384599156054, 2.3344537511509307, 2.3364597338485296, 2.3384564936046046, 2.3404441148401185, 2.342422680822206, 2.3443922736851106, 2.346352974450639, 2.3483048630481607, 2.3502480183341627, 2.3521825181113627, 2.3541084391474008, 2.3560258571931225, 2.357934847000454, 2.359835482339888, 2.361727836017593, 2.3636119798921444, 2.3654879848909, 2.367355921026019, 2.369215857410143, 2.3710678622717363, 2.3729120029701067, 2.374748346010104, 2.376576957056512, 2.3783979009481375, 2.380211241711606, 2.3820170425748683, 2.383815365980431, 2.385606273598312, 2.3873898263387296, 2.3891660843645326, 2.3909351071033793, 2.392696953259666, 2.3944516808262164, 2.3961993470957363, 2.3979400086720375, 2.399673721481038, 2.401400540781544, 2.403120521175818, 2.404833716619938, 2.406540180433955, 2.4082399653118496, 2.4099331233312946, 2.41161970596323, 2.413299764081252, 2.4149733479708178, 2.416640507338281, 2.4183012913197452, 2.419955748489758, 2.4216039268698313, 2.423245873936808, 2.424881636631067, 2.4265112613645754, 2.428134794028789, 2.429752280002408, 2.4313637641589874, 2.432969290874406, 2.4345689040341987, 2.436162647040756, 2.437750562820388, 2.439332693830263, 2.4409090820652177, 2.4424797690644486, 2.444044795918076, 2.4456042032735974, 2.4471580313422194, 2.44870631990508, 2.450249108319361, 2.45178643552429, 2.4533183400470375, 2.45484486000851, 2.456366033129043, 2.4578818967339924, 2.459392487759231, 2.4608978427565478, 2.462397997898956, 2.4638929889859074, 2.4653828514484184, 2.4668676203541096, 2.4683473304121573, 2.469822015978163, 2.4712917110589387, 2.4727564493172123, 2.4742162640762553, 2.4756711883244296, 2.4771212547196626, 2.478566495593843, 2.4800069429571505, 2.481442628502305, 2.482873583608754, 2.484299839346786, 2.48572142648158, 2.4871383754771865, 2.4885507165004443, 2.4899584794248346, 2.4913616938342726, 2.4927603890268375, 2.494154594018443, 2.4955443375464483, 2.496929648073215, 2.4983105537896004, 2.499687082618404, 2.5010592622177517, 2.5024271199844326, 2.503790683057181, 2.505149978319906, 2.506505032404872, 2.507855871695831, 2.509202522331103, 2.510545010206612, 2.5118833609788744, 2.513217600067939, 2.514547752660286, 2.515873843711679, 2.5171958979499744, 2.5185139398778875, 2.519827993775719, 2.5211380837040362, 2.5224442335063197, 2.5237464668115646, 2.525044807036845, 2.526339277389844, 2.5276299008713385, 2.5289167002776547, 2.530199698203082, 2.531478917042255, 2.5327543789924976, 2.534026106056135, 2.5352941200427703, 2.53655844257153, 2.537819095073274, 2.5390760987927767, 2.5403294747908736, 2.5415792439465807, 2.5428254269591797, 2.5440680443502757, 2.545307116465824, 2.546542663478131, 2.5477747053878224, 2.5490032620257876, 2.550228353055094, 2.5514499979728753, 2.552668216112193, 2.5538830266438746, 2.5550944485783194, 2.5563025007672873, 2.5575072019056577, 2.558708570533166, 2.5599066250361124, 2.561101383649056, 2.5622928644564746, 2.5634810853944106, 2.5646660642520893, 2.5658478186735176, 2.56702636615906, 2.568201724066995, 2.569373909615046, 2.5705429398818973, 2.571708831808688, 2.5728716022004803, 2.574031267727719, 2.575187844927661, 2.576341350205793, 2.577491799837225, 2.578639209968072, 2.57978359661681, 2.5809249756756194, 2.582063362911709, 2.583198773968623, 2.584331224367531, 2.5854607295085006, 2.586587304671755, 2.5877109650189114, 2.5888317255942073, 2.5899496013257077, 2.591064607026499, 2.5921767573958667, 2.593286067020457, 2.5943925503754266, 2.595496221825574, 2.59659709562646, 2.597695185925512, 2.598790506763115, 2.5998830720736876, 2.6009728956867484, 2.6020599913279625, 2.603144372620182, 2.60422605308447, 2.6053050461411096, 2.606381365110605, 2.6074550232146687, 2.6085260335771943, 2.60959440922522, 2.61066016308988, 2.611723308007342, 2.6127838567197355, 2.6138418218760693, 2.6148972160331345, 2.615950051656401, 2.617000341120899, 2.6180480967120925, 2.6190933306267428, 2.6201360549737576, 2.621176281775035, 2.622214022966295, 2.6232492903979003, 2.6242820958356683, 2.625312450961674, 2.6263403673750423, 2.6273658565927325, 2.6283889300503116, 2.629409599102719, 2.630427875025024, 2.6314437690131722, 2.632457292184724, 2.6334684555795866, 2.6344772701607315, 2.635483746814912, 2.6364878963533656, 2.637489729512511, 2.6384892569546374, 2.639486489268586, 2.640481436970422, 2.6414741105040993, 2.6424645202421213, 2.6434526764861874, 2.6444385894678386, 2.645422269349092, 2.6464037262230695, 2.6473829701146196, 2.6483600109809315, 2.649334858712142, 2.6503075231319366, 2.651278013998144, 2.6522463410033232, 2.6532125137753435, 2.6541765418779604, 2.655138434811382, 2.656098202012832, 2.6570558528571038, 2.6580113966571126, 2.6589648426644352, 2.6599162000698504, 2.660865478003869, 2.661812685537261, 2.6627578316815743, 2.663700925389648, 2.6646419755561257, 2.6655809910179533, 2.6665179805548807, 2.667452952889954, 2.66838591669, 2.6693168805661123, 2.670245853074124, 2.6711728427150834, 2.6720978579357175, 2.673020907128896, 2.673941998634088, 2.6748611407378116, 2.6757783416740852, 2.6766936096248664, 2.677606952720493, 2.678518379040114, 2.6794278966121188, 2.680335513414563, 2.681241237375587, 2.682145076373832, 2.6830470382388496, 2.683947130751512, 2.6848453616444123, 2.6857417386022635, 2.6866362692622934, 2.6875289612146345, 2.6884198220027105, 2.6893088591236203, 2.690196080028514, 2.6910814921229687, 2.6919651027673606, 2.69284691927723, 2.693726948923647, 2.694605198933569, 2.6954816764901977, 2.6963563887333324, 2.6972293427597176, 2.6981005456233897, 2.6989700043360187, 2.699837725867246, 2.7007037171450192, 2.7015679850559273, 2.7024305364455254, 2.7032913781186614, 2.7041505168397992, 2.705007959333336, 2.7058637122839193, 2.7067177823367587, 2.7075701760979363, 2.708420900134713, 2.709269960975831, 2.7101173651118162, 2.710963118995276, 2.711807229041191, 2.7126497016272113, 2.7134905430939424, 2.714329759745233, 2.7151673578484576, 2.716003343634799, 2.7168377232995247, 2.717670503002262, 2.718501688867274, 2.7193312869837265, 2.720159303405957, 2.7209857441537393, 2.7218106152125467, 2.722633922533812, 2.7234556720351857, 2.724275869600789, 2.725094521081469, 2.7259116322950483, 2.7267272090265724, 2.727541257028556, 2.7283537820212285, 2.72916478969277, 2.7299742856995555, 2.7307822756663893, 2.7315887651867388, 2.7323937598229686, 2.7331972651065692, 2.733999286538387, 2.734799829588847, 2.73559889969818, 2.7363965022766426, 2.7371926427047373, 2.737987326333431, 2.738780558484369, 2.739572344450092, 2.7403626894942437, 2.741151598851785, 2.741939077729199, 2.7427251313046983, 2.74350976472843, 2.7442929831226763, 2.7450747915820575, 2.745855195173729, 2.7466341989375787, 2.747411807886423, 2.7481880270062002, 2.748962861256161, 2.749736315569061, 2.7505083948513462, 2.751279103983342, 2.7520484478194387, 2.7528164311882715, 2.7535830588929064, 2.754348335711019, 2.7551122663950713, 2.7558748556724915, 2.756636108245848, 2.7573960287930244, 2.75815462196739, 2.7589118923979736, 2.7596678446896306, 2.760422483423212, 2.7611758131557314, 2.761927838420529, 2.762678563727436, 2.7634279935629373, 2.7641761323903307, 2.7649229846498886, 2.765668554759014, 2.7664128471123997, 2.7671558660821804, 2.767897616018091, 2.7686381012476144, 2.7693773260761385, 2.7701152947871015, 2.7708520116421442, 2.7715874808812555, 2.77232170672292, 2.7730546933642626, 2.7737864449811935, 2.7745169657285498, 2.7752462597402365, 2.775974331129369, 2.776701183988411, 2.7774268223893115, 2.7781512503836434, 2.7788744720027396, 2.7795964912578244, 2.780317312140151, 2.7810369386211318, 2.781755374652469, 2.782472624166286, 2.7831886910752575, 2.783903579272735, 2.784617292632875, 2.785329835010767, 2.786041210242554, 2.7867514221455614, 2.787460474518415, 2.788168371141168, 2.788875115775417, 2.7895807121644256, 2.7902851640332416, 2.790988475088816, 2.791690649020118, 2.792391689498254, 2.79309160017658, 2.7937903846908188, 2.7944880466591697, 2.795184589682424, 2.7958800173440754, 2.7965743332104296, 2.7972675408307164, 2.797959643737196, 2.798650645445269, 2.7993405494535817, 2.8000293592441343, 2.800717078282385, 2.801403710017355, 2.8020892578817325, 2.8027737252919755, 2.803457115648414, 2.8041394323353503, 2.8048206787211623, 2.8055008581584002, 2.806179973983887, 2.8068580295188172, 2.807535028068853, 2.808210972924222, 2.808885867359812, 2.8095597146352675, 2.8102325179950842, 2.8109042806687006, 2.8115750058705933, 2.812244696800369, 2.8129133566428557, 2.8135809885681917, 2.81424759573192, 2.814913181275074, 2.815577748324267, 2.816241299991783, 2.8169038393756605, 2.8175653695597807, 2.8182258936139557, 2.8188854145940097, 2.8195439355418688, 2.82020145948564, 2.8208579894397, 2.821513528404773, 2.8221680793680175, 2.8228216453031045, 2.823474229170301, 2.824125833916549, 2.824776462475546, 2.8254261177678233, 2.8260748027008264, 2.826722520168992, 2.8273692730538253, 2.828015064223977, 2.82865989653532, 2.829303772831025, 2.829946695941636, 2.8305886686851442, 2.8312296938670634, 2.8318697742805017, 2.832508912706236, 2.833147111912785, 2.833784374656479, 2.8344207036815323, 2.835056101720116, 2.8356905714924254, 2.8363241157067516, 2.8369567370595505, 2.837588438235511, 2.8382192219076257, 2.838849090737255, 2.8394780473741985, 2.840106094456758, 2.8407332346118066, 2.841359470454855, 2.8419848045901137, 2.842609239610562, 2.8432327780980096, 2.843855422623161, 2.8444771757456815, 2.845098040014257, 2.8457180179666586, 2.846337112129805, 2.846955325019824, 2.847572659142112, 2.848189116991399, 2.8488047010518036, 2.8494194137968996, 2.850033257689769, 2.8506462351830666, 2.8512583487190755, 2.851869600729766, 2.8524799936368566, 2.8530895298518657, 2.8536982117761744, 2.8543060418010806, 2.8549130223078554, 2.8555191556678, 2.8561244442423, 2.8567288903828825, 2.8573324964312685, 2.857935264719429, 2.858537197569639, 2.859138297294531, 2.859738566197147, 2.8603380065709936, 2.8609366207000937, 2.8615344108590377, 2.862131379313037, 2.8627275283179747, 2.863322860120456, 2.8639173769578603, 2.864511081058392, 2.8651039746411278, 2.8656960599160706, 2.8662873390841948, 2.866877814337499, 2.8674674878590514, 2.8680563618230415, 2.8686444383948255, 2.8692317197309762, 2.869818207979328, 2.870403905279027, 2.8709888137605755, 2.8715729355458786, 2.8721562727482928, 2.8727388274726686, 2.873320601815399, 2.8739015978644615, 2.8744818176994666, 2.8750612633917, 2.8756399370041685, 2.876217840591642, 2.8767949762007006, 2.877371345869774, 2.8779469516291885, 2.8785217955012063, 2.8790958795000727, 2.8796692056320534, 2.88024177589548, 2.8808135922807914, 2.8813846567705728, 2.8819549713396007, 2.8825245379548803, 2.8830933585756897, 2.8836614351536176, 2.884228769632604, 2.8847953639489807, 2.885361220031512, 2.885926339801431, 2.886490725172482, 2.8870543780509568, 2.887617300335736, 2.888179493918325, 2.8887409606828927, 2.88930170250631, 2.8898617212581885, 2.890421018800914, 2.890979596989689, 2.8915374576725643, 2.8920946026904804, 2.8926510338773004, 2.893206753059848, 2.8937617620579434, 2.8943160626844384, 2.8948696567452523, 2.895422546039408, 2.8959747323590648, 2.8965262174895554, 2.89707700320942, 2.8976270912904414, 2.8981764834976764, 2.8987251815894934, 2.8992731873176036, 2.8998205024270964, 2.9003671286564705, 2.900913067737669, 2.9014583213961123, 2.9020028913507296, 2.902546779313991, 2.9030899869919438, 2.9036325160842376, 2.9041743682841634, 2.904715545278681, 2.905256048748451, 2.9057958803678687, 2.906335041805091, 2.90687353472207, 2.907411360774586, 2.9079485216122722, 2.9084850188786495, 2.909020854211156, 2.909556029241175, 2.910090545594068, 2.910624404889201, 2.9111576087399764, 2.9116901587538613, 2.9122220565324155, 2.912753303671323, 2.9132839017604186, 2.9138138523837167, 2.9143431571194407, 2.9148718175400505, 2.91539983521227, 2.9159272116971158, 2.916453948549925, 2.916980047320382, 2.9175055095525466, 2.9180303367848803, 2.9185545305502734, 2.9190780923760737, 2.919601023784111, 2.920123326290724, 2.9206450014067875, 2.921166050637739, 2.921686475483602, 2.9222062774390163, 2.92272545799326, 2.9232440186302764, 2.9237619608287004, 2.9242792860618816, 2.924795995797912, 2.9253120914996495, 2.9258275746247424, 2.926342446625655, 2.926856708949692, 2.9273703630390235, 2.9278834103307068, 2.9283958522567137, 2.928907690243953, 2.929418925714293, 2.929929560084588, 2.9304395947667, 2.930949031167523, 2.931457870689005, 2.931966114728173, 2.932473764677153, 2.932980821923198, 2.9334872878487053, 2.9339931638312424, 2.934498451243568, 2.935003151453655, 2.9355072658247128, 2.9360107957152097, 2.936513742478893, 2.9370161074648142, 2.937517892017347, 2.9380190974762104, 2.938519725176492, 2.9390197764486663, 2.9395192526186187, 2.9400181550076634, 2.940516484932567, 2.9410142437055695, 2.941511432634403, 2.942008053022313, 2.9425041061680806, 2.9429995933660407, 2.9434945159061026, 2.9439888750737717, 2.9444826721501687, 2.944975908412048, 2.94546858513182, 2.9459607035775686, 2.946452265013073, 2.9469432706978256, 2.9474337218870508, 2.9479236198317262, 2.948412965778601, 2.9489017609702137, 2.949390006644913, 2.949877704036875, 2.950364854376123, 2.9508514588885464, 2.951337518795918, 2.951823035315912, 2.9523080096621253, 2.952792443044092, 2.9532763366673045, 2.9537596917332287, 2.9542425094393248, 2.954724790979063, 2.9552065375419416, 2.9556877503135057, 2.9561684304753633, 2.9566485792052033, 2.957128197676813, 2.957607287060095, 2.958085848521085, 2.9585638832219674, 2.9590413923210934, 2.9595183769729982, 2.959994838328416, 2.960470777534299, 2.9609461957338317, 2.9614210940664485, 2.9618954736678504, 2.962369335670021, 2.9628426812012423, 2.9633155113861114, 2.963787827345555, 2.964259630196849, 2.9647309210536292, 2.965201701025912, 2.9656719712201065, 2.9661417327390325, 2.9666109866819346, 2.967079734144497, 2.967547976218862, 2.968015713993642, 2.9684829485539352, 2.9689496809813427, 2.9694159123539814, 2.9698816437465, 2.9703468762300935, 2.9708116108725178, 2.971275848738105, 2.971739590887778, 2.9722028383790646, 2.972665592266111, 2.9731278535996988, 2.973589623427257, 2.9740509027928774, 2.9745116927373285, 2.974971994298069, 2.975431808509263, 2.975891136401793, 2.9763499790032735, 2.976808337338066, 2.977266212427293, 2.9777236052888476, 2.978180516937414, 2.9786369483844743, 2.979092900638326, 2.979548374704095, 2.9800033715837464, 2.9804578922761, 2.9809119377768436, 2.9813655090785445, 2.9818186071706636, 2.9822712330395684, 2.9827233876685453, 2.983175072037813, 2.9836262871245345, 2.984077033902831, 2.9845273133437926, 2.9849771264154934, 2.9854264740830017, 2.9858753573083936, 2.9863237770507656, 2.9867717342662448, 2.9872192299080047, 2.9876662649262746, 2.988112840268352, 2.9885589568786157, 2.989004615698537, 2.9894498176666917, 2.989894563718773, 2.9903388547876015, 2.9907826918031377, 2.991226075692495, 2.9916690073799486, 2.99211148778695, 2.9925535178321354, 2.9929950984313414, 2.9934362304976116, 2.9938769149412114, 2.9943171526696366, 2.9947569445876283, 2.9951962915971793, 2.9956351945975497, 2.9960736544852753, 2.9965116721541785, 2.996949248495381, 2.997386384397313, 2.9978230807457256, 2.998259338423699, 2.998695158311656, 2.999130541287371, 2.9995654882259823, 3.0, 3.000434077479319, 3.000867721531227, 3.001300933020418, 3.0017337128090005, 3.002166061756508, 3.0025979807199086, 3.003029470553618, 3.0034605321095067, 3.0038911662369108, 3.0043213737826426, 3.004751155591001, 3.0051805125037805, 3.0056094453602804, 3.0060379549973173, 3.0064660422492318, 3.0068937079479006, 3.0073209529227447, 3.00774777800074, 3.0081741840064264, 3.0086001717619175, 3.0090257420869104, 3.009450895798694, 3.00987563371216, 3.010299956639812, 3.010723865391773, 3.0111473607757975, 3.0115704435972783, 3.011993114659257, 3.012415374762433, 3.012837224705172, 3.0132586652835167, 3.0136796972911926, 3.0141003215196207, 3.0145205387579237, 3.0149403497929366, 3.0153597554092144, 3.015778756389041, 3.016197353512439, 3.016615547557177, 3.0170333392987803, 3.017450729510536, 3.0178677189635055, 3.018284308426531, 3.0187004986662433, 3.019116290447073, 3.0195316845312554, 3.0199466816788423, 3.0203612826477078, 3.020775488193558, 3.0211892990699383, 3.021602716028242, 3.02201573981772, 3.0224283711854865, 3.022840610876528, 3.0232524596337114, 3.0236639181977933, 3.024074987307426, 3.024485667699167, 3.024895960107485, 3.0253058652647704, 3.025715383901341, 3.0261245167454502, 3.0265332645232967, 3.0269416279590295, 3.0273496077747564, 3.0277572046905536, 3.0281644194244697, 3.0285712526925375, 3.028977705208778, 3.0293837776852097, 3.029789470831856, 3.030194785356751, 3.030599721965951, 3.0310042813635367, 3.031408464251624, 3.0318122713303706, 3.0322157032979815, 3.03261876085072, 3.0330214446829107, 3.03342375548695, 3.03382569395331, 3.0342272607705505, 3.0346284566253203, 3.0350292822023683, 3.0354297381845483, 3.035829825252828, 3.0362295440862948, 3.036628895362161, 3.037027879755775, 3.037426497940624, 3.037824750588342, 3.0382226383687185, 3.038620161949703, 3.039017321997412, 3.0394141191761372, 3.0398105541483504, 3.0402066275747113, 3.040602340114073, 3.0409976924234905, 3.041392685158225, 3.041787318971752, 3.042181594515766, 3.0425755124401905, 3.0429690733931802, 3.0433622780211294, 3.0437551269686796, 3.044147620878723, 3.044539760392411, 3.04493154614916, 3.0453229787866576, 3.0457140589408676, 3.0461047872460387, 3.0464951643347082, 3.04688519083771, 3.0472748673841794, 3.04766419460156, 3.048053173115609, 3.0484418035504044, 3.04883008652835, 3.0492180226701815, 3.049605612594973, 3.0499928569201424, 3.050379756261458, 3.0507663112330423, 3.0511525224473814, 3.0515383905153275, 3.0519239160461065, 3.0523090996473234, 3.052693941924968, 3.05307844348342, 3.053462604925455, 3.0538464268522527, 3.0542299098633974, 3.0546130545568877, 3.0549958615291417, 3.055378331375, 3.0557604646877348, 3.056142262059052, 3.0565237240791006, 3.0569048513364727, 3.0572856444182146, 3.0576661039098294, 3.0580462303952816, 3.058426024457005, 3.0588054866759067, 3.059184617631371, 3.0595634179012676, 3.059941888061955, 3.060320028688285, 3.060697840353612, 3.0610753236297916, 3.061452479087193, 3.061829307294699, 3.0622058088197126, 3.062581984228163, 3.0629578340845103, 3.0633333589517497, 3.0637085593914173, 3.064083435963596, 3.0644579892269186, 3.064832219738574, 3.065206128054312, 3.0655797147284485, 3.06595298031387, 3.0663259253620376, 3.0666985504229953, 3.0670708560453703, 3.0674428427763805, 3.0678145111618402, 3.0681858617461617, 3.068556895072363, 3.0689276116820716, 3.0692980121155293, 3.0696680969115957, 3.070037866607755, 3.0704073217401198, 3.0707764628434346, 3.0711452904510828, 3.071513805095089, 3.0718820073061255, 3.072249897613515, 3.0726174765452368, 3.0729847446279304, 3.073351702386901, 3.0737183503461227, 3.074084689028244, 3.074450718954591, 3.074816440645175, 3.0751818546186915, 3.0755469613925306, 3.0759117614827773, 3.076276255404218, 3.076640443670342, 3.0770043267933502, 3.0773679052841567, 3.077731179652392, 3.0780941504064105, 3.0784568180532927, 3.0788191830988487, 3.0791812460476247, 3.079543007402906, 3.079904467666721, 3.0802656273398448, 3.0806264869218056, 3.080987046910887, 3.0813473078041325, 3.081707270097349, 3.082066934285113, 3.0824263008607717, 3.0827853703164503, 3.0831441431430524, 3.0835026198302673, 3.083860800866573, 3.0842186867392387, 3.084576277934331, 3.084933574936716, 3.085290578230065, 3.0856472882968564, 3.0860037056183818, 3.0863598306747484, 3.0867156639448825, 3.0870712059065353, 3.0874264570362855, 3.087781417809542, 3.0881360887005513, 3.0884904701823963, 3.0888445627270045, 3.089198366805149, 3.089551882886454, 3.089905111439398, 3.090258052931316, 3.090610707828407, 3.0909630765957314, 3.091315159697223, 3.0916669575956846, 3.092018470752797, 3.0923696996291206, 3.0927206446840994, 3.0930713063760633, 3.093421685162235, 3.09377178149873, 3.0941215958405612, 3.094471128641645, 3.0948203803548, 3.095169351431755, 3.095518042323151, 3.0958664534785427, 3.0962145853464054, 3.0965624383741357, 3.0969100130080562, 3.09725730969342, 3.097604328874411, 3.09795107099415, 3.0982975364946976, 3.098643725817057, 3.0989896394011773, 3.0993352776859577, 3.0996806411092503, 3.1000257301078626, 3.100370545117563, 3.1007150865730817, 3.1010593549081156, 3.101403350555331, 3.1017470739463664, 3.1020905255118367, 3.1024337056813365, 3.1027766148834415, 3.1031192535457137, 3.103461622094705, 3.103803720955957, 3.104145550554008, 3.104487111312395, 3.1048284036536553, 3.1051694279993316, 3.1055101847699738, 3.1058506743851435, 3.1061908972634154, 3.1065308538223815, 3.106870544478654, 3.1072099696478683, 3.1075491297446862, 3.1078880251827985, 3.1082266563749283, 3.1085650237328344, 3.1089031276673134, 3.109240968588203, 3.1095785469043866, 3.1099158630237933, 3.110252917353403, 3.110589710299249, 3.1109262422664203, 3.1112625136590655, 3.111598524880394, 3.1119342763326814, 3.1122697684172707, 3.1126050015345745, 3.11293997608408, 3.1132746924643504, 3.1136091510730277, 3.113943352306837, 3.1142772965615864, 3.114610984232173, 3.1149444157125847, 3.1152775913959014, 3.1156105116742996, 3.115943176939055, 3.116275587580544, 3.1166077439882485, 3.116939646550756, 3.1172712956557644, 3.117602691690084, 3.1179338350396413, 3.118264726089479, 3.118595365223762, 3.1189257528257768, 3.1192558892779365, 3.119585774961784, 3.119915410257991, 3.1202447955463652, 3.12057393120585, 3.1209028176145273, 3.1212314551496214, 3.1215598441875008, 3.121887985103681, 3.1222158782728267, 3.1225435240687545, 3.1228709228644354, 3.1231980750319988, 3.123524980942732, 3.123851640967086, 3.124178055474675, 3.1245042248342823, 3.1248301494138593, 3.12515582958053, 3.125481265700594, 3.125806458139527, 3.1261314072619846, 3.1264561134318045, 3.126780577012009, 3.1271047983648077, 3.127428777851599, 3.1277525158329733, 3.1280760126687155, 3.1283992687178066, 3.128722284338427, 3.1290450598879582, 3.129367595722986, 3.129689892199301, 3.1300119496719043, 3.130333768495006, 3.130655349022031, 3.130976691605617, 3.131297796597623, 3.1316186643491255, 3.1319392952104246, 3.1322596895310446, 3.132579847659737, 3.132899769944483, 3.1332194567324945, 3.1335389083702174, 3.133858125203335, 3.1341771075767664, 3.1344958558346736, 3.13481437032046, 3.1351326513767748, 3.1354506993455136, 3.1357685145678222, 3.1360860973840974, 3.13640344813399, 3.1367205671564067, 3.1370374547895126, 3.137354111370733, 3.137670537236755, 3.137986732723532, 3.1383026981662816, 3.1386184338994925, 3.1389339402569236, 3.139249217571607, 3.13956426617585, 3.1398790864012365, 3.1401936785786315, 3.1405080430381798, 3.1408221801093106, 3.141136090120739, 3.1414497734004674, 3.141763230275788, 3.1420764610732848, 3.142389466118836, 3.1427022457376155, 3.143014800254095, 3.143327129992046, 3.1436392352745433, 3.1439511164239633, 3.144262773761991, 3.144574207609616, 3.144885418287142, 3.1451964061141817, 3.1455071714096627, 3.1458177144918276, 3.146128035678238, 3.1464381352857744, 3.14674801363064, 3.1470576710283598, 3.1473671077937864, 3.1476763242410986, 3.147985320683805, 3.1482940974347455, 3.1486026548060932, 3.1489109931093564, 3.1492191126553797, 3.149527013754348, 3.149834696715785, 3.1501421618485588, 3.1504494094608804, 3.150756439860309, 3.15106325335375, 3.1513698502474603, 3.151676230847048, 3.151982395457474, 3.1522883443830567, 3.15259407792747, 3.1528995963937474, 3.153204900084284, 3.1535099893008374, 3.153814864344529, 3.154119525515847, 3.154423973114647, 3.1547282074401557, 3.1550322287909704, 3.155336037465062, 3.1556396337597765, 3.1559430179718366, 3.1562461903973444, 3.1565491513317814, 3.156851901070011, 3.1571544399062814, 3.157456768134226, 3.1577588860468637, 3.158060793936605, 3.1583624920952498, 3.1586639808139894, 3.15896526038341, 3.159266331093494, 3.1595671932336202, 3.1598678470925665, 3.160168292958512, 3.1604685311190375, 3.1607685618611283, 3.1610683854711747, 3.161368002234975, 3.161667412437736, 3.161966616364075, 3.1622656142980214, 3.162564406523019, 3.162862993321926, 3.1631613749770184, 3.16345955176999, 3.163757523981956, 3.1640552918934515, 3.164352855784437, 3.1646502159342966, 3.1649473726218416, 3.1652443261253107, 3.165541076722373, 3.1658376246901283, 3.166133970305109, 3.166430113843283, 3.166726055580052, 3.1670217957902564, 3.167317334748176, 3.16761267272753, 3.16790781000148, 3.168202746842631, 3.1684974835230326, 3.1687920203141817, 3.1690863574870227, 3.1693804953119495, 3.1696744340588068, 3.1699681739968923, 3.1702617153949575, 3.1705550585212086, 3.170848203643309, 3.1711411510283822, 3.171433900943008, 3.171726453653231, 3.1720188094245563, 3.172310968521954, 3.17260293120986, 3.1728946977521764, 3.173186268412274, 3.1734776434529945, 3.17376882313665, 3.1740598077250253, 3.17435059747938, 3.1746411926604483, 3.1749315935284423, 3.1752218003430523, 3.175511813363448, 3.1758016328482794, 3.1760912590556813, 3.1763806922432702, 3.17666993266815, 3.176958980586908, 3.1772478362556233, 3.1775364999298623, 3.177824971864682, 3.178113252314632, 3.178401341533755, 3.17868923977559, 3.1789769472931693, 3.1792644643390253, 3.1795517911651876, 3.179838928023187, 3.180125875164054, 3.180412632838324, 3.1806992012960347, 3.1809855807867304, 3.1812717715594614, 3.1815577738627865, 3.1818435879447726, 3.182129214052998, 3.182414652434554, 3.182699903336043, 3.1829849670035815, 3.1832698436828046, 3.1835545336188615, 3.1838390370564214, 3.184123354239671, 3.1844074854123203, 3.184691430817599, 3.184975190698261, 3.1852587652965854, 3.185542154854375, 3.185825359612962, 3.1861083798132053, 3.186391215695493, 3.1866738674997452, 3.1869563354654122, 3.187238619831479, 3.187520720836463, 3.1878026387184195, 3.188084373714938, 3.188365926063148, 3.188647295999717, 3.1889284837608534, 3.189209489582306, 3.1894903136993675, 3.189770956346874, 3.190051417759206, 3.1903316981702914, 3.190611797813605, 3.1908917169221698, 3.1911714557285586, 3.1914510144648953, 3.1917303933628562, 3.1920095926536702, 3.1922886125681202, 3.1925674533365456, 3.192846115188842, 3.1931245983544616, 3.1934029030624176, 3.1936810295412816, 3.193958978019187, 3.1942367487238292, 3.194514341882467, 3.1947917577219247, 3.1950689964685903, 3.1953460583484197, 3.1956229435869368, 3.1958996524092336, 3.1961761850399735, 3.196452541703389, 3.196728722623287, 3.1970047280230456, 3.197280558125619, 3.1975562131535367, 3.197831693328903, 3.1981069988734014, 3.1983821300082944, 3.1986570869544226, 3.198931869932209, 3.1992064791616577, 3.199480914862356, 3.1997551772534747, 3.2000292665537704, 3.200303182981585, 3.2005769267548483, 3.2008504980910777, 3.2011238972073794, 3.2013971243204513, 3.2016701796465816, 3.20194306340165, 3.2022157758011316, 3.2024883170600935, 3.2027606873931997, 3.2030328870147105, 3.203304916138483, 3.2035767749779724, 3.2038484637462346, 3.204119982655925, 3.2043913319193, 3.204662511748219, 3.204933522354145, 3.2052043639481447, 3.205475036740891, 3.205745540942662, 3.2060158767633444, 3.2062860444124324, 3.2065560440990297, 3.2068258760318495, 3.207095540419218, 3.2073650374690716, 3.2076343673889616, 3.2079035303860515, 3.2081725266671217, 3.208441356438567, 3.208710019906401, 3.2089785172762535, 3.2092468487533736, 3.2095150145426308, 3.209783014848515, 3.2100508498751372, 3.210318519826232, 3.2105860249051563, 3.210853365314893, 3.2111205412580492, 3.2113875529368587, 3.2116544005531824, 3.2119210843085093, 3.2121876044039577, 3.212453961040276, 3.2127201544178425, 3.212986184736668, 3.2132520521963968, 3.2135177569963047, 3.2137832993353044, 3.2140486794119414, 3.2143138974243994, 3.214578953570499, 3.214843848047698, 3.215108581053093, 3.215373152783422, 3.215637563435062, 3.215901813204032, 3.216165902285993, 3.216429830876251, 3.2166935991697545, 3.216957207361097, 3.217220655644519, 3.2174839442139063, 3.2177470732627937, 3.218010042984363, 3.2182728535714475, 3.218535505216528, 3.2187979981117376, 3.219060332448861, 3.219322508419337, 3.2195845262142546, 3.2198463860243605, 3.220108088040055, 3.2203696324513946, 3.220631019448092, 3.2208922492195193, 3.2211533219547053, 3.2214142378423385, 3.2216749970707688, 3.2219355998280053, 3.22219604630172, 3.2224563366792465, 3.2227164711475833, 3.2229764498933915, 3.2232362731029975, 3.2234959409623944, 3.2237554536572413, 3.224014811372864, 3.2242740142942576, 3.2245330626060857, 3.2247919564926812, 3.225050696138049, 3.225309281725863, 3.225567713439471, 3.2258259914618934, 3.226084115975824, 3.226342087163631, 3.2265999052073573, 3.2268575702887237, 3.2271150825891253, 3.2273724422896364, 3.227629649571009, 3.2278867046136734, 3.2281436075977417, 3.228400358703005, 3.2286569581089353, 3.228913405994688, 3.229169702539101, 3.229425847920695, 3.229681842317676, 3.229937685907934, 3.230193378869046, 3.230448921378274, 3.230704313612569, 3.230959555748569, 3.231214647962601, 3.2314695904306814, 3.2317243833285163, 3.231979026831504, 3.2322335211147335, 3.232487866352986, 3.232742062720737, 3.2329961103921536, 3.2332500095411003, 3.2335037603411343, 3.2337573629655103, 3.2340108175871793, 3.2342641243787895, 3.2345172835126865, 3.2347702951609163, 3.2350231594952237, 3.2352758766870524, 3.2355284469075487, 3.2357808703275603, 3.236033147117636, 3.2362852774480286, 3.236537261488694, 3.236789099409293, 3.237040791379191, 3.237292337567459, 3.2375437381428744, 3.2377949932739227, 3.2380461031287955, 3.238297067875394, 3.238547887681328, 3.238798562713917, 3.2390490931401916, 3.2392994791268928, 3.239549720840473, 3.2397998184470986, 3.2400497721126476, 3.2402995820027125, 3.2405492482825995, 3.240798771117331, 3.241048150671644, 3.2412973871099933, 3.2415464805965484, 3.241795431295199, 3.2420442393695508, 3.2422929049829308, 3.2425414282983844, 3.2427898094786767, 3.2430380486862944, 3.243286146083446, 3.243534101832062, 3.243781916093795, 3.2440295890300215, 3.244277120801843, 3.244524511570084, 3.244771761495295, 3.245018870737753, 3.245265839457461, 3.24551266781415, 3.245759355967277, 3.246005904076029, 3.246252312299322, 3.246498580795801, 3.2467447097238415, 3.24699069924155, 3.247236549506764, 3.2474822606770544, 3.2477278329097232, 3.247973266361807, 3.248218561190075, 3.248463717551032, 3.2487087356009177, 3.2489536154957075, 3.249198357391113, 3.249442961442582, 3.2496874278053016, 3.249931756634195, 3.250175948083925, 3.250420002308894, 3.2506639194632436, 3.250907699700856, 3.2511513431753545, 3.2513948500401044, 3.251638220448212, 3.2518814545525276, 3.252124552505644, 3.2523675144598987, 3.252610340567373, 3.2528530309798933, 3.2530955858490316, 3.2533380053261065, 3.253580289562183, 3.2538224387080734, 3.254064452914338, 3.2543063323312857, 3.2545480771089736, 3.25478968739721, 3.2550311633455515, 3.255272505103306, 3.2555137128195333, 3.255754786643044, 3.255995726722402, 3.256236533205923, 3.256477206241677, 3.256717745977487, 3.256958152560932, 3.2571984261393445, 3.257438566859814, 3.2576785748691846, 3.2579184503140586, 3.2581581933407944, 3.258397804095509, 3.2586372827240764, 3.258876629372131, 3.2591158441850663, 3.2593549273080344, 3.2595938788859486, 3.2598326990634834, 3.2600713879850747, 3.26030994579492, 3.2605483726369795, 3.2607866686549762, 3.2610248339923973, 3.2612628687924934, 3.2615007731982804, 3.2617385473525378, 3.2619761913978125, 3.262213705476417, 3.2624510897304293, 3.2626883443016963, 3.2629254693318317, 3.2631624649622166, 3.263399331334002, 3.263636068588108, 3.2638726768652235, 3.2641091563058082, 3.2643455070500926, 3.2645817292380777, 3.2648178230095364, 3.2650537885040145, 3.26528962586083, 3.2655253352190736, 3.2657609167176105, 3.265996370495079, 3.266231696689893, 3.2664668954402414, 3.2667019668840878, 3.2669369111591733, 3.2671717284030137, 3.267406418752904, 3.2676409823459154, 3.2678754193188975, 3.2681097298084785, 3.268343913951065, 3.268577971882843, 3.2688119037397803, 3.269045709657623, 3.2692793897718984, 3.269512944217916, 3.2697463731307668, 3.269979676645324, 3.2702128548962426, 3.2704459080179626, 3.2706788361447066, 3.270911639410481, 3.2711443179490782, 3.2713768718940743, 3.271609301378832, 3.271841606536499, 3.27207378750001, 3.2723058444020863, 3.2725377773752373, 3.2727695865517594, 3.2730012720637376, 3.2732328340430454, 3.273464272621346, 3.273695587930092, 3.2739267801005254, 3.2741578492636796, 3.274388795550379, 3.274619619091238, 3.2748503200166645, 3.2750808984568587, 3.2753113545418118, 3.2755416884013098, 3.2757719001649312, 3.27600198996205, 3.2762319579218335, 3.2764618041732443, 3.27669152884504, 3.276921132065774, 3.277150613963797, 3.2773799746672547, 3.277609214304091, 3.2778383330020473, 3.2780673308886623, 3.278296208091274, 3.2785249647370174, 3.278753600952829, 3.278982116865443, 3.279210512601395, 3.2794387882870204, 3.2796669440484556, 3.279894980011638, 3.2801228963023075, 3.280350693046006, 3.2805783703680764, 3.280805928393667, 3.2810333672477277, 3.281260687055013, 3.2814878879400813, 3.281714970027296, 3.281941933440825, 3.2821687783046416, 3.2823955047425257, 3.2826221128780624, 3.282848602834645, 3.2830749747354715, 3.2833012287035497, 3.2835273648616936, 3.2837533833325265, 3.28397928423848, 3.284205067701794, 3.2844307338445193, 3.2846562827885157, 3.284881714655453, 3.285107029566812, 3.2853322276438846, 3.285557309007774, 3.285782273779395, 3.2860071220794747, 3.286231854028553, 3.286456469746983, 3.28668096935493, 3.286905352972375, 3.287129620719111, 3.2873537727147464, 3.287577809078705, 3.287801729930226, 3.2880255353883627, 3.288249225571986, 3.2884728005997825, 3.288696260590256, 3.2889196056617265, 3.289142835932333, 3.2893659515200318, 3.2895889525425965, 3.2898118391176214, 3.290034611362518, 3.2902572693945182, 3.290479813330673, 3.2907022432878543, 3.2909245593827543, 3.2911467617318855, 3.291368850451583, 3.2915908256580013, 3.291812687467119, 3.2920344359947364, 3.292256071356476, 3.292477593667784, 3.29269900304393, 3.292920299600006, 3.2931414834509307, 3.2933625547114453, 3.2935835134961167, 3.2938043599193367, 3.2940250940953226, 3.2942457161381182, 3.294466226161593, 3.2946866242794433, 3.2949069106051923, 3.295127085252191, 3.295347148333618, 3.295567099962479, 3.295786940251609, 3.2960066693136723, 3.2962262872611605, 3.296445794206396, 3.296665190261531, 3.296884475538547, 3.2971036501492565, 3.2973227142053028, 3.2975416678181597, 3.297760511099134, 3.2979792441593623, 3.298197867109815, 3.2984163800612945, 3.2986347831244354, 3.2988530764097064, 3.2990712600274095, 3.29928933408768, 3.2995072987004876, 3.2997251539756367, 3.299942900022767, 3.3001605369513523, 3.3003780648707024, 3.3005954838899636, 3.3008127941181167, 3.3010299956639813, 3.3012470886362113, 3.3014640731432996, 3.3016809492935764, 3.301897717195208, 3.302114376956201, 3.302330928684399, 3.3025473724874854, 3.3027637084729817, 3.3029799367482493, 3.3031960574204886, 3.303412070596742, 3.30362797638389, 3.3038437748886547, 3.3040594662175993, 3.3042750504771283, 3.3044905277734875, 3.3047058982127653, 3.3049211619008916, 3.305136318943639, 3.305351369446624, 3.305566313515304, 3.3057811512549824, 3.3059958827708047, 3.3062105081677613, 3.3064250275506875, 3.3066394410242617, 3.3068537486930087, 3.307067950661298, 3.307282047033346, 3.307496037913213, 3.307709923404807, 3.3079237036118814, 3.3081373786380386, 3.3083509485867255, 3.3085644135612386, 3.3087777736647213, 3.3089910290001643, 3.3092041796704077, 3.30941722577814, 3.3096301674258988, 3.3098430047160705, 3.3100557377508912, 3.3102683666324477, 3.3104808914626753, 3.3106933123433606, 3.3109056293761414, 3.3111178426625054, 3.3113299523037933, 3.311541958401195, 3.311753861055754, 3.3119656603683665, 3.3121773564397787, 3.312388949370592, 3.3126004392612596, 3.312811826212088, 3.313023110323238, 3.313234291694724, 3.313445370426414, 3.3136563466180315, 3.3138672203691533, 3.3140779917792127, 3.3142886609474975, 3.3144992279731516, 3.314709692955174, 3.31492005599242, 3.315130317183602, 3.3153404766272883, 3.315550534421905, 3.3157604906657347, 3.315970345456918, 3.3161800988934527, 3.3163897510731952, 3.3165993020938607, 3.316808752053022, 3.3170181010481117, 3.31722734917642, 3.317436496535099, 3.3176455432211585, 3.317854489331469, 3.3180633349627615, 3.318272080211627, 3.3184807251745174, 3.318689269947746, 3.3188977146274867, 3.3191060593097763, 3.319314304090512, 3.3195224490654542, 3.3197304943302246, 3.3199384399803087, 3.3201462861110542, 3.3203540328176717, 3.3205616801952367, 3.3207692283386865, 3.3209766773428235, 3.3211840273023143, 3.321391278311689, 3.3215984304653436, 3.3218054838575393, 3.3220124385824006, 3.322219294733919, 3.3224260524059526, 3.3226327116922234, 3.322839272686321, 3.3230457354817013, 3.323252100171687, 3.3234583668494677, 3.3236645356081, 3.323870606540509, 3.3240765797394864, 3.3242824552976926, 3.3244882333076564, 3.3246939138617746, 3.3248994970523134, 3.3251049829714074, 3.325310371711061, 3.325515663363148, 3.325720858019412, 3.325925955771466, 3.3261309567107946, 3.326335860928751, 3.3265406685165617, 3.3267453795653217, 3.326949994165999, 3.3271545124094315, 3.3273589343863303, 3.327563260187278, 3.327767489902729, 3.3279716236230104, 3.3281756614383227, 3.3283796034387376, 3.328583449714202, 3.3287872003545345, 3.3289908554494287, 3.329194415088451, 3.329397879361043, 3.3296012483565187, 3.3298045221640695, 3.330007700872759, 3.330210784571528, 3.330413773349191, 3.3306166672944384, 3.330819466495837, 3.3310221710418286, 3.3312247810207323, 3.331427296520743, 3.3316297176299323, 3.331832044436249, 3.332034277027518, 3.3322364154914434, 3.3324384599156054, 3.3326404103874627, 3.3328422669943514, 3.3330440298234874, 3.3332456989619628, 3.3334472744967503, 3.3336487565147013, 3.333850145102545, 3.334051440346892, 3.334252642334231, 3.3344537511509307, 3.3346547668832414, 3.3348556896172914, 3.3350565194390915, 3.3352572564345317, 3.3354579006893843, 3.3356584522893016, 3.335858911319818, 3.336059277866349, 3.336259552014193, 3.3364597338485296, 3.3366598234544202, 3.336859820916809, 3.3370597263205246, 3.3372595397502756, 3.337459261290656, 3.3376588910261424, 3.3378584290410944, 3.3380578754197563, 3.3382572302462554, 3.3384564936046046, 3.3386556655787003, 3.338854746252323, 3.339053735709139, 3.3392526340327, 3.3394514413064407, 3.339650157613684, 3.339848783037637, 3.340047317661393, 3.3402457615679317, 3.3404441148401185, 3.3406423775607053, 3.3408405498123317, 3.341038631677523, 3.3412366232386925, 3.34143452457814, 3.3416323357780544, 3.3418300569205104, 3.3420276880874717, 3.3422252293607904, 3.342422680822206, 3.342620042553348, 3.342817314635733, 3.343014497150768, 3.3432115901797474, 3.3434085938038574, 3.343605508104172, 3.343802333161655, 3.3439990690571615, 3.344195715871435, 3.3443922736851106, 3.344588742578714, 3.344785122632661, 3.344981413927258, 3.345177616542704, 3.3453737305590883, 3.345569756056392, 3.345765693114488, 3.3459615418131414, 3.346157302232008, 3.346352974450639, 3.346548558548474, 3.346744054604849, 3.3469394626989906, 3.34713478291002, 3.3473300153169503, 3.3475251599986895, 3.347720217034038, 3.3479151865016914, 3.3481100684802376, 3.3483048630481607, 3.348499570283838, 3.348694190265541, 3.348888723071438, 3.34908316877959, 3.3492775274679554, 3.3494717992143856, 3.34966598409663, 3.3498600821923312, 3.3500540935790304, 3.3502480183341627, 3.350441856535061, 3.3506356082589543, 3.350829273582968, 3.3510228525841237, 3.351216345339342, 3.351409751925439, 3.351603072419129, 3.3517963068970236, 3.351989455435632, 3.3521825181113627, 3.35237549500052, 3.3525683861793087, 3.3527611917238307, 3.3529539117100877, 3.3531465462139796, 3.3533390953113047, 3.353531559077762, 3.353723937588949, 3.353916230920363, 3.3541084391474008, 3.35430056234536, 3.3544926005894364, 3.3546845539547285, 3.354876422516234, 3.3550682063488506, 3.3552599055273786, 3.3554515201265174, 3.355643050220869, 3.355834495884936, 3.3560258571931225, 3.3562171342197353, 3.3564083270389813, 3.356599435724971, 3.356790460351716, 3.3569814009931314, 3.3571722577230334, 3.3573630306151427, 3.3575537197430814, 3.3577443251803754, 3.357934847000454, 3.3581252852766488, 3.358315640082196, 3.3585059114902354, 3.3586960995738107, 3.358886204405869, 3.359076226059263, 3.3592661646067485, 3.3594560201209864, 3.359645792674543, 3.359835482339888, 3.3600250891893975, 3.3602146132953523, 3.3604040547299387, 3.360593413565249, 3.36078268987328, 3.3609718837259357, 3.361160995195026, 3.3613500243522663, 3.361538971269279, 3.361727836017593, 3.3619166186686433, 3.362105319293773, 3.362293937964231, 3.3624824747511743, 3.362670929725667, 3.36285930295868, 3.3630475945210936, 3.363235804483694, 3.3634239329171765, 3.3636119798921444, 3.3637999454791094, 3.3639878297484915, 3.3641756327706194, 3.3643633546157306, 3.364550995353972, 3.3647385550553985, 3.364926033789976, 3.3651134316275773, 3.3653007486379876, 3.3654879848909, 3.3656751404559175, 3.3658622154025553, 3.3660492098002353, 3.366236123718293, 3.3664229572259727, 3.3666097103924297, 3.36679638328673, 3.3669829759778507, 3.367169488534681, 3.367355921026019, 3.3675422735205767, 3.3677285460869766, 3.3679147387937527, 3.3681008517093516, 3.368286884902131, 3.3684728384403617, 3.368658712392227, 3.3688445068258215, 3.3690302218091532, 3.369215857410143, 3.3694014136966244, 3.369586890736344, 3.369772288596963, 3.369957607346053, 3.370142847051102, 3.3703280077795106, 3.3705130895985924, 3.370698092575577, 3.370883016777606, 3.3710678622717363, 3.3712526291249394, 3.371437317404101, 3.3716219271760215, 3.371806458507416, 3.371990911464915, 3.372175286115064, 3.3723595825243238, 3.3725438007590705, 3.3727279408855955, 3.3729120029701067, 3.373095987078727, 3.373279893277496, 3.373463721632369, 3.3736474722092176, 3.3738311450738303, 3.3740147402919116, 3.374198257929083, 3.374381698050882, 3.374565060722765, 3.374748346010104, 3.3749315539781883, 3.375114684692225, 3.375297738217339, 3.3754807146185724, 3.3756636139608855, 3.375846436309156, 3.3760291817281805, 3.376211850282673, 3.3763944420372662, 3.376576957056512, 3.37675939540488, 3.3769417571467586, 3.377124042346456, 3.377306251068199, 3.3774883833761327, 3.377670439334323, 3.3778524190067545, 3.3780343224573315, 3.378216149749878, 3.3783979009481375, 3.378579576115775, 3.3787611753163733, 3.378942698613437, 3.379124146070392, 3.379305517750582, 3.379486813717274, 3.379668034033654, 3.37984917876283, 3.380030247967831, 3.380211241711606, 3.3803921600570273, 3.3805730030668872, 3.3807537708039, 3.3809344633307017, 3.3811150807098507, 3.381295623003826, 3.38147609027503, 3.381656482585787, 3.3818367999983434, 3.3820170425748683, 3.382197210377454, 3.3823773034681137, 3.3825573219087857, 3.3827372657613304, 3.382917135087531, 3.3830969299490943, 3.3832766504076504, 3.383456296524753, 3.3836358683618797, 3.383815365980431, 3.383994789441733, 3.384174138807033, 3.384353414137506, 3.3845326154942486, 3.3847117429382823, 3.3848907965305544, 3.385069776331935, 3.38524868240322, 3.3854275148051305, 3.385606273598312, 3.3857849588433355, 3.385963570600697, 3.3861421089308186, 3.386320573894046, 3.386498965550653, 3.3866772839608377, 3.386855529184724, 3.387033701282363, 3.3872118003137306, 3.3873898263387296, 3.387567779417189, 3.3877456596088638, 3.3879234669734366, 3.3881012015705165, 3.388278863459639, 3.3884564527002667, 3.388633969351789, 3.3888114134735234, 3.388988785124714, 3.3891660843645326, 3.389343311252078, 3.3895204658463776, 3.3896975482063856, 3.3898745583909853, 3.3900514964589874, 3.3902283624691303, 3.390405156480081, 3.390581878550435, 3.390758528738717, 3.3909351071033793, 3.3911116137028023, 3.3912880485952974, 3.3914644118391033, 3.3916407034923877, 3.391816923613249, 3.3919930722597127, 3.392169149489736, 3.392345155361204, 3.3925210899319325, 3.392696953259666, 3.3928727454020793, 3.3930484664167784, 3.3932241163612975, 3.393399695293102, 3.3935752032695876, 3.39375064034808, 3.393926006585837, 3.3941013020400446, 3.3942765267678214, 3.3944516808262164, 3.394626764272209, 3.3948017771627113, 3.394976719554564, 3.3951515915045425, 3.395326393069351, 3.395501124305626, 3.395675785269936, 3.3958503760187813, 3.3960248966085933, 3.3961993470957363, 3.3963737275365067, 3.396548037987132, 3.3967222785037734, 3.396896449142524, 3.397070549959409, 3.397244581010386, 3.397418542351348, 3.3975924340381165, 3.39776625612645, 3.3979400086720375, 3.3981136917305026, 3.398287305357401, 3.3984608496082234, 3.398634324538392, 3.3988077302032647, 3.398981066658131, 3.3991543339582164, 3.399327532158679, 3.3995006613146104, 3.399673721481038, 3.3998467127129226, 3.4000196350651586, 3.400192488592576, 3.400365273349939, 3.400537989391946, 3.400710636773231, 3.4008832155483626, 3.401055725771844, 3.401228167498113, 3.401400540781544, 3.401572845676446, 3.401745082237063, 3.4019172505175748, 3.402089350572097, 3.40226138245468, 3.402433346219312, 3.4026052419199146, 3.402777069610347, 3.4029488293444046, 3.403120521175818, 3.4032921451582543, 3.4034637013453173, 3.403635189790548, 3.4038066105474227, 3.403977963669355, 3.404149249209695, 3.404320467221731, 3.404491617758686, 3.4046627008737222, 3.404833716619938, 3.4050046650503694, 3.4051755462179893, 3.405346360175709, 3.4055171069763763, 3.4056877866727775, 3.4058583993176366, 3.406028944963615, 3.406199423663313, 3.4063698354692673, 3.406540180433955, 3.40671045860979, 3.4068806700491248, 3.40705081480425, 3.4072208929273966, 3.4073909044707316, 3.4075608494863627, 3.4077307280263356, 3.407900540142635, 3.4080702858871854, 3.4082399653118496, 3.40840957846843, 3.4085791254086675, 3.408748606184244, 3.4089180208467798, 3.409087369447835, 3.4092566520389096, 3.4094258686714434, 3.4095950193968156, 3.4097641042663462, 3.4099331233312946, 3.4101020766428607, 3.4102709642521845, 3.4104397862103464, 3.410608542568368, 3.41077723337721, 3.4109458586877746, 3.4111144185509046, 3.4112829130173843, 3.4114513421379375, 3.41161970596323, 3.411788004543869, 3.4119562379304016, 3.412124406173317, 3.4122925093230463, 3.412460547429961, 3.4126285205443754, 3.4127964287165433, 3.4129642719966626, 3.413132050434872, 3.413299764081252, 3.413467412985825, 3.413634997198556, 3.4138025167693513, 3.4139699717480614, 3.414137362184477, 3.4143046881283317, 3.4144719496293026, 3.414639146737009, 3.4148062795010126, 3.4149733479708178, 3.4151403521958725, 3.4153072922255676, 3.4154741681092355, 3.4156409798961542, 3.4158077276355434, 3.415974411376566, 3.416141031168329, 3.4163075870598827, 3.4164740791002206, 3.416640507338281, 3.4168068718229443, 3.4169731726030363, 3.4171394097273255, 3.4173055832445254, 3.417471693203293, 3.4176377396522297, 3.417803722639881, 3.417969642214737, 3.418135498425232, 3.4183012913197452, 3.4184670209466006, 3.4186326873540653, 3.4187982905903533, 3.4189638307036225, 3.4191293077419758, 3.4192947217534604, 3.4194600727860704, 3.419625360887743, 3.419790586106363, 3.419955748489758, 3.420120848085703, 3.4202858849419178, 3.4204508591060683, 3.420615770625765, 3.4207806195485655, 3.420945405921972, 3.4211101297934343, 3.4212747912103465, 3.4214393902200495, 3.4216039268698313, 3.421768401206924, 3.4219328132785085, 3.4220971631317103, 3.4222614508136027, 3.4224256763712044, 3.422589839851482, 3.422753941301348, 3.422917980767662, 3.423081958297231, 3.423245873936808, 3.4234097277330933, 3.4235735197327357, 3.423737249982329, 3.4239009185284166, 3.4240645254174877, 3.42422807069598, 3.4243915544102776, 3.4245549766067134, 3.424718337331567, 3.424881636631067, 3.425044874551389, 3.4252080511386565, 3.425371166438941, 3.4255342204982635, 3.425697213362591, 3.4258601450778405, 3.4260230156898763, 3.426185825244511, 3.4263485737875077, 3.4265112613645754, 3.426673888021373, 3.426836453803508, 3.426998958756537, 3.4271614029259654, 3.427323786357247, 3.4274861090957853, 3.4276483711869328, 3.42781057267599, 3.427972713608209, 3.428134794028789, 3.4282968139828798, 3.42845877351558, 3.428620672671939, 3.4287825114969546, 3.428944290035574, 3.4291060083326967, 3.4292676664331685, 3.4294292643817874, 3.4295908022233017, 3.429752280002408, 3.4299136977637543, 3.430075055551939, 3.4302363534115106, 3.4303975913869666, 3.4305587695227575, 3.4307198878632823, 3.4308809464528913, 3.4310419453358856, 3.431202884556517, 3.4313637641589874, 3.431524584187451, 3.4316853446860116, 3.4318460456987254, 3.4320066872695985, 3.4321672694425884, 3.4323277922616042, 3.4324882557705063, 3.4326486600131068, 3.4328090050331683, 3.432969290874406, 3.4331295175804857, 3.433289685195026, 3.433449793761596, 3.433609843323718, 3.433769833924866, 3.433929765608464, 3.4340896384178907, 3.4342494523964753, 3.4344092075875, 3.4345689040341987, 3.4347285417797577, 3.434888120867316, 3.4350476413399647, 3.4352071032407476, 3.4353665066126613, 3.435525851498655, 3.43568513794163, 3.4358443659844413, 3.4360035356698964, 3.436162647040756, 3.4363217001397333, 3.436480695009495, 3.436639631692661, 3.4367985102318035, 3.4369573306694496, 3.4371160930480786, 3.4372747974101237, 3.437433443797971, 3.4375920322539613, 3.437750562820388, 3.4379090355394983, 3.438067450453494, 3.4382258076045296, 3.438384107034714, 3.4385423487861106, 3.4387005329007363, 3.438858659420562, 3.4390167283875126, 3.4391747398434687, 3.439332693830263, 3.4394905903896835, 3.4396484295634737, 3.4398062113933303, 3.439963935920905, 3.4401216031878037, 3.440279213235588, 3.4404367661057735, 3.440594261839831, 3.4407517004791854, 3.4409090820652177, 3.4410664066392633, 3.4412236742426123, 3.4413808849165113, 3.441538038702161, 3.441695135640717, 3.441852175773292, 3.442009159140952, 3.44216608578472, 3.4423229557455746, 3.4424797690644486, 3.442636525782232, 3.442793225939769, 3.4429498695778618, 3.443106456737266, 3.443262987458695, 3.4434194617828173, 3.4435758797502576, 3.4437322414015967, 3.443888546777372, 3.444044795918076, 3.4442009888641594, 3.4443571256560275, 3.444513206334043, 3.4446692309385245, 3.4448251995097476, 3.4449811120879446, 3.445136968713304, 3.4452927694259716, 3.44544851426605, 3.4456042032735974, 3.445759836488631, 3.4459154139511234, 3.446070935701005, 3.446226401778163, 3.446381812222442, 3.446537167073644, 3.4466924663715273, 3.446847710155809, 3.4470028984661623, 3.4471580313422194, 3.4473131088235682, 3.4474681309497557, 3.447623097760286, 3.447778009294621, 3.4479328655921804, 3.448087666692341, 3.448242412634439, 3.4483971034577676, 3.4485517392015783, 3.44870631990508, 3.4488608456074408, 3.4490153163477864, 3.449169732165201, 3.449324093098727, 3.449478399187365, 3.4496326504700745, 3.4497868469857735, 3.4499409887733377, 3.4500950758716025, 3.450249108319361, 3.450403086155366, 3.450557009418329, 3.4507108781469196, 3.450864692379766, 3.4510184521554574, 3.4511721575125396, 3.4513258084895195, 3.4514794051248616, 3.4516329474569907, 3.45178643552429, 3.451939869365103, 3.4520932490177314, 3.452246574520437, 3.4523998459114416, 3.452553063228925, 3.452706226511029, 3.452859335795852, 3.4530123911214554, 3.4531653925258574, 3.4533183400470375, 3.4534712337229356, 3.4536240735914507, 3.4537768596904423, 3.4539295920577286, 3.45408227073109, 3.4542348957482654, 3.454387467146955, 3.4545399849648186, 3.454692449239477, 3.45484486000851, 3.45499721730946, 3.4551495211798278, 3.4553017716570764, 3.4554539687786283, 3.455606112581867, 3.455758203104137, 3.455910240382743, 3.4560622244549513, 3.456214155357989, 3.456366033129043, 3.4565178578052627, 3.4566696294237573, 3.456821348021599, 3.456973013635818, 3.4571246263034086, 3.4572761860613257, 3.4574276929464847, 3.4575791469957626, 3.4577305482459986, 3.4578818967339924, 3.458033192496506, 3.4581844355702627, 3.4583356259919475, 3.4584867637982066, 3.4586378490256493, 3.458788881710845, 3.458939861890326, 3.4590907896005865, 3.459241664878082, 3.459392487759231, 3.459543258280413, 3.4596939764779706, 3.459844642388208, 3.4599952560473914, 3.46014581749175, 3.4602963267574753, 3.4604467838807205, 3.4605971888976015, 3.460747541844197, 3.4608978427565478, 3.4610480916706576, 3.461198288622493, 3.461348433647983, 3.4614985267830187, 3.4616485680634552, 3.461798557525109, 3.461948495203762, 3.4620983811351556, 3.4622482153549976, 3.462397997898956, 3.4625477288026643, 3.4626974081017172, 3.4628470358316736, 3.462996612028056, 3.4631461367263494, 3.4632956099620027, 3.4634450317704277, 3.463594402187, 3.463743721247059, 3.4638929889859074, 3.464042205438811, 3.4641913706409997, 3.4643404846276673, 3.4644895474339714, 3.464638559095033, 3.4647875196459372, 3.4649364291217326, 3.4650852875574327, 3.4652340949880145, 3.4653828514484184, 3.46553155697355, 3.465680211598278, 3.4658288153574364, 3.465977368285823, 3.466125870418199, 3.466274321789292, 3.466422722433792, 3.4665710723863543, 3.4667193716815987, 3.4668676203541096, 3.4670158184384356, 3.4671639659690903, 3.467312062980552, 3.4674601095072637, 3.467608105583633, 3.467756051244033, 3.4679039465228003, 3.4680517914542377, 3.4681995860726125, 3.4683473304121573, 3.468495024507069, 3.4686426683915115, 3.4687902620996107, 3.4689378056654614, 3.4690852991231202, 3.469232742506612, 3.469380135849925, 3.469527479187014, 3.469674772551798, 3.469822015978163, 3.4699692094999595, 3.470116353151004, 3.4702634469650784, 3.470410490975931, 3.4705574852172743, 3.470704429722788, 3.4708513245261177, 3.4709981696608736, 3.471144965160633, 3.4712917110589387, 3.471438407389299, 3.47158505418519, 3.471731651480051, 3.4718781993072905, 3.4720246977002813, 3.472171146692363, 3.472317546316842, 3.4724638966069894, 3.472610197596045, 3.4727564493172123, 3.472902651803664, 3.4730488050885375, 3.473194909204938, 3.4733409641859354, 3.4734869700645685, 3.473632926873841, 3.473778834646725, 3.473924693416157, 3.4740705032150436, 3.4742162640762553, 3.4743619760326307, 3.474507639116976, 3.474653253362063, 3.474798818800631, 3.4749443354653877, 3.4750898033890065, 3.475235222604128, 3.475380593143361, 3.4755259150392805, 3.4756711883244296, 3.475816413031318, 3.4759615891924236, 3.4761067168401913, 3.4762517960070336, 3.4763968267253302, 3.4765418090274287, 3.476686742945645, 3.4768316285122607, 3.476976465759527, 3.4771212547196626, 3.477265995424853, 3.4774106879072515, 3.477555332198981, 3.4776999283321306, 3.4778444763387584, 3.4779889762508893, 3.4781334281005174, 3.4782778319196046, 3.4784221877400805, 3.4785664955938436, 3.4787107555127594, 3.478854967528663, 3.478999131673357, 3.479143247978613, 3.47928731647617, 3.4794313371977363, 3.4795753101749884, 3.479719235439571, 3.479863113023098, 3.4800069429571505, 3.4801507252732806, 3.4802944600030066, 3.480438147177817, 3.480581786829169, 3.4807253789884878, 3.4808689236871677, 3.481012420956573, 3.4811558708280352, 3.481299273332856, 3.481442628502305, 3.4815859363676225, 3.481729196960016, 3.4818724103106633, 3.4820155764507117, 3.482158695411276, 3.4823017672234426, 3.4824447919182653, 3.4825877695267677, 3.482730700079943, 3.482873583608754, 3.483016420144132, 3.4831592097169795, 3.483301952358167, 3.4834446480985353, 3.4835872969688944, 3.4837298990000236, 3.4838724542226736, 3.4840149626675627, 3.484157424365381, 3.484299839346786, 3.484442207642407, 3.484584529282843, 3.4847268042986617, 3.484869032720402, 3.485011214578573, 3.485153349903652, 3.485295438726089, 3.485437481076301, 3.485579476984679, 3.48572142648158, 3.4858633295973345, 3.486005186362242, 3.4861469968065726, 3.486288760960566, 3.486430478854434, 3.4865721505183562, 3.4867137759824853, 3.4868553552769432, 3.4869968884318228, 3.4871383754771865, 3.4872798164430687, 3.4874212113594742, 3.4875625602563782, 3.4877038631637265, 3.4878451201114355, 3.4879863311293935, 3.4881274962474587, 3.48826861549546, 3.488409688903198, 3.4885507165004443, 3.4886916983169405, 3.4888326343824003, 3.488973524726508, 3.4891143693789193, 3.4892551683692603, 3.4893959217271293, 3.4895366294820955, 3.4896772916636984, 3.4898179083014504, 3.4899584794248346, 3.490099005063305, 3.4902394852462875, 3.490379920003179, 3.490520309363349, 3.490660653356137, 3.490800952010855, 3.490941205356787, 3.491081413423187, 3.491221576239283, 3.4913616938342726, 3.4915017662373264, 3.4916417934775863, 3.491781775584166, 3.491921712586151, 3.492061604512599, 3.49220145139254, 3.4923412532549745, 3.4924810101288766, 3.492620722043192, 3.4927603890268375, 3.4929000111087034, 3.4930395883176515, 3.493179120682515, 3.4933186082321015, 3.4934580509951885, 3.493597449000527, 3.49373680227684, 3.4938761108528227, 3.4940153747571436, 3.494154594018443, 3.4942937686653326, 3.494432898726399, 3.4945719842301988, 3.494711025205263, 3.494850021680094, 3.494988973683168, 3.4951278812429334, 3.4952667443878105, 3.495405563146193, 3.4955443375464483, 3.4956830676169153, 3.495821753385906, 3.4959603948817053, 3.496098992132571, 3.496237545166735, 3.496376054012401, 3.496514518697745, 3.496652939250918, 3.4967913157000425, 3.496929648073215, 3.497067936398505, 3.4972061807039547, 3.49734438101758, 3.4974825373673704, 3.497620649781288, 3.497758718287268, 3.49789674291322, 3.498034723687027, 3.498172660636544, 3.4983105537896004, 3.4984484031739997, 3.4985862088175175, 3.4987239707479048, 3.498861688992884, 3.498999363580153, 3.4991369945373827, 3.4992745818922173, 3.499412125672275, 3.499549625905149, 3.499687082618404, 3.49982449583958, 3.49996186559619, 3.500099191915723, 3.500236474825639, 3.500373714353374, 3.5005109105263372, 3.500648063371912, 3.500785172917456, 3.5009222391903005, 3.5010592622177517, 3.501196242027089, 3.501333178645566, 3.501470072100412, 3.5016069224188295, 3.5017437296279943, 3.5018804937550585, 3.5020172148271476, 3.5021538928713607, 3.5022905279147727, 3.5024271199844326, 3.502563669107363, 3.502700175310563, 3.502836638621003, 3.5029730590656314, 3.503109436671369, 3.503245771465113, 3.5033820634737327, 3.5035183127240748, 3.5036545192429593, 3.503790683057181, 3.5039268041935103, 3.5040628826786917, 3.504198918539445, 3.5043349118024643, 3.504470862494419, 3.5046067706419537, 3.504742636271688, 3.504878459410216, 3.505014240084107, 3.505149978319906, 3.5052856741441323, 3.505421327583281, 3.5055569386638217, 3.5056925074122, 3.5058280338548364, 3.505963518018126, 3.5060989599284405, 3.506234359612126, 3.506369717095504, 3.506505032404872, 3.5066403055665023, 3.5067755366066433, 3.506910725551518, 3.5070458724273257, 3.5071809772602407, 3.5073160400764136, 3.50745106090197, 3.5075860397630105, 3.5077209766856137, 3.507855871695831, 3.5079907248196913, 3.5081255360831993, 3.5082603055123345, 3.508395033133053, 3.5085297189712867, 3.508664363052943, 3.508798965403905, 3.5089335260500327, 3.5090680450171616, 3.509202522331103, 3.509336958017644, 3.5094713521025485, 3.5096057046115563, 3.509740015570382, 3.5098742850047193, 3.5100085129402347]}], {}, {\"showLink\": true, \"linkText\": \"Export to plot.ly\"})});</script>"
      ],
      "text/plain": [
       "<IPython.core.display.HTML object>"
      ]
     },
     "metadata": {},
     "output_type": "display_data"
    }
   ],
   "source": [
    "import numpy as np\n",
    "\n",
    "iplot([{\"x\": [np.log10(i) for i, x in enumerate(normal_freq)], \n",
    "        \"y\": [np.log10(x) for x in normal_freq]}])"
   ]
  },
  {
   "cell_type": "markdown",
   "metadata": {
    "slideshow": {
     "slide_type": "slide"
    }
   },
   "source": [
    "## Advanced Pre-processing"
   ]
  },
  {
   "cell_type": "markdown",
   "metadata": {
    "slideshow": {
     "slide_type": "subslide"
    }
   },
   "source": [
    "### Fixing Tokens\n",
    "\n",
    "- Sadly, regex will only get us so far :("
   ]
  },
  {
   "cell_type": "code",
   "execution_count": 17,
   "metadata": {
    "collapsed": false,
    "scrolled": true
   },
   "outputs": [
    {
     "data": {
      "text/plain": [
       "'game developer rebekah saltsman could never get near a console when her brothers were around  then the snes arrivedrebekah saltsmanfriday 2 september 2016 10.57bstlast modified on friday 2 september 2016 15.25bsti dont remember a time we didnt have video games in the house.i grew up in gregory michigan a small town in the middle of nowhere a town that literally borders hell. thats hell michigan. i wish i was kidding. my dad was a second shift supervisor at a general motors plant in detroit. he always wanted to have the latest expensive things we owned an early home pc and hed bring home these floppy discs filled with games  they would trade them around at his office. my mom worked as a secretary and later a substitute teacher and a city postal carrier  she learned how to program at college. she made sure we all had access to the computer even though my sister and i were super little and there were six of us fighting to use it.we owned an atari when i was a toddler and a nintendo entertainment system by the time i was six. i had four older brothers  the eldest a decade older than me  so i didnt get to touch the consoles much. but that all changed when we got a super nintendo entertainment system in 1992.we were given it for christmas right before my 11th birthday. by that time my two oldest brothers had moved out and then the third brother got a summer job. this left me in the position of second player to my youngest brother. the snes was purchased for him of all the girls i was friends with in late elementary and early middle school none of them had a console in the house unless they also had a brother but this time by default it was for me too.i was at the right age for it. born in 1981 i fell through the cracks of the big generational distinctions. i am not gen x i am not a millennial. i am the goonies and sixteen candles and the breakfast club and the gremlins and back to the future. i grew up with a rotary phone a vcr the very first cd player the first dvd player. my introduction to the internet was in a physical science class in 1994 trying to send an email to a university about some chemistry term. this was the era of telnet and dial-up. it was the tipping point into the digital age.the snes sat right in that weird middle ground between the past and the future. it couldnt easily handle 3d graphics like later consoles but the pixel art worlds envisaged at the time contained the same sprawling stories and immersive experiences that modern games are built around.wed never before had so much control over a story as we did in on that console with its grand role-playing adventures. wed played simple arcade games on the atari but they were generally too hard for younger kids the games on the nes were nearly impossible for us too. but by the time the snes came along we were old enough and confident enough to go all in  and we could experience them with our friends. the games finally had proper save functions too allowing us to store progress without having to write down a special code which was how it worked with the nes and it wasnt easy for a kid who could barely write.so in the summer of 1993 my brother sister and i saved up every cent of our raspberry-picking money to buy secret of mana the new role-playing game from squaresoft creator of the legendary final fantasy series. it was like 60 which was a fortune for a bunch of kids at the time. i remember opening the package after setting up the snes on the big tv in the family room which was usually forbidden by my parents. we studied the game manual together and then we started our epic journey. my brother played as the mana sword hero and i played as purim a young girl determined to rescue her boyfriend dyluck from a witch and gnome a powerful earth spirit. we spent every second we could playing that game. we played it until we beat it and then we started again. it was the first time we had ever been sucked into a world that took us far away from our own. if wed had access to the early online fan fiction community where people wrote and shared their own stories based around games movies and tv shows or if there had been something like pottermore for secret of mana  we would have spent the rest of our waking hours interacting there. we had never seen anything like this game we cared about the characters they were real people to us and we needed to bring stability and peace to their sad world.it feels weird to describe this simple pixelated landscape in the same way someone would describe a hyper realistic endlessly exploratory game environment from today. but in 1993 this place where i fought monsters in real time with my brother where we got to save a world while flying on a dragon  it was like i was really there and my actions mattered. when dyluck was taken by the witch when the town of pandora was struck mute even when i had to save santa  which is really a thing in the game  everything mattered.what was going on culturally and historically in the years before this the berlin wall came down. the first gulf war had just ended. i grew up with nuclear bomb drills the red scare the end of the cold war. my parents lived through the recession in the 1980s  and then here was the very first real digital escapism for children where they were in control of a world that needed saving. secret of mana and the games like it were products of the culture we lived in. they were a mirror to the joy and terror we experienced as we grew older. there are parallels to the types of media kids are gravitating toward today  video games fill a need for us all. with their elaborate stories multi-gendered characters astonishing musical scores and countless hours of gameplay the super nintendo role-playing games certainly reflected a need in me. i was a 12-year-old girl from the midwest feeling but not understanding the effects of the auto industry collapsing in detroit the economic uncertainty of my parents and friends parents the shrinking of the world through satellite tv and globalisation. yet with secret of mana i had this one place where i was in control.even now many years later i feel all of these things when i turn on that game. i am transported back to the summer of 1993 when i got to know my brother and sister so well. the world feels just as real even though i am looking at it through adult eyes  eyes that have witnessed the first school shootings the homegrown terrorist attacks in oklahoma city the bombings and destruction of the world trade center the wars that claimed the lives of kids i grew up with the illness and death of friends and family.my brother sister and i still play secret of mana together when we are all in one place. it is much harder now that we are parents ourselves living at opposite ends of the country. our current playthrough has taken years instead of a few hours  10 years to be exact. but we will complete it. and that story  about a child who must save the world with nothing but his sword and his friends  still speaks to the kid inside of me.rebekah saltsman is cofounder of indie studio finji. she is currently working on overland and night in the woods.'"
      ]
     },
     "execution_count": 17,
     "metadata": {},
     "output_type": "execute_result"
    }
   ],
   "source": [
    "import re\n",
    "\n",
    "cleaned_article = re.sub('[^A-Za-z0-9\\.\\- ]', '', article_text).lower()\n",
    "cleaned_article"
   ]
  },
  {
   "cell_type": "markdown",
   "metadata": {
    "slideshow": {
     "slide_type": "subslide"
    }
   },
   "source": [
    "### Social Tokens\n",
    "\n",
    "- Information is task and platform dependent.\n",
    "\n",
    "`Would've sent you this i/ private but as I obv can't I ask you to block me 2 as I think that wld be better 4 a few of us!!Grtz!`\n",
    "\n",
    "`duly noted, thanks for yr follow-up. Nice concept, hope U will grow :-) Grtz from .be`\n",
    "\n",
    "`Ok srsly tho, @....., a dialogue in cataplexy, 1:44, wtffffffff`\n",
    "\n",
    "- Usually fixed by complex algorithms; cast in a translation task.\n",
    "- Character overlap / edit (levenshtein) distance can help."
   ]
  },
  {
   "cell_type": "code",
   "execution_count": 18,
   "metadata": {
    "collapsed": true,
    "slideshow": {
     "slide_type": "skip"
    }
   },
   "outputs": [],
   "source": [
    "def levenshtein(s1, s2):\n",
    "    if len(s1) < len(s2):\n",
    "        return levenshtein(s2, s1)\n",
    "\n",
    "    # len(s1) >= len(s2)\n",
    "    if len(s2) == 0:\n",
    "        return len(s1)\n",
    "\n",
    "    previous_row = range(len(s2) + 1)\n",
    "    for i, c1 in enumerate(s1):\n",
    "        current_row = [i + 1]\n",
    "        for j, c2 in enumerate(s2):\n",
    "            insertions = previous_row[j + 1] + 1 # j+1 instead of j since previous_row and current_row are one character longer\n",
    "            deletions = current_row[j] + 1       # than s2\n",
    "            substitutions = previous_row[j] + (c1 != c2)\n",
    "            current_row.append(min(insertions, deletions, substitutions))\n",
    "        previous_row = current_row\n",
    "    \n",
    "    return previous_row[-1]"
   ]
  },
  {
   "cell_type": "markdown",
   "metadata": {
    "slideshow": {
     "slide_type": "subslide"
    }
   },
   "source": [
    "### Edit Distance\n",
    "\n",
    "![img2](http://www.ideserve.co.in/learn/img/editDistance_0.gif)"
   ]
  },
  {
   "cell_type": "code",
   "execution_count": 19,
   "metadata": {
    "collapsed": false
   },
   "outputs": [
    {
     "data": {
      "text/plain": [
       "{'seriosities': 8,\n",
       " 'seriosity': 5,\n",
       " 'serioso': 5,\n",
       " 'serious': 5,\n",
       " 'seriously': 4,\n",
       " 'seriousness': 8,\n",
       " 'seriplane': 6,\n",
       " 'seripositor': 8,\n",
       " 'serjeancy': 6,\n",
       " 'serjeant': 6}"
      ]
     },
     "execution_count": 19,
     "metadata": {},
     "output_type": "execute_result"
    }
   ],
   "source": [
    "word_list = ['seriosities', 'seriosity', 'serioso',\n",
    "'serious', 'seriously', 'seriousness', 'seriplane',\n",
    "'seripositor', 'serjeancy', 'serjeant']\n",
    "{word: levenshtein(word, 'srsly') for word in word_list}"
   ]
  },
  {
   "cell_type": "markdown",
   "metadata": {
    "slideshow": {
     "slide_type": "subslide"
    }
   },
   "source": [
    "### Lemmatization\n",
    "\n",
    "Reducing inflections or variant forms to their base form.\n",
    "\n",
    "- am, are, is -> be\n",
    "- car, cars, car's, cars' -> car\n",
    "- Need dictionary knowledge about these headwords.\n",
    "\n",
    "Preferred over stemming (which follows very simple ru\n",
    "\n",
    "`i grew up in gregori michigan a small town in the middl of nowher a town that liter border hell that hell michigan i wish i wa kid my dad wa a second shift supervisor at a gener motor plant in detroit he alwai want to have the latest expens thing we own an earli home pc and hed bring home these floppi disc fill with game thei would trade them around at hi offic`"
   ]
  },
  {
   "cell_type": "markdown",
   "metadata": {
    "slideshow": {
     "slide_type": "subslide"
    }
   },
   "source": [
    "### Lemmatization II"
   ]
  },
  {
   "cell_type": "code",
   "execution_count": 20,
   "metadata": {
    "collapsed": false,
    "scrolled": true
   },
   "outputs": [
    {
     "ename": "ImportError",
     "evalue": "No module named 'spacy'",
     "output_type": "error",
     "traceback": [
      "\u001b[0;31m---------------------------------------------------------------------------\u001b[0m",
      "\u001b[0;31mImportError\u001b[0m                               Traceback (most recent call last)",
      "\u001b[0;32m<ipython-input-20-db7a8663c992>\u001b[0m in \u001b[0;36m<module>\u001b[0;34m()\u001b[0m\n\u001b[0;32m----> 1\u001b[0;31m \u001b[0;32mimport\u001b[0m \u001b[0mspacy\u001b[0m\u001b[0;34m\u001b[0m\u001b[0m\n\u001b[0m\u001b[1;32m      2\u001b[0m \u001b[0mnlp\u001b[0m \u001b[0;34m=\u001b[0m \u001b[0mspacy\u001b[0m\u001b[0;34m.\u001b[0m\u001b[0mload\u001b[0m\u001b[0;34m(\u001b[0m\u001b[0;34m'en'\u001b[0m\u001b[0;34m)\u001b[0m\u001b[0;34m\u001b[0m\u001b[0m\n\u001b[1;32m      3\u001b[0m \u001b[0;34m\u001b[0m\u001b[0m\n\u001b[1;32m      4\u001b[0m \u001b[0;34m' | '\u001b[0m\u001b[0;34m.\u001b[0m\u001b[0mjoin\u001b[0m\u001b[0;34m(\u001b[0m\u001b[0;34m[\u001b[0m\u001b[0mtoken\u001b[0m\u001b[0;34m.\u001b[0m\u001b[0mlemma_\u001b[0m \u001b[0;32mfor\u001b[0m \u001b[0mtoken\u001b[0m \u001b[0;32min\u001b[0m \u001b[0mnlp\u001b[0m\u001b[0;34m(\u001b[0m\u001b[0marticle_text\u001b[0m\u001b[0;34m)\u001b[0m\u001b[0;34m]\u001b[0m\u001b[0;34m)\u001b[0m\u001b[0;34m\u001b[0m\u001b[0m\n",
      "\u001b[0;31mImportError\u001b[0m: No module named 'spacy'"
     ]
    }
   ],
   "source": [
    "import spacy\n",
    "nlp = spacy.load('en')\n",
    "\n",
    "' | '.join([token.lemma_ for token in nlp(article_text)])"
   ]
  },
  {
   "cell_type": "markdown",
   "metadata": {
    "slideshow": {
     "slide_type": "subslide"
    }
   },
   "source": [
    "### POS Tagging"
   ]
  },
  {
   "cell_type": "code",
   "execution_count": null,
   "metadata": {
    "collapsed": false,
    "scrolled": true
   },
   "outputs": [],
   "source": [
    "{token.text: token.pos_ for token in nlp(article_text)}"
   ]
  },
  {
   "cell_type": "markdown",
   "metadata": {},
   "source": [
    "https://displacy.spacy.io -> `I grew up in Gregory, Michigan, a small town in the middle of nowhere; a town that literally borders Hell.`"
   ]
  }
 ],
 "metadata": {
  "celltoolbar": "Slideshow",
  "kernelspec": {
   "display_name": "Python 3",
   "language": "python",
   "name": "python3"
  },
  "language_info": {
   "codemirror_mode": {
    "name": "ipython",
    "version": 3
   },
   "file_extension": ".py",
   "mimetype": "text/x-python",
   "name": "python",
   "nbconvert_exporter": "python",
   "pygments_lexer": "ipython3",
   "version": "3.5.2"
  }
 },
 "nbformat": 4,
 "nbformat_minor": 0
}
