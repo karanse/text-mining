{
 "cells": [
  {
   "cell_type": "markdown",
   "metadata": {},
   "source": [
    "# Pre-processing Excersises\n",
    "\n",
    "**Note**: this week there are no tasks, nothing will be graded. You are free to ask questions regarding these excersises though! What we will do is try to apply some of the code shown in the lectures to kind of get things rolling. As I probably mention in the lecture, it's not important for you to understand all the code shown in detail. This will probably make more sense at the end of your Data Processing lectures. For the time being, try to kind of understand what each function is doing, and more importantly, make sure you understand what each component in the pre-processing pipeline does on a higher level. **Knowing what you are looking at is more important than understanding the code.**\n",
    "\n",
    "## Retrieving HTML\n",
    "\n",
    "We will be using [this](http://www.imdb.com/title/tt0088763/synopsis?ref_=tt_ql_stry_3) page. In the sheet examples, I could conveniently extract all text because they were neatly put around `<p>...</p>` tags. Sadly, this is not the case for the page we are looking at today. Beautifulsoup (the library that makes HTML searchable), can search for more complex patterns though. What you will see a lot is for example `<div class=\"something\">...</div>`. If you want all `div`s, that as class have `something`, the syntax for that is as follows: `soup.find_all('div', {'class': 'something'})`. \n",
    "\n",
    "> Q: How do I get Beautifulsoup?\n",
    "\n",
    "> A: If you're using your own Anaconda install, it should already be in there. On JupyterHub it is NOT installed. Please check with someone who has the library installed if you still want to make this excersise and don't want to install Anaconda.\n",
    "\n",
    "\n",
    "Now try to get the synopsis text for the page using the code below:"
   ]
  },
  {
   "cell_type": "code",
   "execution_count": null,
   "metadata": {
    "collapsed": false,
    "scrolled": true
   },
   "outputs": [],
   "source": [
    "import urllib3\n",
    "from bs4 import BeautifulSoup as bs\n",
    "\n",
    "def url_to_data(url):\n",
    "    \"\"\"Extracts html for a given url.\"\"\"\n",
    "    http = urllib3.PoolManager()\n",
    "    html = http.request('GET', url).data.decode('utf-8')\n",
    "    return html\n",
    "\n",
    "url = '...'  # add\n",
    "soup = bs(url_to_data(url), \"lxml\")\n",
    "results = soup.find_all('div', {})  # add\n",
    "text = [x.text for x in results][0]\n",
    "text"
   ]
  },
  {
   "cell_type": "code",
   "execution_count": 1,
   "metadata": {
    "collapsed": true
   },
   "outputs": [],
   "source": [
    "# you can mess with `text` here"
   ]
  },
  {
   "cell_type": "markdown",
   "metadata": {},
   "source": [
    "Feel free to apply any of the things we are discussing below to this `text` variable. For now however, we are going to work with another data format, namely JSON. \n",
    "\n",
    "## Working with JSON\n",
    "\n",
    "The Twitter API allows you to search for keywords, or just monitor a live stream of incoming tweets (optionally filtered by some keyword or geolocation constraints). Using this API is out of scope for this class, so I stored the JSON results it gives in a `pickle` file (storage format for Python objects). If you are still interested in reading how to register for the API and some of its functionality, I wrote a [blog post](http://cmry.github.io/notes/twitter-python) on it. The syntax is pretty easy; it boils down to:\n",
    "\n",
    "``` python\n",
    "import tweepy\n",
    "\n",
    "consumer_key = 'XXXXXXXXXXXXXXXXX' # own key you get after registering\n",
    "consumer_secret = 'XXXXXXXXXXXXXXXXX' # own key\n",
    "\n",
    "authentication_token = tweepy.AppAuthHandler(consumer_key, consumer_secret)\n",
    "api = tweepy.API(authentication_token)\n",
    "\n",
    "api.find('some_keyword')\n",
    "```"
   ]
  },
  {
   "cell_type": "markdown",
   "metadata": {},
   "source": [
    "> Q: What is an API?\n",
    "\n",
    "> A: Some websites provide access to their data in some simple format. This usually implies that you send out a simple query to them, and they respond with a standard format that contains the results for your query. In Twitter's example, this is a JSON with the tweet, and meta-data.\n",
    "\n",
    "Twitter wants you to validate your identity and limit your personal use of their service, which is why they require you to provide these two codes (`consumer_key` and `consumer_secret`). The `AppAuthHandler` knocks on Twitter's door, gives them these two keys and, if they are valid, they give you back a certificate (token) you can use to connect to the API. After this, you can use the `api` object to carry out certain operations (`find`, `friends`, `user_timeline` are some examples.\n",
    "\n",
    "\n",
    "Because of privacy reasons, I will not print the actual tweet here. You are welcome to expect the format for yourself though. Just uncomment `tweets[2]` and run."
   ]
  },
  {
   "cell_type": "code",
   "execution_count": 7,
   "metadata": {
    "collapsed": false
   },
   "outputs": [],
   "source": [
    "import pickle\n",
    "\n",
    "tweets = pickle.load(open('data/tweets.pickle', 'rb'))\n",
    "\n",
    "# tweets[2]"
   ]
  },
  {
   "cell_type": "markdown",
   "metadata": {},
   "source": [
    "As you can see, there is a lot of information you can recover from the JSON file of a single tweet. Besides geo information, isolated hashtags, text, retweets etc., the API also provides you with user information per tweet. This includes their name, profile description, profile colours, and activity (favourites, statuses). We can select them by simply nesting calls to the object: "
   ]
  },
  {
   "cell_type": "code",
   "execution_count": 6,
   "metadata": {
    "collapsed": false
   },
   "outputs": [
    {
     "name": "stdout",
     "output_type": "stream",
     "text": [
      "712\n",
      "tell me why McDonald's gave me a sweet tea w no ice?¿ #wtffff🙄\n"
     ]
    }
   ],
   "source": [
    "print(tweets[2]['user']['statuses_count'])\n",
    "print(tweets[2]['text'])"
   ]
  },
  {
   "cell_type": "markdown",
   "metadata": {},
   "source": [
    "## Tokenizing Tweets\n",
    "\n",
    "We will focus on the text only for this part; which I will store in a simple list. Try to fill in this regex that will tokenize the text:"
   ]
  },
  {
   "cell_type": "code",
   "execution_count": 18,
   "metadata": {
    "collapsed": false,
    "scrolled": false
   },
   "outputs": [
    {
     "data": {
      "text/plain": [
       "[['r ', 'a ', 'g ', 'd ', 't ', 'g ', 's ', 'f ', 'g ', 't ', 'n '],\n",
       " ['t ', 'u ', 'n ', 'm ', 'n ', 'n ', 'm ', 's '],\n",
       " ['l ', 'e ', 'y ', 's ', 'e ', 'e ', 'a ', 't ', 'a ', 'w ', 'o '],\n",
       " ['s ', 'a ', 'g ', 'h ', 'd ', 'o ', 's ', 'o ', 'y ', 'l '],\n",
       " ['y '],\n",
       " ['t ',\n",
       "  'e ',\n",
       "  'y ',\n",
       "  'e ',\n",
       "  'k ',\n",
       "  'f ',\n",
       "  'y ',\n",
       "  's ',\n",
       "  'e ',\n",
       "  'r ',\n",
       "  's ',\n",
       "  'f ',\n",
       "  'r '],\n",
       " ['s ', 'l ', 'u ', 'n ', 'y ', 'o ', 't ', 't ', 'f ']]"
      ]
     },
     "execution_count": 18,
     "metadata": {},
     "output_type": "execute_result"
    }
   ],
   "source": [
    "import re\n",
    "\n",
    "tokenized_tweets = []\n",
    "for tweet in tweets:\n",
    "                                        # only edit this part <--------\n",
    "    tokenized_tweets.append([x for x in re.findall('[a-z] ', tweet['text']) if x and x != ' '])\n",
    "    \n",
    "tokenized_tweets"
   ]
  },
  {
   "cell_type": "markdown",
   "metadata": {},
   "source": [
    "Now if you want to try, you can compare your own regex tokenizer to that of SpaCy. I will already fill out the results for those who don't manage to get SpaCy working.\n",
    "\n",
    "> Q: How do I install SpaCy?\n",
    "\n",
    "> A: Again, our JupyterHub doesn't have this available yet. Installation instructions for SpaCy in anaconda are [here](https://spacy.io/docs/#getting-started)."
   ]
  },
  {
   "cell_type": "code",
   "execution_count": 24,
   "metadata": {
    "collapsed": false,
    "scrolled": true
   },
   "outputs": [
    {
     "data": {
      "text/plain": [
       "[['After',\n",
       "  'a',\n",
       "  'long',\n",
       "  'weekend',\n",
       "  'RD',\n",
       "  ',',\n",
       "  '11',\n",
       "  'straight',\n",
       "  'working',\n",
       "  'days',\n",
       "  'awaits',\n",
       "  '!',\n",
       "  '#',\n",
       "  'wtffff',\n",
       "  'bring',\n",
       "  'it',\n",
       "  'on',\n",
       "  '👯'],\n",
       " ['Waitttt',\n",
       "  'u',\n",
       "  'can',\n",
       "  'zoom',\n",
       "  'in',\n",
       "  'on',\n",
       "  'instagram',\n",
       "  'pics',\n",
       "  'now',\n",
       "  '?',\n",
       "  '!',\n",
       "  '?',\n",
       "  '!',\n",
       "  '#',\n",
       "  'wtffff'],\n",
       " ['tell',\n",
       "  'me',\n",
       "  'why',\n",
       "  'McDonald',\n",
       "  \"'s\",\n",
       "  'gave',\n",
       "  'me',\n",
       "  'a',\n",
       "  'sweet',\n",
       "  'tea',\n",
       "  'w',\n",
       "  'no',\n",
       "  'ice?¿',\n",
       "  '#',\n",
       "  'wtffff🙄'],\n",
       " ['there',\n",
       "  \"'s\",\n",
       "  'a',\n",
       "  'breaking',\n",
       "  'Amish',\n",
       "  'kid',\n",
       "  'who',\n",
       "  'goes',\n",
       "  'to',\n",
       "  'my',\n",
       "  'school',\n",
       "  '#',\n",
       "  'wtffff'],\n",
       " ['Candy', 'perrreooooo', '?', '?', '#', 'WTFFFF'],\n",
       " ['I',\n",
       "  'got',\n",
       "  'one',\n",
       "  'question',\n",
       "  '...',\n",
       "  'Why',\n",
       "  'the',\n",
       "  'fu@k',\n",
       "  '30',\n",
       "  '%',\n",
       "  'of',\n",
       "  'my',\n",
       "  'followers',\n",
       "  'are',\n",
       "  'either',\n",
       "  'scammers',\n",
       "  'of',\n",
       "  'pornstars',\n",
       "  '?',\n",
       "  '?',\n",
       "  '🤔😂',\n",
       "  '@twitter',\n",
       "  '#',\n",
       "  'wtffff'],\n",
       " ['WOW',\n",
       "  'is',\n",
       "  'all',\n",
       "  'you',\n",
       "  'can',\n",
       "  'say',\n",
       "  'to',\n",
       "  'that',\n",
       "  'hit',\n",
       "  '#',\n",
       "  'wtffff',\n",
       "  '#',\n",
       "  'LSUvsWISC']]"
      ]
     },
     "execution_count": 24,
     "metadata": {},
     "output_type": "execute_result"
    }
   ],
   "source": [
    "import spacy\n",
    "nlp = spacy.load('en')\n",
    "    \n",
    "spacy_tokens = [[token.text for token in nlp(tweet['text'])] for tweet in tweets]\n",
    "spacy_tokens"
   ]
  },
  {
   "cell_type": "markdown",
   "metadata": {},
   "source": [
    "What do you think about your regex, does it cover many edge cases that you might consider are seperate tokens? How does SpaCy do? Do you think it is suitable for twitter?"
   ]
  },
  {
   "cell_type": "markdown",
   "metadata": {},
   "source": [
    "# Application Examples\n",
    "\n",
    "## Language Identification\n",
    "\n",
    "One of the things we can now do with these tokens is a task called language identification. Basically, you want to know what language a certain tweet was written in (handy if you are working on a specific language, and in general to filter languages). For this example, we will use dictionaries from English and German, and simply count how many words are in each of them."
   ]
  },
  {
   "cell_type": "code",
   "execution_count": 45,
   "metadata": {
    "collapsed": false
   },
   "outputs": [
    {
     "name": "stdout",
     "output_type": "stream",
     "text": [
      "Length English dict 25323\n",
      "Length German dict 1022\n",
      "\n",
      "Tokens in English dict 45\n",
      "Tokens in German dict 1\n",
      "\n",
      "Out of Vocabulary words: {\"'s\", '...', '👯', 'amish', 'w', 'rd', 'fu@k', 'waitttt', '#', '!', '11', 'wtffff🙄', 'a', 'ice?¿', '30', '%', 'scammers', 'wtffff', '🤔😂', 'mcdonald', '@twitter', 'perrreooooo', 'pics', 'i', ',', 'lsuvswisc', '?', 'pornstars', 'instagram', 'u'}\n"
     ]
    }
   ],
   "source": [
    "# read the wordlists, make them into a set (list with unique words)\n",
    "english = set(open('data/english-dict.txt').read().split('\\n'))\n",
    "german = set(open('data/german-dict.txt').read().split('\\n'))\n",
    "\n",
    "# flatten the lists in list for the spacy_tokens\n",
    "token_list = [token.lower() for tweet in spacy_tokens for token in tweet]\n",
    "tokens = set(token_list)\n",
    "\n",
    "# task: try to print different variables to see what they contain\n",
    "\n",
    "print(\"Length English dict\", len(english))\n",
    "print(\"Length German dict\", len(german))\n",
    "print(\"\")\n",
    "\n",
    "print(\"Tokens in English dict\", len(tokens & english))\n",
    "print(\"Tokens in German dict\", len(tokens & german))\n",
    "print(\"\")\n",
    "\n",
    "print(\"Out of Vocabulary words:\", tokens - english)"
   ]
  },
  {
   "cell_type": "markdown",
   "metadata": {},
   "source": [
    "The sets that we are using (rather than lists) allow for special comparions. You can for example say: give me the words that occur in `tokens` as well as in `english` (`tokens & english`), or give me the words that occur in `tokens` but do NOT occur in `english` (`tokens - english`). The latter would be considered as Out Of Vocabulary (OOV) words. More info [here](https://docs.python.org/2/library/sets.html#set-objects).\n",
    "\n",
    "## Frequencies and Plotting\n",
    "\n",
    "As we saw in the lecutre, once you have your tokens prepared, Python has an easy way of converting these into a list of word frequencies, namely the Counter class. To easily select the most popular words, you can append `most_common(somenumber)`."
   ]
  },
  {
   "cell_type": "code",
   "execution_count": 48,
   "metadata": {
    "collapsed": false
   },
   "outputs": [
    {
     "data": {
      "text/plain": [
       "[('#', 8),\n",
       " ('wtffff', 6),\n",
       " ('?', 6),\n",
       " ('!', 3),\n",
       " ('a', 3),\n",
       " ('my', 2),\n",
       " ('me', 2),\n",
       " (\"'s\", 2),\n",
       " ('on', 2),\n",
       " ('can', 2)]"
      ]
     },
     "execution_count": 48,
     "metadata": {},
     "output_type": "execute_result"
    }
   ],
   "source": [
    "from collections import Counter\n",
    "\n",
    "word_frequencies = Counter(token_list)\n",
    "word_frequencies.most_common(10)"
   ]
  },
  {
   "cell_type": "markdown",
   "metadata": {},
   "source": [
    "Python allows for splitting these into for example `word` and `frequency`, by using the following syntax:"
   ]
  },
  {
   "cell_type": "code",
   "execution_count": 51,
   "metadata": {
    "collapsed": true
   },
   "outputs": [],
   "source": [
    "words, frequencies = zip(*word_frequencies.items())"
   ]
  },
  {
   "cell_type": "markdown",
   "metadata": {},
   "source": [
    "Zip ties together two variables, so:"
   ]
  },
  {
   "cell_type": "code",
   "execution_count": 54,
   "metadata": {
    "collapsed": false
   },
   "outputs": [
    {
     "data": {
      "text/plain": [
       "[('a', 'b')]"
      ]
     },
     "execution_count": 54,
     "metadata": {},
     "output_type": "execute_result"
    }
   ],
   "source": [
    "example = list(zip(\"a\", \"b\"))\n",
    "example"
   ]
  },
  {
   "cell_type": "markdown",
   "metadata": {},
   "source": [
    "The `zip(*...)` sytnax (using the `*` after `(`) unties them again:"
   ]
  },
  {
   "cell_type": "code",
   "execution_count": 57,
   "metadata": {
    "collapsed": false
   },
   "outputs": [
    {
     "data": {
      "text/plain": [
       "('a',)"
      ]
     },
     "execution_count": 57,
     "metadata": {},
     "output_type": "execute_result"
    }
   ],
   "source": [
    "a, b  = zip(*example)\n",
    "a"
   ]
  },
  {
   "cell_type": "markdown",
   "metadata": {},
   "source": [
    "We can plot these using `matplotlib`. We can go several ways, first let's try to see how many words have a certain frequency (frequency on x, word frequency on y, i.e. over 60 words have frequency 1). What it shows here is us plotting a list of frequencies as a histogram (`plt.hist`).\n",
    "\n",
    "> Q: How do I install matplotlib?\n",
    "\n",
    "> A: Again, not on JupyterHub (*sigh*), but should be included in Anaconda."
   ]
  },
  {
   "cell_type": "code",
   "execution_count": 63,
   "metadata": {
    "collapsed": false
   },
   "outputs": [
    {
     "data": {
      "image/png": "[encoded data removed]",
      "text/plain": [
       "<matplotlib.figure.Figure at 0x7fbc1f1cf550>"
      ]
     },
     "metadata": {},
     "output_type": "display_data"
    }
   ],
   "source": [
    "%matplotlib inline  \n",
    "# above shows the plots in jupyter (fancy)\n",
    "\n",
    "\n",
    "import matplotlib.pyplot as plt\n",
    "\n",
    "plt.hist(frequencies)\n",
    "plt.show()"
   ]
  },
  {
   "cell_type": "markdown",
   "metadata": {},
   "source": [
    "Sadly, `matplotlib` cannot handle actual string words in a basic example, so we need to use the Counter class to sort them for us so we can enumerate the frequencies (i.e. the word with rank 1 (most common) has frequency x, etc). This we do by just passing a large number to most_common, or by using the length (bit neater):"
   ]
  },
  {
   "cell_type": "code",
   "execution_count": 67,
   "metadata": {
    "collapsed": false
   },
   "outputs": [],
   "source": [
    "ranked = word_frequencies.most_common(len(word_frequencies))\n",
    "ranks, frequencies = zip(*[(rank, pairs[1]) for rank, pairs in enumerate(ranked)])"
   ]
  },
  {
   "cell_type": "markdown",
   "metadata": {},
   "source": [
    "After we can use a line chart `plt.plot` and insert the `x` and `y` variables:"
   ]
  },
  {
   "cell_type": "code",
   "execution_count": 71,
   "metadata": {
    "collapsed": false
   },
   "outputs": [
    {
     "data": {
      "text/plain": [
       "[<matplotlib.lines.Line2D at 0x7fbc1f1916d8>]"
      ]
     },
     "execution_count": 71,
     "metadata": {},
     "output_type": "execute_result"
    },
    {
     "data": {
      "image/png": "[encoded data removed]",
      "text/plain": [
       "<matplotlib.figure.Figure at 0x7fbc1dcbcdd8>"
      ]
     },
     "metadata": {},
     "output_type": "display_data"
    }
   ],
   "source": [
    "plt.plot(frequencies, ranks)"
   ]
  }
 ],
 "metadata": {
  "kernelspec": {
   "display_name": "Python 3",
   "language": "python",
   "name": "python3"
  },
  "language_info": {
   "codemirror_mode": {
    "name": "ipython",
    "version": 3
   },
   "file_extension": ".py",
   "mimetype": "text/x-python",
   "name": "python",
   "nbconvert_exporter": "python",
   "pygments_lexer": "ipython3",
   "version": "3.5.2"
  }
 },
 "nbformat": 4,
 "nbformat_minor": 1
}
