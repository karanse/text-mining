{
 "cells": [
  {
   "cell_type": "markdown",
   "metadata": {},
   "source": [
    "# Pre-processing Excersises\n",
    "\n",
    "**Note**: this week there are no tasks, nothing will be graded. You are free to ask questions regarding these excersises though! What we will do is try to apply some of the code shown in the lectures to kind of get things rolling. As I probably mention in the lecture, it's not important for you to completely understand all the code shown. This will probably make more sense at the end of your Data Processing lectures. For the time being, try to kind of understand what each function is doing, and more importantly, make sure you understand what each component in the pre-processing pipeline does on a higher level.\n",
    "\n",
    "## Retrieving HTML\n",
    "\n",
    "We will be using [this](http://www.imdb.com/title/tt0088763/synopsis?ref_=tt_ql_stry_3) page. "
   ]
  },
  {
   "cell_type": "code",
   "execution_count": null,
   "metadata": {
    "collapsed": true
   },
   "outputs": [],
   "source": [
    "import urllib3\n",
    "\n",
    "def html_to_string(url):\n",
    "    \"\"\"Extracts html for a given url.\"\"\"\n",
    "    \n",
    "    "
   ]
  }
 ],
 "metadata": {
  "kernelspec": {
   "display_name": "Python 3",
   "language": "python",
   "name": "python3"
  },
  "language_info": {
   "codemirror_mode": {
    "name": "ipython",
    "version": 3
   },
   "file_extension": ".py",
   "mimetype": "text/x-python",
   "name": "python",
   "nbconvert_exporter": "python",
   "pygments_lexer": "ipython3",
   "version": "3.5.2"
  }
 },
 "nbformat": 4,
 "nbformat_minor": 1
}
